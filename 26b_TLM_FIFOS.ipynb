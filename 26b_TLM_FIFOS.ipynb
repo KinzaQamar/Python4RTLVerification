{
 "cells": [
  {
   "cell_type": "markdown",
   "metadata": {},
   "source": [
    "Remember to use the >> button above to run this code."
   ]
  },
  {
   "cell_type": "markdown",
   "metadata": {},
   "source": [
    "# TLM FIFOS"
   ]
  },
  {
   "cell_type": "markdown",
   "metadata": {},
   "source": [
    "## NonBlocking Functions in the UVM"
   ]
  },
  {
   "cell_type": "code",
   "execution_count": 1,
   "metadata": {},
   "outputs": [
    {
     "name": "stdout",
     "output_type": "stream",
     "text": [
      "Put 0\n",
      "Failed to put 1. Sleep 0.50 seconds\n",
      "Got 0\n",
      "Failed to get. Sleep 0.1 seconds\n",
      "Failed to get. Sleep 0.6 seconds\n",
      "Put 1\n",
      "Failed to put 2. Sleep 0.60 seconds\n",
      "Got 1\n",
      "Failed to get. Sleep 0.1 seconds\n",
      "Failed to get. Sleep 0.3 seconds\n",
      "Put 2\n",
      "Got 2\n",
      "Failed to get. Sleep 0.3 seconds\n",
      "Failed to get. Sleep 1.0 seconds\n"
     ]
    }
   ],
   "source": [
    "from pyuvm import *\n",
    "import time\n",
    "import random\n",
    "class Producer(uvm_component):\n",
    "    def build_phase(self):\n",
    "        self.pp = uvm_put_port(\"pp\", self)\n",
    "    \n",
    "    def run_phase(self):\n",
    "        self.raise_objection()\n",
    "        for nn in range(3):\n",
    "            success = False\n",
    "            while not success:\n",
    "                success = self.pp.try_put(nn)\n",
    "                if success:\n",
    "                    print(f\"Put {nn}\")\n",
    "                else:\n",
    "                    sleep_time = random.randint(1,10)/10\n",
    "                    print(f\"Failed to put {nn}. Sleep {sleep_time:.2f} seconds\")\n",
    "                    time.sleep(sleep_time)\n",
    "        time.sleep(1)\n",
    "        self.drop_objection()\n",
    "        \n",
    "class Consumer(uvm_component):\n",
    "    def build_phase(self):\n",
    "        self.gp = uvm_get_port(\"gp\", self)\n",
    "    \n",
    "    def run_phase(self):\n",
    "        while not ObjectionHandler().run_phase_complete():\n",
    "            success = False\n",
    "            while not success and not ObjectionHandler().run_phase_complete():\n",
    "                success, nn = self.gp.try_get()\n",
    "                if success:\n",
    "                    print(f\"Got {nn}\")\n",
    "                else:\n",
    "                    sleep_time = random.randint(1,10)/10\n",
    "                    print(f\"Failed to get. Sleep {sleep_time:.1f} seconds\")\n",
    "                    time.sleep(sleep_time)\n",
    "                    \n",
    "\n",
    "class FIFOTest(uvm_test):\n",
    "    def build_phase(self):\n",
    "        self.prod = Producer(\"prod\", self)\n",
    "        self.cons = Consumer(\"cons\", self)\n",
    "        self.fifo = uvm_tlm_fifo(\"fifo\", self)\n",
    "    \n",
    "    def connect_phase(self):\n",
    "        self.prod.pp.connect(self.fifo.put_export)\n",
    "        self.cons.gp.connect(self.fifo.get_export)\n",
    "\n",
    "uvm_root().run_test(\"FIFOTest\")"
   ]
  },
  {
   "cell_type": "code",
   "execution_count": null,
   "metadata": {},
   "outputs": [],
   "source": []
  }
 ],
 "metadata": {
  "kernelspec": {
   "display_name": "Python 3",
   "language": "python",
   "name": "python3"
  },
  "language_info": {
   "codemirror_mode": {
    "name": "ipython",
    "version": 3
   },
   "file_extension": ".py",
   "mimetype": "text/x-python",
   "name": "python",
   "nbconvert_exporter": "python",
   "pygments_lexer": "ipython3",
   "version": "3.8.3"
  }
 },
 "nbformat": 4,
 "nbformat_minor": 4
}
