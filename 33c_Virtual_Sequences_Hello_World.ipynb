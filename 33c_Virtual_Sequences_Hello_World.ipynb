{
 "cells": [
  {
   "cell_type": "markdown",
   "metadata": {},
   "source": [
    "# Sequence Items, Sequencers, and Sequences"
   ]
  },
  {
   "cell_type": "code",
   "execution_count": 1,
   "metadata": {},
   "outputs": [
    {
     "name": "stdout",
     "output_type": "stream",
     "text": [
      "Hello World\n"
     ]
    }
   ],
   "source": [
    "from pyuvm import *\n",
    "\n",
    "class HelloSeq(uvm_sequence):\n",
    "    def body(self):\n",
    "      print(\"Hello World\")\n",
    "\n",
    "class HelloTest(uvm_test):\n",
    "    def run_phase(self):\n",
    "        self.raise_objection()\n",
    "        self.hello = HelloSeq(\"hello\")\n",
    "        self.hello.start()\n",
    "        self.drop_objection()\n",
    "\n",
    "uvm_root().run_test(\"HelloTest\")"
   ]
  },
  {
   "cell_type": "code",
   "execution_count": null,
   "metadata": {},
   "outputs": [],
   "source": []
  }
 ],
 "metadata": {
  "kernelspec": {
   "display_name": "Python 3",
   "language": "python",
   "name": "python3"
  },
  "language_info": {
   "codemirror_mode": {
    "name": "ipython",
    "version": 3
   },
   "file_extension": ".py",
   "mimetype": "text/x-python",
   "name": "python",
   "nbconvert_exporter": "python",
   "pygments_lexer": "ipython3",
   "version": "3.8.3"
  }
 },
 "nbformat": 4,
 "nbformat_minor": 4
}
