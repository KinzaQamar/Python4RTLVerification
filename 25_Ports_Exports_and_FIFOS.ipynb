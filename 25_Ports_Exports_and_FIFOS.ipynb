{
 "cells": [
  {
   "cell_type": "markdown",
   "metadata": {},
   "source": [
    "# TLM Ports and Exports\n",
    "\n",
    "Note: These examples must be run in a freshly restarted notebook kernal.  Use the circular arrow icon above to restart the kernal.  Alternately, you can export the Python and run it at the command line.\n",
    "\n",
    "## UVM TLM Export Classes"
   ]
  },
  {
   "cell_type": "code",
   "execution_count": null,
   "metadata": {
    "scrolled": true
   },
   "outputs": [],
   "source": [
    "from pyuvm import *\n",
    "\n",
    "class example_export(uvm_put_export):\n",
    "    def put(self, datum):\n",
    "        print(f\"{self.get_name()} got {datum}!\", end=\" \")\n",
    "\n",
    "class port_test(uvm_test):\n",
    "    def build_phase(self):\n",
    "        self.pp  = uvm_put_port(\"pp\", self)\n",
    "        self.eex = example_export(\"eex\", self)\n",
    "    \n",
    "    def connect_phase(self):\n",
    "        self.pp.connect(self.eex)\n",
    "    \n",
    "    def run_phase(self):\n",
    "        self.raise_objection()\n",
    "        for nn in range(3):\n",
    "            self.pp.put(nn)\n",
    "        self.drop_objection()\n",
    "        \n",
    "uvm_root().run_test(\"port_test\")"
   ]
  },
  {
   "cell_type": "markdown",
   "metadata": {},
   "source": [
    "### Connection Error Checking\n",
    "\n",
    "Here we try to connect a uvm_get_export to a uvm_put_port"
   ]
  },
  {
   "cell_type": "code",
   "execution_count": null,
   "metadata": {
    "scrolled": true
   },
   "outputs": [],
   "source": [
    "from pyuvm import *\n",
    "\n",
    "class example_export(uvm_get_export): #oop a get export\n",
    "    def put(self, datum):\n",
    "        print(f\"{self.get_name()} got {datum}!\", end=\" \")\n",
    "\n",
    "class port_test(uvm_test):\n",
    "    def build_phase(self):\n",
    "        self.pp  = uvm_put_port(\"pp\", self)\n",
    "        self.eex = example_export(\"eex\", self)\n",
    "    \n",
    "    def connect_phase(self):\n",
    "        self.pp.connect(self.eex)\n",
    "    \n",
    "    def run_phase(self):\n",
    "        self.raise_objection()\n",
    "        for nn in range(3):\n",
    "            self.pp.put(nn)\n",
    "        self.drop_objection()\n",
    "        \n",
    "uvm_root().run_test(\"port_test\")"
   ]
  },
  {
   "cell_type": "markdown",
   "metadata": {},
   "source": [
    "### Non-Blocking Exports"
   ]
  },
  {
   "cell_type": "code",
   "execution_count": 1,
   "metadata": {
    "scrolled": true
   },
   "outputs": [
    {
     "name": "stdout",
     "output_type": "stream",
     "text": [
      "Fail \n",
      "Got 39\n",
      "\n",
      "Got 40\n",
      "Fail Fail \n",
      "Got 2\n"
     ]
    }
   ],
   "source": [
    "from pyuvm import *\n",
    "import random\n",
    "\n",
    "class example_nb_get_export(uvm_get_export): #oop a get export\n",
    "    def try_get(self):\n",
    "        if random.randint(0,1) == 0:\n",
    "            print(f\"Fail\", end=\" \")\n",
    "            return False, None\n",
    "        else:\n",
    "            return True, random.randint(0,50)\n",
    "        \n",
    "\n",
    "class nb_get_test(uvm_test):\n",
    "    def build_phase(self):\n",
    "        self.nbgp  = uvm_nonblocking_get_port(\"pp\", self)\n",
    "        self.nbex = example_nb_get_export(\"nbex\", self)\n",
    "    \n",
    "    def connect_phase(self):\n",
    "        self.nbgp.connect(self.nbex)\n",
    "    \n",
    "    def run_phase(self):\n",
    "        self.raise_objection()\n",
    "        for nn in range(3):\n",
    "            success = False\n",
    "            while not success:\n",
    "                success, numb = self.nbgp.try_get()\n",
    "            print(f\"\\nGot {numb}\")\n",
    "        self.drop_objection()\n",
    "        \n",
    "uvm_root().run_test(\"nb_get_test\")"
   ]
  },
  {
   "cell_type": "code",
   "execution_count": null,
   "metadata": {},
   "outputs": [],
   "source": []
  }
 ],
 "metadata": {
  "kernelspec": {
   "display_name": "Python 3",
   "language": "python",
   "name": "python3"
  },
  "language_info": {
   "codemirror_mode": {
    "name": "ipython",
    "version": 3
   },
   "file_extension": ".py",
   "mimetype": "text/x-python",
   "name": "python",
   "nbconvert_exporter": "python",
   "pygments_lexer": "ipython3",
   "version": "3.8.3"
  }
 },
 "nbformat": 4,
 "nbformat_minor": 4
}
