{
 "cells": [
  {
   "cell_type": "markdown",
   "source": [
    "# Useful sequence operations"
   ],
   "metadata": {}
  },
  {
   "cell_type": "markdown",
   "source": [
    "## Checking for membership"
   ],
   "metadata": {}
  },
  {
   "cell_type": "code",
   "execution_count": 1,
   "source": [
    "numbs = [1, 2, \"three\", 'four', 5]\n",
    "print(\"5 in list:\", 5 in numbs)\n",
    "print(\"five not in list:\",\"five\" not in numbs)"
   ],
   "outputs": [
    {
     "output_type": "stream",
     "name": "stdout",
     "text": [
      "5 in list: True\n",
      "five not in list: True\n"
     ]
    }
   ],
   "metadata": {}
  },
  {
   "cell_type": "markdown",
   "source": [
    "## Find the number of items in a sequence"
   ],
   "metadata": {}
  },
  {
   "cell_type": "code",
   "execution_count": 15,
   "source": [
    "primary_colors=('red', 'yellow', 'blue')\n",
    "print(\"How many primary colors?\",len(primary_colors))"
   ],
   "outputs": [
    {
     "output_type": "stream",
     "name": "stdout",
     "text": [
      "How many primary colors? 3\n"
     ]
    }
   ],
   "metadata": {}
  },
  {
   "cell_type": "markdown",
   "source": [
    "## Adding sequences"
   ],
   "metadata": {}
  },
  {
   "cell_type": "code",
   "execution_count": 3,
   "source": [
    "pets = \"cats \" + \"and\" + \" dogs\"\n",
    "digits = (0,1) + (2,3)\n",
    "print(\"pets:\", pets)\n",
    "print(\"digits:\", digits)"
   ],
   "outputs": [
    {
     "output_type": "stream",
     "name": "stdout",
     "text": [
      "pets: cats and dogs\n",
      "digits: (0, 1, 2, 3)\n"
     ]
    }
   ],
   "metadata": {}
  },
  {
   "cell_type": "markdown",
   "source": [
    "## Repeating sequencs"
   ],
   "metadata": {}
  },
  {
   "cell_type": "code",
   "execution_count": 4,
   "source": [
    "double_tuple = (1, 2) * 2\n",
    "print(\"double_tuple:\", double_tuple)\n",
    "horiz_bar = \"-\" * 15\n",
    "print(\"horiz_bar\", horiz_bar)"
   ],
   "outputs": [
    {
     "output_type": "stream",
     "name": "stdout",
     "text": [
      "double_tuple: (1, 2, 1, 2)\n",
      "horiz_bar ---------------\n"
     ]
    }
   ],
   "metadata": {}
  },
  {
   "cell_type": "code",
   "execution_count": 9,
   "source": [
    "width = 20\n",
    "word = \"pyuvm\"\n",
    "word_len = len(word)\n",
    "plus_around_word = width - word_len - 4\n",
    "left_plus = plus_around_word / 2\n",
    "if left_plus.is_integer():\n",
    "    right_plus = left_plus\n",
    "else:\n",
    "    left_plus = int(left_plus)\n",
    "    right_plus = left_plus - 1\n",
    "print(\"+\" * width)\n",
    "print(\"+\" * left_plus, f\"  {word}  \", \"+\" * right_plus)\n",
    "print(\"+\" * width)"
   ],
   "outputs": [
    {
     "output_type": "stream",
     "name": "stdout",
     "text": [
      "++++++++++++++++++++\n",
      "+++++   pyuvm   ++++\n",
      "++++++++++++++++++++\n"
     ]
    }
   ],
   "metadata": {}
  },
  {
   "cell_type": "markdown",
   "source": [
    "## Index into a sequence"
   ],
   "metadata": {}
  },
  {
   "cell_type": "code",
   "execution_count": 12,
   "source": [
    "print('\"abcdef\"[2] =',\"abcdef\"[2])\n",
    "RayList = list(\"abcdef\")\n",
    "print(\"Index 3 of RayList =\",RayList[3])"
   ],
   "outputs": [
    {
     "output_type": "stream",
     "name": "stdout",
     "text": [
      "\"abcdef\"[2] = c\n",
      "Index 3 of RayList = d\n"
     ]
    }
   ],
   "metadata": {}
  },
  {
   "cell_type": "markdown",
   "source": [
    "# Create a two dimensional \"array\""
   ],
   "metadata": {}
  },
  {
   "cell_type": "code",
   "execution_count": 10,
   "source": [
    "\"\"\"\n",
    "           0    1    2\n",
    "        0 \"X\", \"Y\", \"Z\"\n",
    "        1 \"a\", \"b\", \"c\"\n",
    "\"\"\"\n",
    "TwoDim=[[\"X\",\"Y\",\"Z\"],[\"a\",\"b\",\"c\"]]\n",
    "print(\"XYZ\\nabc at [0][2] =\", TwoDim[0][2])"
   ],
   "outputs": [
    {
     "output_type": "stream",
     "name": "stdout",
     "text": [
      "XYZ\n",
      "abc at [0][2] = Z\n"
     ]
    }
   ],
   "metadata": {}
  },
  {
   "cell_type": "markdown",
   "source": [
    "## Access a range of sequence items"
   ],
   "metadata": {}
  },
  {
   "cell_type": "code",
   "execution_count": 15,
   "source": [
    "letters =\"abcdefghi\"\n",
    "print(\"'abcdefghi'[1:5] = \", letters[1:5])"
   ],
   "outputs": [
    {
     "output_type": "stream",
     "name": "stdout",
     "text": [
      "'abcdefghi'[1:5] =  bcde\n"
     ]
    }
   ],
   "metadata": {}
  },
  {
   "cell_type": "markdown",
   "source": [
    "## Access a range of sequence objects using a step greater than one"
   ],
   "metadata": {}
  },
  {
   "cell_type": "code",
   "execution_count": 13,
   "source": [
    "first10 = list(range(11))\n",
    "print(\"first10[0:9:2] = \",first10[0:9:2])"
   ],
   "outputs": [
    {
     "output_type": "stream",
     "name": "stdout",
     "text": [
      "first10[0:9:2] =  [0, 2, 4, 6, 8]\n"
     ]
    }
   ],
   "metadata": {}
  },
  {
   "cell_type": "markdown",
   "source": [
    "## Find the maximum and minimum objects in a sequence"
   ],
   "metadata": {}
  },
  {
   "cell_type": "markdown",
   "source": [],
   "metadata": {}
  },
  {
   "cell_type": "code",
   "execution_count": 15,
   "source": [
    "letters = \"aBcDeF\"\n",
    "print(\"max letter:\", max(letters))\n",
    "print(\"max letter with casefold:\", max(letters, key=str.casefold))\n",
    "print(\"min letter:\", min(letters))\n",
    "print(\"min letter with casefold:\", min(letters, key=str.casefold))"
   ],
   "outputs": [
    {
     "output_type": "stream",
     "name": "stdout",
     "text": [
      "max letter: e\n",
      "max letter with casefold: F\n",
      "min letter: B\n",
      "min letter with casefold: a\n"
     ]
    }
   ],
   "metadata": {}
  },
  {
   "cell_type": "markdown",
   "source": [
    "## Find the index of values in a sequence"
   ],
   "metadata": {}
  },
  {
   "cell_type": "code",
   "execution_count": 1,
   "source": [
    "#      0123456789A <-- Indices  msg[0] == \"M\"\n",
    "msg = \"Mississippi\"\n",
    "print(\"index of first s:\", msg.index('s'))\n",
    "print(\"index of first s after 3:\",msg.index('s',4))\n",
    "print(\"index of first s between 5 and 7:\", msg.index('s',5,8))"
   ],
   "outputs": [
    {
     "output_type": "stream",
     "name": "stdout",
     "text": [
      "index of first s: 2\n",
      "index of first s after 3: 5\n",
      "index of first s between 5 and 7: 5\n"
     ]
    }
   ],
   "metadata": {}
  },
  {
   "cell_type": "markdown",
   "source": [
    "## Count the number of values in a sequence"
   ],
   "metadata": {}
  },
  {
   "cell_type": "code",
   "execution_count": 20,
   "source": [
    "print(\"s's in Mississippi:\", \"Mississippi\".count('s'))\n",
    "print(\"q's in Mississippi:\", \"Mississippi\".count('q'))"
   ],
   "outputs": [
    {
     "output_type": "stream",
     "name": "stdout",
     "text": [
      "s's in Mississippi: 4\n",
      "q's in Mississippi: 0\n"
     ]
    }
   ],
   "metadata": {}
  },
  {
   "cell_type": "code",
   "execution_count": null,
   "source": [],
   "outputs": [],
   "metadata": {}
  }
 ],
 "metadata": {
  "kernelspec": {
   "display_name": "Python 3",
   "language": "python",
   "name": "python3"
  },
  "language_info": {
   "name": "python",
   "version": "3.8.3",
   "mimetype": "text/x-python",
   "codemirror_mode": {
    "name": "ipython",
    "version": 3
   },
   "pygments_lexer": "ipython3",
   "nbconvert_exporter": "python",
   "file_extension": ".py"
  }
 },
 "nbformat": 4,
 "nbformat_minor": 4
}