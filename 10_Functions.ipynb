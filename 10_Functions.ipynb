{
 "cells": [
  {
   "cell_type": "markdown",
   "metadata": {},
   "source": [
    "# Functions"
   ]
  },
  {
   "cell_type": "code",
   "execution_count": 3,
   "metadata": {},
   "outputs": [
    {
     "name": "stdout",
     "output_type": "stream",
     "text": [
      "Before 10\n",
      "Return None\n",
      " After 10\n"
     ]
    }
   ],
   "source": [
    "def I_am_pure(xx):\n",
    "    xx == 5\n",
    "    \n",
    "yy = 10\n",
    "print(\"Before\", yy)\n",
    "print(\"Return\", I_am_pure(yy))\n",
    "print(\" After\", yy)"
   ]
  },
  {
   "cell_type": "markdown",
   "metadata": {},
   "source": [
    "## Defining Functions\n",
    "\n",
    "```\n",
    "def <function_name>([optional arguments]):\n",
    "  <statement>\n",
    "  <statement>\n",
    "```\n",
    "\n",
    "### Functions as Objects"
   ]
  },
  {
   "cell_type": "code",
   "execution_count": 21,
   "metadata": {},
   "outputs": [
    {
     "name": "stdout",
     "output_type": "stream",
     "text": [
      "type(bb):  <class 'function'>\n",
      "Ayy!\n"
     ]
    }
   ],
   "source": [
    "def aa():\n",
    "    print(\"Ayy!\")\n",
    "\n",
    "bb = aa\n",
    "print(\"type(bb): \", type(bb))\n",
    "\n",
    "bb()"
   ]
  },
  {
   "cell_type": "code",
   "execution_count": 18,
   "metadata": {},
   "outputs": [
    {
     "name": "stdout",
     "output_type": "stream",
     "text": [
      "When Mr of Bag End "
     ]
    }
   ],
   "source": [
    "words = \"When Mr Bilbo Baggins of Bag End announced\".split()\n",
    "\n",
    "def short_words_only(word):\n",
    "    return len(word) < 5\n",
    "\n",
    "for sw in filter(short_words_only, words):\n",
    "    print(sw, end = \" \")"
   ]
  },
  {
   "cell_type": "code",
   "execution_count": 22,
   "metadata": {},
   "outputs": [
    {
     "name": "stdout",
     "output_type": "stream",
     "text": [
      "True\n"
     ]
    }
   ],
   "source": [
    "def short_words_only(word):\n",
    "    return len(word) < 5\n",
    "\n",
    "print(short_words_only(\"UVM\"))"
   ]
  },
  {
   "cell_type": "markdown",
   "metadata": {},
   "source": [
    "## Arguments"
   ]
  },
  {
   "cell_type": "markdown",
   "metadata": {},
   "source": [
    "## Defining Arguments"
   ]
  },
  {
   "cell_type": "code",
   "execution_count": 24,
   "metadata": {},
   "outputs": [
    {
     "name": "stdout",
     "output_type": "stream",
     "text": [
      "0\n"
     ]
    }
   ],
   "source": [
    "def inc_mod_3(xx):\n",
    "    return (xx+1)%3\n",
    "\n",
    "print(inc_mod_3(5))"
   ]
  },
  {
   "cell_type": "code",
   "execution_count": 25,
   "metadata": {
    "scrolled": true
   },
   "outputs": [
    {
     "ename": "TypeError",
     "evalue": "inc_mod_3() missing 1 required positional argument: 'xx'",
     "output_type": "error",
     "traceback": [
      "\u001b[0;31m---------------------------------------------------------------------------\u001b[0m",
      "\u001b[0;31mTypeError\u001b[0m                                 Traceback (most recent call last)",
      "\u001b[0;32m<ipython-input-25-0c3e01a2dc5c>\u001b[0m in \u001b[0;36m<module>\u001b[0;34m\u001b[0m\n\u001b[1;32m      2\u001b[0m     \u001b[0;32mreturn\u001b[0m \u001b[0;34m(\u001b[0m\u001b[0mxx\u001b[0m\u001b[0;34m+\u001b[0m\u001b[0;36m1\u001b[0m\u001b[0;34m)\u001b[0m\u001b[0;34m%\u001b[0m\u001b[0;36m3\u001b[0m\u001b[0;34m\u001b[0m\u001b[0;34m\u001b[0m\u001b[0m\n\u001b[1;32m      3\u001b[0m \u001b[0;34m\u001b[0m\u001b[0m\n\u001b[0;32m----> 4\u001b[0;31m \u001b[0mprint\u001b[0m\u001b[0;34m(\u001b[0m\u001b[0minc_mod_3\u001b[0m\u001b[0;34m(\u001b[0m\u001b[0;34m)\u001b[0m\u001b[0;34m)\u001b[0m\u001b[0;34m\u001b[0m\u001b[0;34m\u001b[0m\u001b[0m\n\u001b[0m",
      "\u001b[0;31mTypeError\u001b[0m: inc_mod_3() missing 1 required positional argument: 'xx'"
     ]
    }
   ],
   "source": [
    "def inc_mod_3(xx):\n",
    "    return (xx+1)%3\n",
    "\n",
    "print(inc_mod_3())"
   ]
  },
  {
   "cell_type": "code",
   "execution_count": 27,
   "metadata": {
    "scrolled": true
   },
   "outputs": [
    {
     "name": "stdout",
     "output_type": "stream",
     "text": [
      "1\n"
     ]
    }
   ],
   "source": [
    "def inc_mod_3(xx=0):\n",
    "    return (xx+1)%3\n",
    "\n",
    "print(inc_mod_3())"
   ]
  },
  {
   "cell_type": "code",
   "execution_count": 31,
   "metadata": {},
   "outputs": [
    {
     "name": "stdout",
     "output_type": "stream",
     "text": [
      "8\n"
     ]
    }
   ],
   "source": [
    "def my_power(base, exponent):\n",
    "    return base**exponent\n",
    "print(my_power(2,3))"
   ]
  },
  {
   "cell_type": "code",
   "execution_count": 32,
   "metadata": {},
   "outputs": [
    {
     "name": "stdout",
     "output_type": "stream",
     "text": [
      "1\n"
     ]
    }
   ],
   "source": [
    "def my_power(base, exponent=0):\n",
    "    return base**exponent\n",
    "print(my_power(2))"
   ]
  },
  {
   "cell_type": "code",
   "execution_count": 33,
   "metadata": {},
   "outputs": [
    {
     "ename": "SyntaxError",
     "evalue": "non-default argument follows default argument (<ipython-input-33-a05d3ede3e77>, line 1)",
     "output_type": "error",
     "traceback": [
      "\u001b[0;36m  File \u001b[0;32m\"<ipython-input-33-a05d3ede3e77>\"\u001b[0;36m, line \u001b[0;32m1\u001b[0m\n\u001b[0;31m    def my_power(base=0, exponent):\u001b[0m\n\u001b[0m                 ^\u001b[0m\n\u001b[0;31mSyntaxError\u001b[0m\u001b[0;31m:\u001b[0m non-default argument follows default argument\n"
     ]
    }
   ],
   "source": [
    "def my_power(base=0, exponent):\n",
    "    return base**exponent\n",
    "print(my_power(2))"
   ]
  },
  {
   "cell_type": "code",
   "execution_count": 35,
   "metadata": {},
   "outputs": [
    {
     "name": "stdout",
     "output_type": "stream",
     "text": [
      "1\n"
     ]
    }
   ],
   "source": [
    "def my_power(base=0, exponent=0):\n",
    "    return base**exponent\n",
    "print(my_power())"
   ]
  },
  {
   "cell_type": "markdown",
   "metadata": {},
   "source": [
    "## Calling Functions with Arguments"
   ]
  },
  {
   "cell_type": "code",
   "execution_count": 40,
   "metadata": {
    "scrolled": true
   },
   "outputs": [
    {
     "name": "stdout",
     "output_type": "stream",
     "text": [
      "positional:   1.73\n",
      "keyword args: 1.73\n"
     ]
    }
   ],
   "source": [
    "import math\n",
    "def vec_length(x,y,z):\n",
    "    return math.sqrt(x**2 + y**2 + z**2)\n",
    "\n",
    "print(f\"positional:   {vec_length(1,1,1):.2f}\")\n",
    "print(f\"keyword args: {vec_length(x=1, y=1, z=1):.2f}\")\n"
   ]
  },
  {
   "cell_type": "code",
   "execution_count": 44,
   "metadata": {
    "scrolled": true
   },
   "outputs": [
    {
     "ename": "SyntaxError",
     "evalue": "positional argument follows keyword argument (<fstring>, line 5)",
     "output_type": "error",
     "traceback": [
      "\u001b[0;36m  File \u001b[0;32m\"<fstring>\"\u001b[0;36m, line \u001b[0;32m5\u001b[0m\n\u001b[0;31mSyntaxError\u001b[0m\u001b[0;31m:\u001b[0m positional argument follows keyword argument\n"
     ]
    }
   ],
   "source": [
    "import math\n",
    "def vec_length(x,y,z):\n",
    "    return math.sqrt(x**2 + y**2 + z**2)\n",
    "\n",
    "print(f\"{vec_length(y=1, 2, 3):.2f}\")\n"
   ]
  },
  {
   "cell_type": "markdown",
   "metadata": {},
   "source": [
    "## Defining Variable Numbers of Arguments"
   ]
  },
  {
   "cell_type": "code",
   "execution_count": 77,
   "metadata": {},
   "outputs": [
    {
     "name": "stdout",
     "output_type": "stream",
     "text": [
      "three:1.73\n",
      "four :2.00\n"
     ]
    }
   ],
   "source": [
    "import math\n",
    "def print_vec_length(point, label=\"\", fmt=\"{:2.2f}\"):\n",
    "    sqr_sum = 0\n",
    "    for pp in point:\n",
    "        sqr_sum += pp**2\n",
    "    len = math.sqrt(sqr_sum)\n",
    "    f_str = f\"{label}{fmt}\"\n",
    "    print(f_str.format(len))\n",
    "\n",
    "print_vec_length((1,1,1), label=\"three:\")\n",
    "print_vec_length((1,1,1,1),label=\"four :\")\n"
   ]
  },
  {
   "cell_type": "markdown",
   "metadata": {},
   "source": [
    "### The Unpacking Operator"
   ]
  },
  {
   "cell_type": "code",
   "execution_count": 79,
   "metadata": {},
   "outputs": [
    {
     "name": "stdout",
     "output_type": "stream",
     "text": [
      "1 2 3\n"
     ]
    }
   ],
   "source": [
    "aa, bb, cc, = (1, 2, 3)\n",
    "print(aa, bb, cc)"
   ]
  },
  {
   "cell_type": "code",
   "execution_count": 90,
   "metadata": {
    "scrolled": true
   },
   "outputs": [
    {
     "ename": "ValueError",
     "evalue": "too many values to unpack (expected 3)",
     "output_type": "error",
     "traceback": [
      "\u001b[0;31m---------------------------------------------------------------------------\u001b[0m",
      "\u001b[0;31mValueError\u001b[0m                                Traceback (most recent call last)",
      "\u001b[0;32m<ipython-input-90-2e3726430f6b>\u001b[0m in \u001b[0;36m<module>\u001b[0;34m\u001b[0m\n\u001b[0;32m----> 1\u001b[0;31m \u001b[0maa\u001b[0m\u001b[0;34m,\u001b[0m \u001b[0mbb\u001b[0m\u001b[0;34m,\u001b[0m \u001b[0mcc\u001b[0m \u001b[0;34m=\u001b[0m \u001b[0;34m(\u001b[0m\u001b[0;36m1\u001b[0m\u001b[0;34m,\u001b[0m \u001b[0;36m2\u001b[0m\u001b[0;34m,\u001b[0m \u001b[0;36m3\u001b[0m\u001b[0;34m,\u001b[0m \u001b[0;36m4\u001b[0m\u001b[0;34m,\u001b[0m \u001b[0;36m5\u001b[0m\u001b[0;34m)\u001b[0m\u001b[0;34m\u001b[0m\u001b[0;34m\u001b[0m\u001b[0m\n\u001b[0m",
      "\u001b[0;31mValueError\u001b[0m: too many values to unpack (expected 3)"
     ]
    }
   ],
   "source": [
    "aa, bb, cc = (1, 2, 3, 4, 5)"
   ]
  },
  {
   "cell_type": "code",
   "execution_count": 91,
   "metadata": {
    "scrolled": true
   },
   "outputs": [
    {
     "name": "stdout",
     "output_type": "stream",
     "text": [
      "1 2 3\n",
      "[4, 5]\n"
     ]
    }
   ],
   "source": [
    "aa, bb, cc, *junk = (1, 2, 3, 4, 5)\n",
    "print(aa, bb, cc)\n",
    "print(junk)"
   ]
  },
  {
   "cell_type": "markdown",
   "metadata": {},
   "source": [
    "### The Dictionary Unpacking Operator"
   ]
  },
  {
   "cell_type": "code",
   "execution_count": 98,
   "metadata": {},
   "outputs": [
    {
     "name": "stdout",
     "output_type": "stream",
     "text": [
      "{'one': 1, 'two': 2, 'three': 3}\n"
     ]
    }
   ],
   "source": [
    "dd = dict(one=1, two=2, three=3)\n",
    "print(dd)"
   ]
  },
  {
   "cell_type": "code",
   "execution_count": 99,
   "metadata": {},
   "outputs": [
    {
     "name": "stdout",
     "output_type": "stream",
     "text": [
      "8\n"
     ]
    }
   ],
   "source": [
    "pd = dict(base=2, exponent=3)\n",
    "\n",
    "def mypower(exponent, base):\n",
    "    print(base**exponent)\n",
    "    \n",
    "mypower(**pd)"
   ]
  },
  {
   "cell_type": "code",
   "execution_count": 103,
   "metadata": {},
   "outputs": [
    {
     "name": "stdout",
     "output_type": "stream",
     "text": [
      "{'name': 'Joseph', 'occupation': 'optometrist', 'street': '67 Maple Street', 'city': 'Springfield', 'state': 'SD'}\n"
     ]
    }
   ],
   "source": [
    "nombre=dict(name=\"Jose\", occupation=\"optometrist\")\n",
    "addr=dict(name=\"Joseph\", street=\"67 Maple Street\", \n",
    "          city=\"Springfield\", state=\"SD\" )\n",
    "full_record = {**nombre, **addr}\n",
    "print(full_record)"
   ]
  },
  {
   "cell_type": "markdown",
   "metadata": {},
   "source": [
    "### Creating a Function with Variable Arguments"
   ]
  },
  {
   "cell_type": "code",
   "execution_count": 108,
   "metadata": {},
   "outputs": [
    {
     "name": "stdout",
     "output_type": "stream",
     "text": [
      "three:1.73\n",
      "four :2.00\n",
      "five :2.23607\n"
     ]
    }
   ],
   "source": [
    "def print_vec_length(*args, **kwargs):\n",
    "    sqr_sum = 0\n",
    "    for pp in args:\n",
    "        sqr_sum += pp**2\n",
    "    len = math.sqrt(sqr_sum)\n",
    "    label = kwargs.get(\"label\")\n",
    "    label = \"\" if label is None else label\n",
    "    fmt = kwargs.get(\"fmt\")\n",
    "    fmt = \"{:2.2f}\" if fmt is None else fmt\n",
    "    f_str = f\"{label}{fmt}\"\n",
    "    print(f_str.format(len))\n",
    "\n",
    "print_vec_length(1,1,1, label=\"three:\")\n",
    "print_vec_length(1,1,1,1,label=\"four :\")\n",
    "print_vec_length(1,1,1,1,1, label=\"five :\", fmt=\"{:2.5f}\")"
   ]
  },
  {
   "cell_type": "markdown",
   "metadata": {},
   "source": [
    "## Documentation Strings"
   ]
  },
  {
   "cell_type": "code",
   "execution_count": 110,
   "metadata": {},
   "outputs": [
    {
     "name": "stdout",
     "output_type": "stream",
     "text": [
      "Help on function print_hello_world in module __main__:\n",
      "\n",
      "print_hello_world()\n",
      "    It does what you think it does\n",
      "\n"
     ]
    }
   ],
   "source": [
    "def print_hello_world():\n",
    "    \"\"\"It does what you think it does\"\"\"\n",
    "    print(\"Hello, world.\")\n",
    "\n",
    "help(print_hello_world)"
   ]
  },
  {
   "cell_type": "code",
   "execution_count": 111,
   "metadata": {},
   "outputs": [
    {
     "name": "stdout",
     "output_type": "stream",
     "text": [
      "Help on function my_power in module __main__:\n",
      "\n",
      "my_power(base, exponent)\n",
      "    Raises the base to the exponent\n",
      "    :param base: The base number\n",
      "    :param exponent: The exponent\n",
      "    :return: base raised to exponent\n",
      "\n"
     ]
    }
   ],
   "source": [
    "def my_power(base, exponent):\n",
    "    \"\"\"\n",
    "    Raises the base to the exponent\n",
    "    :param base: The base number\n",
    "    :param exponent: The exponent\n",
    "    :return: base raised to exponent\n",
    "    \"\"\"\n",
    "    return base**exponent\n",
    "\n",
    "help(my_power)"
   ]
  },
  {
   "cell_type": "code",
   "execution_count": null,
   "metadata": {},
   "outputs": [],
   "source": []
  }
 ],
 "metadata": {
  "kernelspec": {
   "display_name": "Python 3",
   "language": "python",
   "name": "python3"
  },
  "language_info": {
   "codemirror_mode": {
    "name": "ipython",
    "version": 3
   },
   "file_extension": ".py",
   "mimetype": "text/x-python",
   "name": "python",
   "nbconvert_exporter": "python",
   "pygments_lexer": "ipython3",
   "version": "3.8.3"
  }
 },
 "nbformat": 4,
 "nbformat_minor": 4
}
