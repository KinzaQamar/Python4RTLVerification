{
 "cells": [
  {
   "cell_type": "markdown",
   "metadata": {},
   "source": [
    "# Analysis Ports and Subscribers\n",
    "## Analysis Export\n",
    "Twitter Example"
   ]
  },
  {
   "cell_type": "code",
   "execution_count": 1,
   "metadata": {},
   "outputs": [
    {
     "name": "stderr",
     "output_type": "stream",
     "text": [
      "INFO: <ipython-input-1-b3efed2d572d>(8)[uvm_test_top.Tom]: Tom retweets 'Hello!'\n",
      "INFO: <ipython-input-1-b3efed2d572d>(8)[uvm_test_top.Maria]: Maria retweets 'Hello!'\n",
      "INFO: <ipython-input-1-b3efed2d572d>(12)[uvm_test_top.Prabhu]: Prabhu replies to 'Hello!'\n"
     ]
    }
   ],
   "source": [
    "from pyuvm import *\n",
    "import random\n",
    "\n",
    "class Follower(uvm_analysis_export):\n",
    "    def write(self, msg):\n",
    "            rsp = random.randint(1,3)\n",
    "            if rsp == 1:\n",
    "                self.logger.info(f\"{self.get_name()} retweets '{msg}'\")\n",
    "            elif rsp == 2:\n",
    "                self.logger.info(f\"{self.get_name()} likes  '{msg}'\")\n",
    "            elif rsp == 3:\n",
    "                self.logger.info(f\"{self.get_name()} replies to '{msg}'\")\n",
    "\n",
    "class Twitter(uvm_test):\n",
    "    def build_phase(self):\n",
    "        self.f1 = Follower(\"Tom\", self)\n",
    "        self.f2 = Follower(\"Maria\", self)\n",
    "        self.f3 = Follower (\"Prabhu\", self)\n",
    "        self.ap = uvm_analysis_port(\"ap\", self)\n",
    "    \n",
    "    def connect_phase(self):\n",
    "        self.ap.connect(self.f1)\n",
    "        self.ap.connect(self.f2)\n",
    "        self.ap.connect(self.f3)\n",
    "    \n",
    "    def run_phase(self):\n",
    "        self.raise_objection()\n",
    "        self.ap.write(\"Hello!\")\n",
    "        self.drop_objection()\n",
    "\n",
    "uvm_root().run_test(\"Twitter\")"
   ]
  },
  {
   "cell_type": "code",
   "execution_count": 3,
   "metadata": {},
   "outputs": [
    {
     "name": "stdout",
     "output_type": "stream",
     "text": [
      "3\n",
      "3\n",
      "2\n",
      "1\n",
      "2\n",
      "2\n",
      "2\n",
      "1\n",
      "1\n",
      "2\n"
     ]
    }
   ],
   "source": [
    "import random\n",
    "for ii in range(10):\n",
    "    print(random.randint(1,3))"
   ]
  },
  {
   "cell_type": "code",
   "execution_count": null,
   "metadata": {},
   "outputs": [],
   "source": []
  }
 ],
 "metadata": {
  "kernelspec": {
   "display_name": "Python 3",
   "language": "python",
   "name": "python3"
  },
  "language_info": {
   "codemirror_mode": {
    "name": "ipython",
    "version": 3
   },
   "file_extension": ".py",
   "mimetype": "text/x-python",
   "name": "python",
   "nbconvert_exporter": "python",
   "pygments_lexer": "ipython3",
   "version": "3.8.3"
  }
 },
 "nbformat": 4,
 "nbformat_minor": 4
}
