{
 "cells": [
  {
   "cell_type": "markdown",
   "metadata": {},
   "source": [
    "# Conditions and loops\n",
    "## `if` statements"
   ]
  },
  {
   "cell_type": "code",
   "execution_count": 5,
   "metadata": {},
   "outputs": [
    {
     "name": "stdout",
     "output_type": "stream",
     "text": [
      "Hey, you're not Danny.\n"
     ]
    }
   ],
   "source": [
    "name=\"Roy\"\n",
    "if name != \"Danny\":\n",
    "    print(\"Hey, you're not Danny.\")"
   ]
  },
  {
   "cell_type": "code",
   "execution_count": 6,
   "metadata": {},
   "outputs": [
    {
     "name": "stdout",
     "output_type": "stream",
     "text": [
      "Hello, Danny!\n"
     ]
    }
   ],
   "source": [
    "name=\"Danny\"\n",
    "if name != \"Danny\":\n",
    "    print(\"Hey, you're not Danny.\")\n",
    "else:\n",
    "    print(\"Hello, Danny!\")"
   ]
  },
  {
   "cell_type": "code",
   "execution_count": null,
   "metadata": {},
   "outputs": [],
   "source": [
    "name = \"Danny\"\n",
    "if name != \"Danny\":\n",
    "    \"\"\"\n",
    "    This is the code\n",
    "    we run if this isn't Danny\n",
    "    \"\"\"\n",
    "    print(\"Hey, you're not Danny.\")\n",
    "else:\n",
    "    print(\"Hello, Danny!\")    \n"
   ]
  },
  {
   "cell_type": "markdown",
   "metadata": {},
   "source": [
    "### `elif` replaces case and switch"
   ]
  },
  {
   "cell_type": "code",
   "execution_count": 7,
   "metadata": {},
   "outputs": [
    {
     "name": "stdout",
     "output_type": "stream",
     "text": [
      "Water for you.\n"
     ]
    }
   ],
   "source": [
    "dinner = \"calamari\"\n",
    "if dinner == \"steak\":\n",
    "    print(\"Malbec\")\n",
    "elif dinner == \"chicken\":\n",
    "    print(\"Pinot Noir\")\n",
    "elif dinner == \"fish\":\n",
    "    print(\"White wine\")\n",
    "else:\n",
    "    print(\"Water for you.\")"
   ]
  },
  {
   "cell_type": "markdown",
   "metadata": {},
   "source": [
    "## Block comments and indenting"
   ]
  },
  {
   "cell_type": "code",
   "execution_count": 1,
   "metadata": {},
   "outputs": [
    {
     "name": "stdout",
     "output_type": "stream",
     "text": [
      "Hello, Danny!\n"
     ]
    }
   ],
   "source": [
    "name = \"Danny\"\n",
    "if name != \"Danny\":\n",
    "    \"\"\"\n",
    "    This is the code\n",
    "    we run if this isn't Danny\n",
    "    \"\"\"\n",
    "    print(\"Hey, you're not Danny.\")\n",
    "else:\n",
    "    print(\"Hello, Danny!\") "
   ]
  },
  {
   "cell_type": "markdown",
   "metadata": {},
   "source": [
    "## Conditional assignment"
   ]
  },
  {
   "cell_type": "code",
   "execution_count": 1,
   "metadata": {},
   "outputs": [
    {
     "name": "stdout",
     "output_type": "stream",
     "text": [
      "five_val\n"
     ]
    }
   ],
   "source": [
    "aa = 5\n",
    "message = \"five_val\" if aa == 5 else \"other_val\"\n",
    "print(message)"
   ]
  },
  {
   "cell_type": "markdown",
   "metadata": {},
   "source": [
    "## `while` loops"
   ]
  },
  {
   "cell_type": "code",
   "execution_count": 13,
   "metadata": {},
   "outputs": [
    {
     "name": "stdout",
     "output_type": "stream",
     "text": [
      "1 2 3 4 5 6 7 8 9 10 11 12 13 "
     ]
    }
   ],
   "source": [
    "nn = 1\n",
    "while nn <= 13:\n",
    "    print(nn, end=\" \")\n",
    "    nn += 1"
   ]
  },
  {
   "cell_type": "markdown",
   "metadata": {},
   "source": [
    "### The `continue` statement"
   ]
  },
  {
   "cell_type": "code",
   "execution_count": 14,
   "metadata": {},
   "outputs": [
    {
     "name": "stdout",
     "output_type": "stream",
     "text": [
      "1 3 5 7 "
     ]
    }
   ],
   "source": [
    "nn = 0\n",
    "while nn <= 7:\n",
    "    nn += 1\n",
    "    if (nn % 2) == 0:\n",
    "        continue\n",
    "    print(nn, end=\" \")"
   ]
  },
  {
   "cell_type": "markdown",
   "metadata": {},
   "source": [
    "### Do-while loops"
   ]
  },
  {
   "cell_type": "code",
   "execution_count": 16,
   "metadata": {},
   "outputs": [
    {
     "name": "stdout",
     "output_type": "stream",
     "text": [
      "0 1 2 3 4 "
     ]
    }
   ],
   "source": [
    "nn = 0\n",
    "while True:\n",
    "    print(nn, end = ' ')\n",
    "    nn += 1\n",
    "    if nn == 5:\n",
    "        break"
   ]
  }
 ],
 "metadata": {
  "kernelspec": {
   "display_name": "Python 3",
   "language": "python",
   "name": "python3"
  },
  "language_info": {
   "codemirror_mode": {
    "name": "ipython",
    "version": 3
   },
   "file_extension": ".py",
   "mimetype": "text/x-python",
   "name": "python",
   "nbconvert_exporter": "python",
   "pygments_lexer": "ipython3",
   "version": "3.8.3"
  }
 },
 "nbformat": 4,
 "nbformat_minor": 4
}
