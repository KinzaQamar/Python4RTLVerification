{
 "cells": [
  {
   "cell_type": "markdown",
   "metadata": {},
   "source": [
    "# The UVM Test"
   ]
  },
  {
   "cell_type": "markdown",
   "metadata": {},
   "source": [
    "### The run\\_phase Method\n",
    "\n",
    "*Note: The code below needs to be run in a freshly started Jupyter notebook kernal. This means after you run it once, you must restart the kernal by pressing the circular arrow restart button above or selecting Kernal -> Restart in the menus to run it again.*"
   ]
  },
  {
   "cell_type": "code",
   "execution_count": 4,
   "metadata": {},
   "outputs": [
    {
     "name": "stderr",
     "output_type": "stream",
     "text": [
      "INFO: <ipython-input-4-639ec6314069>(36)[uvm_test_top]: PASSED: ae XOR 5f = 00f1\n",
      "INFO: <ipython-input-4-639ec6314069>(36)[uvm_test_top]: PASSED: 1a MUL 2b = 045e\n",
      "INFO: <ipython-input-4-639ec6314069>(36)[uvm_test_top]: PASSED: c5 ADD 20 = 00e5\n",
      "INFO: <ipython-input-4-639ec6314069>(36)[uvm_test_top]: PASSED: df AND f7 = 00d7\n",
      "ERROR: <ipython-input-4-639ec6314069>(38)[uvm_test_top]: FAILED: 92 ADD 94 = 0127 expected 0126\n"
     ]
    }
   ],
   "source": [
    "from pyuvm import *\n",
    "from tb_pkg import *\n",
    "import random\n",
    "import time\n",
    "\n",
    "class AluTest(uvm_test):\n",
    "    @staticmethod\n",
    "    def alu_op(A, B, op, is_dut = False):\n",
    "        \"\"\"Python model of the TinyALU\"\"\"\n",
    "        assert isinstance(op, Ops), \"The tinyalu op must be of type ops\"\n",
    "        if op == Ops.ADD:\n",
    "            result = A + B\n",
    "        elif op == Ops.AND:\n",
    "            result = A & B\n",
    "        elif op == Ops.XOR:\n",
    "            result = A ^ B\n",
    "        elif op == Ops.MUL:\n",
    "            result = A * B\n",
    "        if is_dut:\n",
    "            time.sleep(0.1)\n",
    "            if is_dut and (random.randint(0,3) == 0):\n",
    "                result = result + 1\n",
    "        return result\n",
    "\n",
    "    def run_phase(self):\n",
    "        self.raise_objection()  ## You MUST raise an objection\n",
    "        cvg = set() #functional coverage\n",
    "        for _ in range(5):\n",
    "            A = random.randrange(256)\n",
    "            B = random.randrange(256)\n",
    "            op = random.choice(list(Ops))\n",
    "            cvg.add(op)\n",
    "            predicted_result = self.alu_op(A, B, op)\n",
    "            actual_result = self.alu_op(A, B, op, is_dut=True)\n",
    "            if predicted_result == actual_result:\n",
    "                self.logger.info( f\"PASSED: {A:02x} {op.name} {B:02x} = {actual_result:04x}\")\n",
    "            else:\n",
    "                self.logger.error(f\"FAILED: {A:02x} {op.name} {B:02x} = {actual_result:04x} expected {predicted_result:04x}\")\n",
    "        if len(set(Ops) - cvg) > 0:\n",
    "            self.logger.error(f\"Functional coverage error. Missed: {set(Ops)-cvg}\")\n",
    "        self.drop_objection()  ## drop the objection to end\n",
    "uvm_root().run_test(\"AluTest\")"
   ]
  },
  {
   "cell_type": "code",
   "execution_count": null,
   "metadata": {},
   "outputs": [],
   "source": []
  }
 ],
 "metadata": {
  "kernelspec": {
   "display_name": "Python 3",
   "language": "python",
   "name": "python3"
  },
  "language_info": {
   "codemirror_mode": {
    "name": "ipython",
    "version": 3
   },
   "file_extension": ".py",
   "mimetype": "text/x-python",
   "name": "python",
   "nbconvert_exporter": "python",
   "pygments_lexer": "ipython3",
   "version": "3.8.3"
  }
 },
 "nbformat": 4,
 "nbformat_minor": 4
}
