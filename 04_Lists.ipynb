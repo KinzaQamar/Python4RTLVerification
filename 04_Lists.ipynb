{
 "cells": [
  {
   "cell_type": "markdown",
   "metadata": {},
   "source": [
    "# Lists\n",
    "\n",
    "An ordered list."
   ]
  },
  {
   "cell_type": "markdown",
   "metadata": {},
   "source": [
    "Make a list"
   ]
  },
  {
   "cell_type": "code",
   "execution_count": 21,
   "metadata": {},
   "outputs": [
    {
     "name": "stdout",
     "output_type": "stream",
     "text": [
      "['a', 3, ['x', 'y']]\n"
     ]
    }
   ],
   "source": [
    "ll = ['x','y']\n",
    "mylist = ['a',3,ll]\n",
    "print(mylist)"
   ]
  },
  {
   "cell_type": "markdown",
   "metadata": {},
   "source": [
    "## Creating Lists"
   ]
  },
  {
   "cell_type": "markdown",
   "metadata": {},
   "source": [
    "Using the `list` constructor"
   ]
  },
  {
   "cell_type": "code",
   "execution_count": 19,
   "metadata": {},
   "outputs": [
    {
     "name": "stdout",
     "output_type": "stream",
     "text": [
      "['a', 'b', 'c']\n",
      "[]\n"
     ]
    }
   ],
   "source": [
    "ll = list(\"abc\")\n",
    "empty=list()\n",
    "print(ll)\n",
    "print(empty)"
   ]
  },
  {
   "cell_type": "markdown",
   "metadata": {},
   "source": [
    "### List Comprehension"
   ]
  },
  {
   "cell_type": "markdown",
   "metadata": {},
   "source": [
    "Creating an even number list with a for loop"
   ]
  },
  {
   "cell_type": "code",
   "execution_count": 20,
   "metadata": {},
   "outputs": [
    {
     "name": "stdout",
     "output_type": "stream",
     "text": [
      "[0, 2, 4, 6, 8]\n"
     ]
    }
   ],
   "source": [
    "even =  []\n",
    "for ii in range(5):\n",
    "    even.append(ii*2)\n",
    "print(even)"
   ]
  },
  {
   "cell_type": "markdown",
   "metadata": {},
   "source": [
    "Creating an even number list with a list comprension"
   ]
  },
  {
   "cell_type": "code",
   "execution_count": 21,
   "metadata": {},
   "outputs": [
    {
     "name": "stdout",
     "output_type": "stream",
     "text": [
      "[0, 2, 4, 6, 8]\n"
     ]
    }
   ],
   "source": [
    "even = [ii * 2 for ii in range(5)]\n",
    "print(even)"
   ]
  },
  {
   "cell_type": "markdown",
   "metadata": {},
   "source": [
    "Capital letter list with a for loop"
   ]
  },
  {
   "cell_type": "code",
   "execution_count": 23,
   "metadata": {},
   "outputs": [
    {
     "name": "stdout",
     "output_type": "stream",
     "text": [
      "['C', 'C', 'C']\n"
     ]
    }
   ],
   "source": [
    "CL = []\n",
    "for cc in \"CamelCaseCode\":\n",
    "    if cc.isupper():\n",
    "        CL.append(cc)\n",
    "print(CL)"
   ]
  },
  {
   "cell_type": "code",
   "execution_count": 25,
   "metadata": {},
   "outputs": [
    {
     "name": "stdout",
     "output_type": "stream",
     "text": [
      "['C', 'C', 'C']\n"
     ]
    }
   ],
   "source": [
    "CL = [cc\n",
    "      for cc in \"CamelCaseCode\"\n",
    "      if cc.isupper()]\n",
    "print(CL)"
   ]
  },
  {
   "cell_type": "markdown",
   "metadata": {},
   "source": [
    "## List Functions\n",
    "Methods in the `list` type."
   ]
  },
  {
   "cell_type": "markdown",
   "metadata": {},
   "source": [
    "`append()`"
   ]
  },
  {
   "cell_type": "code",
   "execution_count": 24,
   "metadata": {},
   "outputs": [
    {
     "name": "stdout",
     "output_type": "stream",
     "text": [
      "[1, 2, 3, 'four']\n"
     ]
    }
   ],
   "source": [
    "alist = [1,2,3]\n",
    "alist.append(\"four\")\n",
    "print(alist)"
   ]
  },
  {
   "cell_type": "markdown",
   "metadata": {},
   "source": [
    "`clear()`"
   ]
  },
  {
   "cell_type": "code",
   "execution_count": 25,
   "metadata": {
    "scrolled": false
   },
   "outputs": [
    {
     "name": "stdout",
     "output_type": "stream",
     "text": [
      "[]\n"
     ]
    }
   ],
   "source": [
    "alist.clear()\n",
    "print(alist)"
   ]
  },
  {
   "cell_type": "markdown",
   "metadata": {},
   "source": [
    "`copy()`"
   ]
  },
  {
   "cell_type": "code",
   "execution_count": 2,
   "metadata": {},
   "outputs": [
    {
     "name": "stdout",
     "output_type": "stream",
     "text": [
      "[1, 2] 140604273412736\n",
      "[1, 2] 140604273386624\n"
     ]
    }
   ],
   "source": [
    "aa = [1,2]\n",
    "print(aa, id(aa))\n",
    "bb = aa.copy()\n",
    "print(bb, id(bb))"
   ]
  },
  {
   "cell_type": "markdown",
   "metadata": {},
   "source": [
    "Adding"
   ]
  },
  {
   "cell_type": "code",
   "execution_count": 50,
   "metadata": {
    "scrolled": true
   },
   "outputs": [
    {
     "name": "stdout",
     "output_type": "stream",
     "text": [
      "['a', 'aa', 'aaa']\n",
      " pre add id(aa_list): 140271488988224\n",
      "['a', 'aa', 'aaa', 'b', 'bb', 'bbb']\n",
      "post add id(aa_list): 140271489016576\n"
     ]
    }
   ],
   "source": [
    "aa_list = [\"a\",\"aa\",\"aaa\"]\n",
    "print(aa_list)\n",
    "bb_list = [\"b\",\"bb\",\"bbb\"]\n",
    "print(\" pre add id(aa_list):\", id(aa_list))\n",
    "\n",
    "aa_list = aa_list + bb_list\n",
    "\n",
    "print(aa_list)\n",
    "print(\"post add id(aa_list):\", id(aa_list))"
   ]
  },
  {
   "cell_type": "markdown",
   "metadata": {},
   "source": [
    "`extend()`"
   ]
  },
  {
   "cell_type": "code",
   "execution_count": 51,
   "metadata": {},
   "outputs": [
    {
     "name": "stdout",
     "output_type": "stream",
     "text": [
      "['a', 'aa', 'aaa']\n",
      " pre add id(aa_list): 140271489729600\n",
      "['a', 'aa', 'aaa', 'b', 'bb', 'bbb']\n",
      "post add id(aa_list): 140271489729600\n"
     ]
    }
   ],
   "source": [
    "aa_list = [\"a\",\"aa\",\"aaa\"]\n",
    "print(aa_list)\n",
    "bb_list = [\"b\",\"bb\",\"bbb\"]\n",
    "print(\" pre add id(aa_list):\", id(aa_list))\n",
    "\n",
    "aa_list.extend(bb_list)\n",
    "\n",
    "print(aa_list)\n",
    "print(\"post add id(aa_list):\", id(aa_list))"
   ]
  },
  {
   "cell_type": "markdown",
   "metadata": {},
   "source": [
    "`insert()`"
   ]
  },
  {
   "cell_type": "code",
   "execution_count": 52,
   "metadata": {},
   "outputs": [
    {
     "name": "stdout",
     "output_type": "stream",
     "text": [
      "['a', 'b', 'c']\n",
      "['x', 'a', 'b', 'c']\n",
      "['x', 'a', 'b', 'xx', 'c']\n"
     ]
    }
   ],
   "source": [
    "ordered_list = [\"a\",\"b\",\"c\"]\n",
    "print(ordered_list)\n",
    "ordered_list.insert(0, \"x\")\n",
    "print(ordered_list)\n",
    "ordered_list.insert(3,\"xx\")\n",
    "print(ordered_list)"
   ]
  },
  {
   "cell_type": "markdown",
   "metadata": {},
   "source": [
    "`pop()`"
   ]
  },
  {
   "cell_type": "code",
   "execution_count": 56,
   "metadata": {
    "scrolled": true
   },
   "outputs": [
    {
     "name": "stdout",
     "output_type": "stream",
     "text": [
      "pre pop:  ['x', 'a', 'b', 'xx', 'c']\n",
      "POP! c\n",
      "post pop: ['x', 'a', 'b', 'xx']\n",
      "pop(2) b\n",
      "post pop(2): ['x', 'a', 'xx']\n"
     ]
    }
   ],
   "source": [
    "ordered_list = [\"x\",\"a\",\"b\",\"b\",\"c\"]\n",
    "print(\"pre pop: \",ordered_list)\n",
    "print(\"POP!\", ordered_list.pop())\n",
    "print(\"post pop:\",ordered_list)\n",
    "print(\"pop(2)\", ordered_list.pop(2))\n",
    "print(\"post pop(2):\", ordered_list)"
   ]
  },
  {
   "cell_type": "markdown",
   "metadata": {},
   "source": [
    "`remove()`"
   ]
  },
  {
   "cell_type": "code",
   "execution_count": 61,
   "metadata": {},
   "outputs": [
    {
     "name": "stdout",
     "output_type": "stream",
     "text": [
      "['Q', 'b', 'a', 'b', 'c']\n",
      "['Q', 'a', 'b', 'c']\n",
      "['Q', 'a', 'c']\n"
     ]
    },
    {
     "ename": "ValueError",
     "evalue": "list.remove(x): x not in list",
     "output_type": "error",
     "traceback": [
      "\u001b[0;31m---------------------------------------------------------------------------\u001b[0m",
      "\u001b[0;31mValueError\u001b[0m                                Traceback (most recent call last)",
      "\u001b[0;32m<ipython-input-61-6a9aba67fb08>\u001b[0m in \u001b[0;36m<module>\u001b[0;34m\u001b[0m\n\u001b[1;32m      5\u001b[0m \u001b[0malist\u001b[0m\u001b[0;34m.\u001b[0m\u001b[0mremove\u001b[0m\u001b[0;34m(\u001b[0m\u001b[0;34m\"b\"\u001b[0m\u001b[0;34m)\u001b[0m\u001b[0;34m\u001b[0m\u001b[0;34m\u001b[0m\u001b[0m\n\u001b[1;32m      6\u001b[0m \u001b[0mprint\u001b[0m\u001b[0;34m(\u001b[0m\u001b[0malist\u001b[0m\u001b[0;34m)\u001b[0m\u001b[0;34m\u001b[0m\u001b[0;34m\u001b[0m\u001b[0m\n\u001b[0;32m----> 7\u001b[0;31m \u001b[0malist\u001b[0m\u001b[0;34m.\u001b[0m\u001b[0mremove\u001b[0m\u001b[0;34m(\u001b[0m\u001b[0;34m\"b\"\u001b[0m\u001b[0;34m)\u001b[0m\u001b[0;34m\u001b[0m\u001b[0;34m\u001b[0m\u001b[0m\n\u001b[0m",
      "\u001b[0;31mValueError\u001b[0m: list.remove(x): x not in list"
     ]
    }
   ],
   "source": [
    "alist = [\"Q\",\"b\",\"a\",\"b\",\"c\"]\n",
    "print(alist)\n",
    "alist.remove(\"b\")\n",
    "print(alist)\n",
    "alist.remove(\"b\")\n",
    "print(alist)\n",
    "alist.remove(\"b\")"
   ]
  },
  {
   "cell_type": "markdown",
   "metadata": {},
   "source": [
    "`reverse()`"
   ]
  },
  {
   "cell_type": "code",
   "execution_count": 63,
   "metadata": {},
   "outputs": [
    {
     "name": "stdout",
     "output_type": "stream",
     "text": [
      "original slist:  ['1st', '2nd', '3rd']\n",
      "reversed slist: ['3rd', '2nd', '1st']\n"
     ]
    }
   ],
   "source": [
    "slist=[\"1st\",\"2nd\",\"3rd\"]\n",
    "print(\"original slist: \", slist)\n",
    "slist.reverse()\n",
    "print(\"reversed slist:\", slist)"
   ]
  },
  {
   "cell_type": "markdown",
   "metadata": {},
   "source": [
    "`sort()` and `sorted()`"
   ]
  },
  {
   "cell_type": "code",
   "execution_count": 70,
   "metadata": {},
   "outputs": [
    {
     "name": "stdout",
     "output_type": "stream",
     "text": [
      "orig id:   140271489883456\n",
      "amazing xmen: ['Nightcrawler', 'Cyclops', 'Wolverine', 'Storm']\n",
      "sorted id: 140271489883456\n",
      "sorted  xmen: ['Cyclops', 'Nightcrawler', 'Storm', 'Wolverine']\n",
      "orig id:  140271489881024\n",
      "Avengers: ['Ironman', 'Hulk', 'Hawkeye', 'Thor']\n",
      "sorted id: 140271489861504\n",
      "Avengers: ['Hawkeye', 'Hulk', 'Ironman', 'Thor']\n"
     ]
    }
   ],
   "source": [
    "xmen=[\"Nightcrawler\", \"Cyclops\", \"Wolverine\", \"Storm\"]\n",
    "print(\"orig id:  \", id(xmen))\n",
    "print(\"amazing xmen:\", xmen)\n",
    "xmen.sort()\n",
    "print(\"sorted id:\", id(xmen))\n",
    "print(\"sorted  xmen:\", xmen)\n",
    "\n",
    "avengers = [\"Ironman\", \"Hulk\", \"Hawkeye\", \"Thor\"]\n",
    "print(\"orig id: \", id(avengers))\n",
    "print(\"Avengers:\", avengers)\n",
    "avengers = sorted(avengers)\n",
    "print(\"sorted id:\",id(avengers))\n",
    "print(\"Avengers:\", avengers)"
   ]
  },
  {
   "cell_type": "code",
   "execution_count": null,
   "metadata": {},
   "outputs": [],
   "source": []
  }
 ],
 "metadata": {
  "kernelspec": {
   "display_name": "Python 3",
   "language": "python",
   "name": "python3"
  },
  "language_info": {
   "codemirror_mode": {
    "name": "ipython",
    "version": 3
   },
   "file_extension": ".py",
   "mimetype": "text/x-python",
   "name": "python",
   "nbconvert_exporter": "python",
   "pygments_lexer": "ipython3",
   "version": "3.8.3"
  }
 },
 "nbformat": 4,
 "nbformat_minor": 4
}
