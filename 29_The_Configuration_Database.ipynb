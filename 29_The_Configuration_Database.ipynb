{
 "cells": [
  {
   "cell_type": "markdown",
   "metadata": {},
   "source": [
    "# The Configuration Database\n",
    "\n",
    "## Global Configuration Data"
   ]
  },
  {
   "cell_type": "code",
   "execution_count": 1,
   "metadata": {},
   "outputs": [
    {
     "name": "stderr",
     "output_type": "stream",
     "text": [
      "INFO: <ipython-input-1-782c0b4f9433>(10)[uvm_test_top.p1]: A Global Message of Peace\n",
      "INFO: <ipython-input-1-782c0b4f9433>(10)[uvm_test_top.p2]: A Global Message of Peace\n"
     ]
    }
   ],
   "source": [
    "from pyuvm import *\n",
    "\n",
    "\n",
    "class Printer(uvm_component):\n",
    "    def build_phase(self):\n",
    "        self.config_obj = ConfigDB().get(self, \"\", \"MSG\")\n",
    "    \n",
    "    def run_phase(self):\n",
    "        self.raise_objection()\n",
    "        self.logger.info(self.config_obj.msg)\n",
    "        self.drop_objection()\n",
    "        \n",
    "class PrintConfig:\n",
    "    def __init__(self, msg):\n",
    "        self.msg = msg\n",
    "\n",
    "class PrintTest(uvm_test):\n",
    "    def build_phase(self):\n",
    "        msg_of_peace = PrintConfig(\"A Global Message of Peace\")\n",
    "        ConfigDB().set(None, '*', \"MSG\", msg_of_peace)\n",
    "        self.p1 = Printer(\"p1\", self)\n",
    "        self.p2 = Printer(\"p2\", self)\n",
    "\n",
    "uvm_root().run_test(\"PrintTest\")    "
   ]
  },
  {
   "cell_type": "markdown",
   "metadata": {},
   "source": [
    "## Configuration and Hierarchy"
   ]
  },
  {
   "cell_type": "code",
   "execution_count": 1,
   "metadata": {},
   "outputs": [
    {
     "name": "stderr",
     "output_type": "stream",
     "text": [
      "INFO: <ipython-input-1-2615e6005729>(10)[uvm_test_top.p1]: message from 1\n",
      "INFO: <ipython-input-1-2615e6005729>(10)[uvm_test_top.p2]: message from 2\n"
     ]
    }
   ],
   "source": [
    "from pyuvm import *\n",
    "\n",
    "\n",
    "class Printer(uvm_component):\n",
    "    def build_phase(self):\n",
    "        self.config_obj = ConfigDB().get(self, \"\", \"MSG\")\n",
    "    \n",
    "    def run_phase(self):\n",
    "        self.raise_objection()\n",
    "        self.logger.info(self.config_obj.msg)\n",
    "        self.drop_objection()\n",
    "\n",
    "class PrintConfig:\n",
    "    def __init__(self, msg):\n",
    "        self.msg = msg\n",
    "        \n",
    "    def __str__(self):\n",
    "        return f\"self.msg: {self.msg}\"\n",
    "\n",
    "class PrintTest(uvm_test):\n",
    "    def build_phase(self):\n",
    "        config1 = PrintConfig(\"message from 1\")\n",
    "        config2 = PrintConfig(\"message from 2\")\n",
    "        ConfigDB().set(self, \"p1\", \"MSG\", config1)\n",
    "        ConfigDB().set(self, \"p2\", \"MSG\", config2)\n",
    "        self.p1 = Printer(\"p1\", self)\n",
    "        self.p2 = Printer(\"p2\", self)\n",
    "\n",
    "uvm_root().run_test(\"PrintTest\")    "
   ]
  },
  {
   "cell_type": "markdown",
   "metadata": {},
   "source": [
    "# Wildcards"
   ]
  },
  {
   "cell_type": "code",
   "execution_count": 1,
   "metadata": {},
   "outputs": [
    {
     "ename": "TypeError",
     "evalue": "'PrintConfig' object is not iterable",
     "output_type": "error",
     "traceback": [
      "\u001b[0;31m---------------------------------------------------------------------------\u001b[0m",
      "\u001b[0;31mTypeError\u001b[0m                                 Traceback (most recent call last)",
      "\u001b[0;32m<ipython-input-1-965516a849d0>\u001b[0m in \u001b[0;36m<module>\u001b[0;34m\u001b[0m\n\u001b[1;32m     29\u001b[0m         \u001b[0mself\u001b[0m\u001b[0;34m.\u001b[0m\u001b[0mp2\u001b[0m \u001b[0;34m=\u001b[0m \u001b[0mPrinter\u001b[0m\u001b[0;34m(\u001b[0m\u001b[0;34m\"p2\"\u001b[0m\u001b[0;34m,\u001b[0m \u001b[0mself\u001b[0m\u001b[0;34m)\u001b[0m\u001b[0;34m\u001b[0m\u001b[0;34m\u001b[0m\u001b[0m\n\u001b[1;32m     30\u001b[0m \u001b[0;34m\u001b[0m\u001b[0m\n\u001b[0;32m---> 31\u001b[0;31m \u001b[0muvm_root\u001b[0m\u001b[0;34m(\u001b[0m\u001b[0;34m)\u001b[0m\u001b[0;34m.\u001b[0m\u001b[0mrun_test\u001b[0m\u001b[0;34m(\u001b[0m\u001b[0;34m\"PrintTest\"\u001b[0m\u001b[0;34m)\u001b[0m\u001b[0;34m\u001b[0m\u001b[0;34m\u001b[0m\u001b[0m\n\u001b[0m",
      "\u001b[0;32m~/PycharmProjects/pyuvm/pyuvm/s13_uvm_component.py\u001b[0m in \u001b[0;36mrun_test\u001b[0;34m(self, test_name)\u001b[0m\n\u001b[1;32m    376\u001b[0m         \u001b[0mself\u001b[0m\u001b[0;34m.\u001b[0m\u001b[0muvm_test_top\u001b[0m \u001b[0;34m=\u001b[0m \u001b[0mfactory\u001b[0m\u001b[0;34m.\u001b[0m\u001b[0mcreate_component_by_name\u001b[0m\u001b[0;34m(\u001b[0m\u001b[0mtest_name\u001b[0m\u001b[0;34m,\u001b[0m \u001b[0;34m\"\"\u001b[0m\u001b[0;34m,\u001b[0m \u001b[0;34m\"uvm_test_top\"\u001b[0m\u001b[0;34m,\u001b[0m \u001b[0mself\u001b[0m\u001b[0;34m)\u001b[0m\u001b[0;34m\u001b[0m\u001b[0;34m\u001b[0m\u001b[0m\n\u001b[1;32m    377\u001b[0m         \u001b[0;32mfor\u001b[0m \u001b[0mself\u001b[0m\u001b[0;34m.\u001b[0m\u001b[0mrunning_phase\u001b[0m \u001b[0;32min\u001b[0m \u001b[0muvm_common_phases\u001b[0m\u001b[0;34m:\u001b[0m\u001b[0;34m\u001b[0m\u001b[0;34m\u001b[0m\u001b[0m\n\u001b[0;32m--> 378\u001b[0;31m             \u001b[0mself\u001b[0m\u001b[0;34m.\u001b[0m\u001b[0mrunning_phase\u001b[0m\u001b[0;34m.\u001b[0m\u001b[0mtraverse\u001b[0m\u001b[0;34m(\u001b[0m\u001b[0mself\u001b[0m\u001b[0;34m.\u001b[0m\u001b[0muvm_test_top\u001b[0m\u001b[0;34m)\u001b[0m\u001b[0;34m\u001b[0m\u001b[0;34m\u001b[0m\u001b[0m\n\u001b[0m\u001b[1;32m    379\u001b[0m             \u001b[0;32mif\u001b[0m \u001b[0mself\u001b[0m\u001b[0;34m.\u001b[0m\u001b[0mrunning_phase\u001b[0m \u001b[0;34m==\u001b[0m \u001b[0muvm_run_phase\u001b[0m\u001b[0;34m:\u001b[0m\u001b[0;34m\u001b[0m\u001b[0;34m\u001b[0m\u001b[0m\n\u001b[1;32m    380\u001b[0m                 \u001b[0mtime\u001b[0m\u001b[0;34m.\u001b[0m\u001b[0msleep\u001b[0m\u001b[0;34m(\u001b[0m\u001b[0;36m.1\u001b[0m\u001b[0;34m)\u001b[0m\u001b[0;34m\u001b[0m\u001b[0;34m\u001b[0m\u001b[0m\n",
      "\u001b[0;32m~/PycharmProjects/pyuvm/pyuvm/s09_phasing.py\u001b[0m in \u001b[0;36mtraverse\u001b[0;34m(cls, comp)\u001b[0m\n\u001b[1;32m     65\u001b[0m         \u001b[0;34m:\u001b[0m\u001b[0mparam\u001b[0m \u001b[0mcomp\u001b[0m\u001b[0;34m:\u001b[0m \u001b[0mThe\u001b[0m \u001b[0mcomponent\u001b[0m \u001b[0mwhose\u001b[0m \u001b[0mhierarchy\u001b[0m \u001b[0mwill\u001b[0m \u001b[0mbe\u001b[0m \u001b[0mtraversed\u001b[0m\u001b[0;34m\u001b[0m\u001b[0;34m\u001b[0m\u001b[0m\n\u001b[1;32m     66\u001b[0m         \"\"\"\n\u001b[0;32m---> 67\u001b[0;31m         \u001b[0mcls\u001b[0m\u001b[0;34m.\u001b[0m\u001b[0mexecute\u001b[0m\u001b[0;34m(\u001b[0m\u001b[0mcomp\u001b[0m\u001b[0;34m)\u001b[0m  \u001b[0;31m# first we execute this node then its children\u001b[0m\u001b[0;34m\u001b[0m\u001b[0;34m\u001b[0m\u001b[0m\n\u001b[0m\u001b[1;32m     68\u001b[0m         \u001b[0;32mfor\u001b[0m \u001b[0mchild\u001b[0m \u001b[0;32min\u001b[0m \u001b[0mcomp\u001b[0m\u001b[0;34m.\u001b[0m\u001b[0mget_children\u001b[0m\u001b[0;34m(\u001b[0m\u001b[0;34m)\u001b[0m\u001b[0;34m:\u001b[0m\u001b[0;34m\u001b[0m\u001b[0;34m\u001b[0m\u001b[0m\n\u001b[1;32m     69\u001b[0m             \u001b[0mcls\u001b[0m\u001b[0;34m.\u001b[0m\u001b[0mtraverse\u001b[0m\u001b[0;34m(\u001b[0m\u001b[0mchild\u001b[0m\u001b[0;34m)\u001b[0m\u001b[0;34m\u001b[0m\u001b[0;34m\u001b[0m\u001b[0m\n",
      "\u001b[0;32m~/PycharmProjects/pyuvm/pyuvm/s09_phasing.py\u001b[0m in \u001b[0;36mexecute\u001b[0;34m(cls, comp)\u001b[0m\n\u001b[1;32m     49\u001b[0m         \u001b[0;32mexcept\u001b[0m \u001b[0mAttributeError\u001b[0m\u001b[0;34m:\u001b[0m\u001b[0;34m\u001b[0m\u001b[0;34m\u001b[0m\u001b[0m\n\u001b[1;32m     50\u001b[0m             \u001b[0;32mraise\u001b[0m \u001b[0merror_classes\u001b[0m\u001b[0;34m.\u001b[0m\u001b[0mUVMBadPhase\u001b[0m\u001b[0;34m(\u001b[0m\u001b[0;34mf\"{comp.get_name()} is missing {method_name} function\"\u001b[0m\u001b[0;34m)\u001b[0m\u001b[0;34m\u001b[0m\u001b[0;34m\u001b[0m\u001b[0m\n\u001b[0;32m---> 51\u001b[0;31m         \u001b[0mmethod\u001b[0m\u001b[0;34m(\u001b[0m\u001b[0;34m)\u001b[0m\u001b[0;34m\u001b[0m\u001b[0;34m\u001b[0m\u001b[0m\n\u001b[0m\u001b[1;32m     52\u001b[0m \u001b[0;34m\u001b[0m\u001b[0m\n\u001b[1;32m     53\u001b[0m \u001b[0;34m\u001b[0m\u001b[0m\n",
      "\u001b[0;32m<ipython-input-1-965516a849d0>\u001b[0m in \u001b[0;36mbuild_phase\u001b[0;34m(self)\u001b[0m\n\u001b[1;32m     23\u001b[0m         \u001b[0mconfig1\u001b[0m \u001b[0;34m=\u001b[0m \u001b[0mPrintConfig\u001b[0m\u001b[0;34m(\u001b[0m\u001b[0;34m\"message from *\"\u001b[0m\u001b[0;34m)\u001b[0m\u001b[0;34m\u001b[0m\u001b[0;34m\u001b[0m\u001b[0m\n\u001b[1;32m     24\u001b[0m         \u001b[0mconfig2\u001b[0m \u001b[0;34m=\u001b[0m \u001b[0mPrintConfig\u001b[0m\u001b[0;34m(\u001b[0m\u001b[0;34m\"message from 2\"\u001b[0m\u001b[0;34m)\u001b[0m\u001b[0;34m\u001b[0m\u001b[0;34m\u001b[0m\u001b[0m\n\u001b[0;32m---> 25\u001b[0;31m         \u001b[0mself\u001b[0m\u001b[0;34m.\u001b[0m\u001b[0mconfig_db_set\u001b[0m\u001b[0;34m(\u001b[0m\u001b[0mconfig1\u001b[0m\u001b[0;34m,\u001b[0m \u001b[0;34m\"PCONFIG\"\u001b[0m\u001b[0;34m,\u001b[0m \u001b[0;34m\"*\"\u001b[0m\u001b[0;34m)\u001b[0m\u001b[0;34m\u001b[0m\u001b[0;34m\u001b[0m\u001b[0m\n\u001b[0m\u001b[1;32m     26\u001b[0m         \u001b[0mself\u001b[0m\u001b[0;34m.\u001b[0m\u001b[0mconfig_db_set\u001b[0m\u001b[0;34m(\u001b[0m\u001b[0mconfig2\u001b[0m\u001b[0;34m,\u001b[0m \u001b[0;34m\"PCONFIG\"\u001b[0m\u001b[0;34m,\u001b[0m \u001b[0;34m\"p2\"\u001b[0m\u001b[0;34m)\u001b[0m\u001b[0;34m\u001b[0m\u001b[0;34m\u001b[0m\u001b[0m\n\u001b[1;32m     27\u001b[0m         \u001b[0mself\u001b[0m\u001b[0;34m.\u001b[0m\u001b[0mconfig_db_print\u001b[0m\u001b[0;34m(\u001b[0m\u001b[0;34m)\u001b[0m\u001b[0;34m\u001b[0m\u001b[0;34m\u001b[0m\u001b[0m\n",
      "\u001b[0;32m~/PycharmProjects/pyuvm/pyuvm/s13_uvm_component.py\u001b[0m in \u001b[0;36mconfig_db_set\u001b[0;34m(self, label, item, inst_path)\u001b[0m\n\u001b[1;32m     84\u001b[0m         \"\"\"\n\u001b[1;32m     85\u001b[0m \u001b[0;34m\u001b[0m\u001b[0m\n\u001b[0;32m---> 86\u001b[0;31m         \u001b[0mConfigDB\u001b[0m\u001b[0;34m(\u001b[0m\u001b[0;34m)\u001b[0m\u001b[0;34m.\u001b[0m\u001b[0mset\u001b[0m\u001b[0;34m(\u001b[0m\u001b[0mself\u001b[0m\u001b[0;34m,\u001b[0m \u001b[0minst_path\u001b[0m\u001b[0;34m,\u001b[0m \u001b[0mlabel\u001b[0m\u001b[0;34m,\u001b[0m \u001b[0mitem\u001b[0m\u001b[0;34m)\u001b[0m\u001b[0;34m\u001b[0m\u001b[0;34m\u001b[0m\u001b[0m\n\u001b[0m\u001b[1;32m     87\u001b[0m \u001b[0;34m\u001b[0m\u001b[0m\n\u001b[1;32m     88\u001b[0m     \u001b[0;32mdef\u001b[0m \u001b[0mconfig_db_get\u001b[0m\u001b[0;34m(\u001b[0m\u001b[0mself\u001b[0m\u001b[0;34m,\u001b[0m \u001b[0mlabel\u001b[0m\u001b[0;34m,\u001b[0m \u001b[0minst_path\u001b[0m\u001b[0;34m=\u001b[0m\u001b[0;34m\"\"\u001b[0m\u001b[0;34m)\u001b[0m\u001b[0;34m:\u001b[0m\u001b[0;34m\u001b[0m\u001b[0;34m\u001b[0m\u001b[0m\n",
      "\u001b[0;32m~/PycharmProjects/pyuvm/pyuvm/s13_uvm_component.py\u001b[0m in \u001b[0;36mset\u001b[0;34m(self, context, inst_name, field_name, value)\u001b[0m\n\u001b[1;32m    459\u001b[0m         \"\"\"\n\u001b[1;32m    460\u001b[0m \u001b[0;34m\u001b[0m\u001b[0m\n\u001b[0;32m--> 461\u001b[0;31m         \u001b[0;32mif\u001b[0m \u001b[0;32mnot\u001b[0m \u001b[0mset\u001b[0m\u001b[0;34m(\u001b[0m\u001b[0mfield_name\u001b[0m\u001b[0;34m)\u001b[0m\u001b[0;34m.\u001b[0m\u001b[0missubset\u001b[0m\u001b[0;34m(\u001b[0m\u001b[0mself\u001b[0m\u001b[0;34m.\u001b[0m\u001b[0mlegal_chars\u001b[0m\u001b[0;34m)\u001b[0m\u001b[0;34m:\u001b[0m\u001b[0;34m\u001b[0m\u001b[0;34m\u001b[0m\u001b[0m\n\u001b[0m\u001b[1;32m    462\u001b[0m             \u001b[0;32mraise\u001b[0m \u001b[0merror_classes\u001b[0m\u001b[0;34m.\u001b[0m\u001b[0mUVMNotImplemented\u001b[0m\u001b[0;34m(\u001b[0m\u001b[0;34mf\"pyuvm does not allow wildcards in field names ({field_name})\"\u001b[0m\u001b[0;34m)\u001b[0m\u001b[0;34m\u001b[0m\u001b[0;34m\u001b[0m\u001b[0m\n\u001b[1;32m    463\u001b[0m \u001b[0;34m\u001b[0m\u001b[0m\n",
      "\u001b[0;31mTypeError\u001b[0m: 'PrintConfig' object is not iterable"
     ]
    }
   ],
   "source": [
    "from pyuvm import *\n",
    "\n",
    "\n",
    "class Printer(uvm_component):\n",
    "    def build_phase(self):\n",
    "        self.config_obj = self.config_db_get(\"PCONFIG\")\n",
    "    \n",
    "    def run_phase(self):\n",
    "        self.raise_objection()\n",
    "        self.logger.info(self.config_obj.msg)\n",
    "        self.drop_objection()\n",
    "\n",
    "\n",
    "class PrintConfig:\n",
    "    def __init__(self, msg):\n",
    "        self.msg = msg\n",
    "\n",
    "    def __str__(self):\n",
    "        return self.msg\n",
    "\n",
    "class PrintTest(uvm_test):\n",
    "    def build_phase(self):\n",
    "        config1 = PrintConfig(\"message from *\")\n",
    "        config2 = PrintConfig(\"message from 2\")\n",
    "        self.config_db_set(config1, \"PCONFIG\", \"*\")\n",
    "        self.config_db_set(config2, \"PCONFIG\", \"p2\")\n",
    "        self.config_db_print()\n",
    "        self.p1 = Printer(\"p1\", self)\n",
    "        self.p2 = Printer(\"p2\", self)\n",
    "\n",
    "uvm_root().run_test(\"PrintTest\")    "
   ]
  },
  {
   "cell_type": "code",
   "execution_count": null,
   "metadata": {},
   "outputs": [],
   "source": []
  }
 ],
 "metadata": {
  "kernelspec": {
   "display_name": "Python 3",
   "language": "python",
   "name": "python3"
  },
  "language_info": {
   "codemirror_mode": {
    "name": "ipython",
    "version": 3
   },
   "file_extension": ".py",
   "mimetype": "text/x-python",
   "name": "python",
   "nbconvert_exporter": "python",
   "pygments_lexer": "ipython3",
   "version": "3.8.3"
  }
 },
 "nbformat": 4,
 "nbformat_minor": 4
}
