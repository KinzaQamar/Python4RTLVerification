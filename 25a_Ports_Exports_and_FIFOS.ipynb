{
 "cells": [
  {
   "cell_type": "markdown",
   "metadata": {},
   "source": [
    "# TLM Ports and Exports\n",
    "\n",
    "Note: These examples must be run in a freshly restarted notebook kernal.  Use the >> icon above to run the example.\n",
    "\n",
    "## UVM TLM Export Classes"
   ]
  },
  {
   "cell_type": "code",
   "execution_count": 1,
   "metadata": {
    "scrolled": true
   },
   "outputs": [
    {
     "name": "stdout",
     "output_type": "stream",
     "text": [
      "eex got 0! eex got 1! eex got 2! "
     ]
    }
   ],
   "source": [
    "from pyuvm import *\n",
    "\n",
    "class example_export(uvm_put_export):\n",
    "    def put(self, datum):\n",
    "        print(f\"{self.get_name()} got {datum}!\", end=\" \")\n",
    "\n",
    "class port_test(uvm_test):\n",
    "    def build_phase(self):\n",
    "        self.pp  = uvm_put_port(\"pp\", self)\n",
    "        self.eex = example_export(\"eex\", self)\n",
    "    \n",
    "    def connect_phase(self):\n",
    "        self.pp.connect(self.eex)\n",
    "    \n",
    "    def run_phase(self):\n",
    "        self.raise_objection()\n",
    "        for nn in range(3):\n",
    "            self.pp.put(nn)\n",
    "        self.drop_objection()\n",
    "        \n",
    "uvm_root().run_test(\"port_test\")"
   ]
  },
  {
   "cell_type": "code",
   "execution_count": null,
   "metadata": {},
   "outputs": [],
   "source": []
  }
 ],
 "metadata": {
  "kernelspec": {
   "display_name": "Python 3",
   "language": "python",
   "name": "python3"
  },
  "language_info": {
   "codemirror_mode": {
    "name": "ipython",
    "version": 3
   },
   "file_extension": ".py",
   "mimetype": "text/x-python",
   "name": "python",
   "nbconvert_exporter": "python",
   "pygments_lexer": "ipython3",
   "version": "3.8.3"
  }
 },
 "nbformat": 4,
 "nbformat_minor": 4
}
