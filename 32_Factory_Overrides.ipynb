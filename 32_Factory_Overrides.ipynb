{
 "cells": [
  {
   "cell_type": "markdown",
   "metadata": {},
   "source": [
    "# Factory Overrides"
   ]
  },
  {
   "cell_type": "code",
   "execution_count": 1,
   "metadata": {},
   "outputs": [
    {
     "name": "stdout",
     "output_type": "stream",
     "text": [
      "0 1\n",
      "1 2\n",
      "2 3\n",
      "3 4\n",
      "4 5\n"
     ]
    }
   ],
   "source": [
    "from pyuvm import *\n",
    "\n",
    "class Producer(uvm_component):\n",
    "    def build_phase(self):\n",
    "        self.ap = uvm_analysis_port(\"ap\", self)\n",
    "        \n",
    "    def run_phase(self):\n",
    "        self.raise_objection()\n",
    "        for nn in range(5):\n",
    "            self.ap.write(nn)\n",
    "        self.drop_objection()\n",
    "        \n",
    "class Consumer(uvm_subscriber):\n",
    "    def write(self, datum):\n",
    "        print(datum, end=\" \")\n",
    "\n",
    "class VertConsumer(Consumer):\n",
    "    def write(self, datum):\n",
    "        print(datum)\n",
    "\n",
    "class IncConsumer(VertConsumer):\n",
    "    def write(self, datum):\n",
    "        print(datum+1)\n",
    "        \n",
    "class Env(uvm_env):\n",
    "    def build_phase(self):\n",
    "        self.pro  = Producer.create(\"pro\", self)\n",
    "        self.con   = Consumer.create(\"con\", self)\n",
    "        self.con2  = Consumer.create(\"con2\", self)\n",
    "\n",
    "    def connect_phase(self):\n",
    "        self.pro.ap.connect(self.con)\n",
    "        self.pro.ap.connect(self.con2)\n",
    "\n",
    "class BaseTest(uvm_test):\n",
    "    def build_phase(self):\n",
    "        self.env = Env.create(\"env\", self)\n",
    "\n",
    "class VertTest(BaseTest):\n",
    "    def build_phase(self):\n",
    "        uvm_factory().set_type_override_by_type(Consumer, VertConsumer)\n",
    "        super().build_phase()\n",
    "\n",
    "class IncTest(BaseTest):\n",
    "    def build_phase(self):\n",
    "        uvm_factory().set_inst_override_by_type(Consumer, IncConsumer, self.get_full_name()+\".env.con2\")\n",
    "        super().build_phase()\n",
    "        \n",
    "uvm_root().run_test(\"IncTest\")\n",
    "            "
   ]
  },
  {
   "cell_type": "code",
   "execution_count": 1,
   "metadata": {},
   "outputs": [
    {
     "name": "stderr",
     "output_type": "stream",
     "text": [
      "INFO: <ipython-input-1-20efdf654a5c>(16)[uvm_test_top.env.passive_agent.scoreboard]: PASSED: 0x91 XOR 0xbf = 0x002e\n",
      "ERROR: <ipython-input-1-20efdf654a5c>(19)[uvm_test_top.env.passive_agent.scoreboard]: FAILED: 0x85 ADD 0x82 = 0x0107 expected 0x0108\n",
      "INFO: <ipython-input-1-20efdf654a5c>(16)[uvm_test_top.env.passive_agent.scoreboard]: PASSED: 0x5f ADD 0xb6 = 0x0115\n",
      "ERROR: <ipython-input-1-20efdf654a5c>(19)[uvm_test_top.env.passive_agent.scoreboard]: FAILED: 0x01 ADD 0x73 = 0x0074 expected 0x0075\n",
      "ERROR: <ipython-input-1-20efdf654a5c>(19)[uvm_test_top.env.passive_agent.scoreboard]: FAILED: 0x14 MUL 0x6f = 0x08ac expected 0x08ad\n",
      "ERROR: alu.py(32)[uvm_test_top.env.passive_agent.coverage]: Functional coverage error. Missed: {<Ops.NOP: 0>, <Ops.AND: 2>}\n"
     ]
    }
   ],
   "source": [
    "from pyuvm import *\n",
    "from tb_pkg import *\n",
    "from alu import *\n",
    "import random\n",
    "\n",
    "class FaultyScoreboard(Scoreboard):\n",
    "    def run_phase(self):\n",
    "        while True:\n",
    "            rtxn = self.rslt_get_port.get()\n",
    "            cmd = self.cmd_get_port.get()\n",
    "            actual_result = rtxn.result\n",
    "            predicted_result = TinyAluTlm.alu_op(cmd.A, cmd.B, cmd.op)\n",
    "            # This part makes it faulty\n",
    "            if random.randint(0,2) == 1:\n",
    "                predicted_result += 1\n",
    "            #\n",
    "            if predicted_result == actual_result:\n",
    "                self.logger.info(f\"PASSED: 0x{cmd.A:02x} {cmd.op.name} 0x{cmd.B:02x} =\"\n",
    "                                 f\" 0x{actual_result:04x}\")\n",
    "            else:\n",
    "                self.logger.error(f\"FAILED: 0x{cmd.A:02x} {cmd.op.name} 0x{cmd.B:02x} \"\n",
    "                                  f\"= 0x{actual_result:04x} expected 0x{predicted_result:04x}\")\n",
    "\n",
    "class FaultyTest(AluTest):\n",
    "    def build_phase(self):\n",
    "        uvm_factory().set_type_override_by_type(Scoreboard, FaultyScoreboard)\n",
    "        super().build_phase()\n",
    "\n",
    "uvm_root().run_test(\"FaultyTest\")"
   ]
  },
  {
   "cell_type": "code",
   "execution_count": 6,
   "metadata": {},
   "outputs": [
    {
     "data": {
      "text/plain": [
       "0"
      ]
     },
     "execution_count": 6,
     "metadata": {},
     "output_type": "execute_result"
    }
   ],
   "source": [
    "random.randint(0,1)"
   ]
  },
  {
   "cell_type": "code",
   "execution_count": null,
   "metadata": {},
   "outputs": [],
   "source": []
  }
 ],
 "metadata": {
  "kernelspec": {
   "display_name": "Python 3",
   "language": "python",
   "name": "python3"
  },
  "language_info": {
   "codemirror_mode": {
    "name": "ipython",
    "version": 3
   },
   "file_extension": ".py",
   "mimetype": "text/x-python",
   "name": "python",
   "nbconvert_exporter": "python",
   "pygments_lexer": "ipython3",
   "version": "3.8.3"
  }
 },
 "nbformat": 4,
 "nbformat_minor": 4
}
