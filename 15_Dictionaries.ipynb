{
 "cells": [
  {
   "cell_type": "markdown",
   "metadata": {},
   "source": [
    "# Dictionaries"
   ]
  },
  {
   "cell_type": "code",
   "execution_count": 5,
   "metadata": {},
   "outputs": [
    {
     "name": "stdout",
     "output_type": "stream",
     "text": [
      "Messie's number: 10\n"
     ]
    }
   ],
   "source": [
    "players = {}\n",
    "players[\"Messie\"] = 10\n",
    "players[\"Beckham\"] = 7\n",
    "players[\"Salah\"] = 11\n",
    "print(\"Messie's number:\", players[\"Messie\"])\n",
    "\n",
    "    \n",
    "    "
   ]
  },
  {
   "cell_type": "markdown",
   "metadata": {},
   "source": [
    "## Creating a dictionary\n",
    "### Create and fill an empty dictionary"
   ]
  },
  {
   "cell_type": "code",
   "execution_count": 7,
   "metadata": {},
   "outputs": [
    {
     "name": "stdout",
     "output_type": "stream",
     "text": [
      "example:  {1: 'one', 'two': 2}\n"
     ]
    }
   ],
   "source": [
    "example = {}\n",
    "example[1] = \"one\"\n",
    "example[\"two\"] = 2\n",
    "print(\"example: \", example)"
   ]
  },
  {
   "cell_type": "markdown",
   "metadata": {},
   "source": [
    "### Create a dictionary using the data that will fill it"
   ]
  },
  {
   "cell_type": "code",
   "execution_count": 8,
   "metadata": {},
   "outputs": [
    {
     "name": "stdout",
     "output_type": "stream",
     "text": [
      "example:  {1: 'one', 'two': 2}\n"
     ]
    }
   ],
   "source": [
    "example = {1:\"one\", \"two\":2}\n",
    "print(\"example: \", example)"
   ]
  },
  {
   "cell_type": "markdown",
   "metadata": {},
   "source": [
    "### Use a dictionary comprehension"
   ]
  },
  {
   "cell_type": "code",
   "execution_count": 9,
   "metadata": {},
   "outputs": [
    {
     "name": "stdout",
     "output_type": "stream",
     "text": [
      "cubes: {0: 0, 1: 1, 2: 8, 3: 27}\n"
     ]
    }
   ],
   "source": [
    "cubes = {}\n",
    "for ii in range(4):\n",
    "    cubes[ii] = ii**3\n",
    "print (\"cubes:\", cubes)"
   ]
  },
  {
   "cell_type": "code",
   "execution_count": 10,
   "metadata": {},
   "outputs": [
    {
     "name": "stdout",
     "output_type": "stream",
     "text": [
      "cubes: {0: 0, 1: 1, 2: 8, 3: 27}\n"
     ]
    }
   ],
   "source": [
    "cubes = {ii : ii**3 for ii in range(4)}\n",
    "print(\"cubes:\", cubes)"
   ]
  },
  {
   "cell_type": "markdown",
   "metadata": {},
   "source": [
    "## Handling missing keys"
   ]
  },
  {
   "cell_type": "code",
   "execution_count": 12,
   "metadata": {},
   "outputs": [
    {
     "ename": "KeyError",
     "evalue": "4",
     "output_type": "error",
     "traceback": [
      "\u001b[0;31m---------------------------------------------------------------------------\u001b[0m",
      "\u001b[0;31mKeyError\u001b[0m                                  Traceback (most recent call last)",
      "\u001b[0;32m<ipython-input-12-9ea4d2545dee>\u001b[0m in \u001b[0;36m<module>\u001b[0;34m\u001b[0m\n\u001b[1;32m      1\u001b[0m \u001b[0mplayers\u001b[0m \u001b[0;34m=\u001b[0m \u001b[0;34m{\u001b[0m\u001b[0;36m7\u001b[0m\u001b[0;34m:\u001b[0m\u001b[0;34m\"Beckham\"\u001b[0m\u001b[0;34m,\u001b[0m \u001b[0;36m10\u001b[0m\u001b[0;34m:\u001b[0m\u001b[0;34m\"Messie\"\u001b[0m\u001b[0;34m,\u001b[0m\u001b[0;36m11\u001b[0m\u001b[0;34m:\u001b[0m\u001b[0;34m\"Salah\"\u001b[0m\u001b[0;34m}\u001b[0m\u001b[0;34m\u001b[0m\u001b[0;34m\u001b[0m\u001b[0m\n\u001b[0;32m----> 2\u001b[0;31m \u001b[0mprint\u001b[0m\u001b[0;34m(\u001b[0m\u001b[0;34m\"Number 4?\"\u001b[0m\u001b[0;34m,\u001b[0m \u001b[0mplayers\u001b[0m\u001b[0;34m[\u001b[0m\u001b[0;36m4\u001b[0m\u001b[0;34m]\u001b[0m\u001b[0;34m)\u001b[0m\u001b[0;34m\u001b[0m\u001b[0;34m\u001b[0m\u001b[0m\n\u001b[0m",
      "\u001b[0;31mKeyError\u001b[0m: 4"
     ]
    }
   ],
   "source": [
    "players = {7:\"Beckham\", 10:\"Messie\",11:\"Salah\"}\n",
    "print(\"Number 4?\", players[4])"
   ]
  },
  {
   "cell_type": "code",
   "execution_count": 14,
   "metadata": {},
   "outputs": [
    {
     "name": "stdout",
     "output_type": "stream",
     "text": [
      "Number 4? None\n"
     ]
    }
   ],
   "source": [
    "players = {7:\"Beckham\", 10:\"Messie\",11:\"Salah\"}\n",
    "try:\n",
    "    player = players[4]\n",
    "except KeyError:\n",
    "    player = None\n",
    "\n",
    "print(\"Number 4?\", player)"
   ]
  },
  {
   "cell_type": "code",
   "execution_count": 1,
   "metadata": {},
   "outputs": [
    {
     "name": "stdout",
     "output_type": "stream",
     "text": [
      "M 1\n",
      "i 4\n",
      "s 4\n",
      "p 2\n"
     ]
    }
   ],
   "source": [
    "count = {}\n",
    "for cc in \"Mississippi\":\n",
    "    try:\n",
    "        count[cc] += 1\n",
    "    except KeyError:\n",
    "        count[cc] = 1\n",
    "for cc in count:\n",
    "    print(cc, count[cc])"
   ]
  },
  {
   "cell_type": "markdown",
   "metadata": {},
   "source": [
    "### The `get()` method"
   ]
  },
  {
   "cell_type": "code",
   "execution_count": 15,
   "metadata": {},
   "outputs": [
    {
     "name": "stdout",
     "output_type": "stream",
     "text": [
      "Number 4? None\n"
     ]
    }
   ],
   "source": [
    "players = {7:\"Beckham\", 10:\"Messie\",11:\"Salah\"}\n",
    "player = players.get(4)\n",
    "print(\"Number 4?\", player)"
   ]
  },
  {
   "cell_type": "code",
   "execution_count": 17,
   "metadata": {},
   "outputs": [
    {
     "name": "stdout",
     "output_type": "stream",
     "text": [
      "Number 4? Not in database\n"
     ]
    }
   ],
   "source": [
    "players = {7:\"Beckham\", 10:\"Messie\",11:\"Salah\"}\n",
    "player = players.get(4, \"Not in database\")\n",
    "print(\"Number 4?\", player)"
   ]
  },
  {
   "cell_type": "markdown",
   "metadata": {},
   "source": [
    "### The `setdefault()` method"
   ]
  },
  {
   "cell_type": "code",
   "execution_count": 1,
   "metadata": {},
   "outputs": [
    {
     "name": "stdout",
     "output_type": "stream",
     "text": [
      "M 1\n",
      "i 4\n",
      "s 4\n",
      "p 2\n"
     ]
    }
   ],
   "source": [
    "count = {}\n",
    "for cc in \"Mississippi\":\n",
    "    count[cc] = count.setdefault(cc, 0) + 1\n",
    "\n",
    "for cc in count:\n",
    "    print(cc, count[cc])"
   ]
  },
  {
   "cell_type": "markdown",
   "metadata": {},
   "source": [
    "## Dictionaries and `for` loops"
   ]
  },
  {
   "cell_type": "code",
   "execution_count": 2,
   "metadata": {},
   "outputs": [
    {
     "name": "stdout",
     "output_type": "stream",
     "text": [
      "M 1\n",
      "i 4\n",
      "s 4\n",
      "p 2\n"
     ]
    }
   ],
   "source": [
    "count = {}\n",
    "for cc in \"Mississippi\":\n",
    "    count[cc] = count.setdefault(cc, 0) + 1\n",
    "\n",
    "for cc in count:\n",
    "    print(cc, count[cc])"
   ]
  },
  {
   "cell_type": "markdown",
   "metadata": {},
   "source": [
    "## Removing items from a dictionary"
   ]
  },
  {
   "cell_type": "code",
   "execution_count": 4,
   "metadata": {},
   "outputs": [
    {
     "name": "stdout",
     "output_type": "stream",
     "text": [
      "players: {7: 'Beckham', 10: 'Messie', 11: 'Salah'}\n",
      "players: {}\n"
     ]
    }
   ],
   "source": [
    "players = {7:\"Beckham\", 10:\"Messie\",11:\"Salah\"}\n",
    "print(\"players:\", players)\n",
    "players.clear()\n",
    "print(\"players:\", players)"
   ]
  },
  {
   "cell_type": "code",
   "execution_count": 5,
   "metadata": {},
   "outputs": [
    {
     "name": "stdout",
     "output_type": "stream",
     "text": [
      "players: {7: 'Beckham', 10: 'Messie', 11: 'Salah'}\n",
      "players: {10: 'Messie', 11: 'Salah'}\n"
     ]
    }
   ],
   "source": [
    "players = {7:\"Beckham\", 10:\"Messie\",11:\"Salah\"}\n",
    "print(\"players:\", players)\n",
    "del(players[7]) #retired\n",
    "print(\"players:\", players)"
   ]
  },
  {
   "cell_type": "code",
   "execution_count": 8,
   "metadata": {},
   "outputs": [
    {
     "name": "stdout",
     "output_type": "stream",
     "text": [
      "players: {7: 'Beckham', 10: 'Messie', 11: 'Salah'}\n",
      "Beckham has retired.\n",
      "players: {10: 'Messie', 11: 'Salah'}\n"
     ]
    }
   ],
   "source": [
    "players = {7:\"Beckham\", 10:\"Messie\",11:\"Salah\"}\n",
    "print(\"players:\", players)\n",
    "print(players.pop(7), \"has retired.\")\n",
    "print(\"players:\", players)"
   ]
  },
  {
   "cell_type": "code",
   "execution_count": null,
   "metadata": {},
   "outputs": [],
   "source": []
  }
 ],
 "metadata": {
  "kernelspec": {
   "display_name": "Python 3",
   "language": "python",
   "name": "python3"
  },
  "language_info": {
   "codemirror_mode": {
    "name": "ipython",
    "version": 3
   },
   "file_extension": ".py",
   "mimetype": "text/x-python",
   "name": "python",
   "nbconvert_exporter": "python",
   "pygments_lexer": "ipython3",
   "version": "3.8.3"
  }
 },
 "nbformat": 4,
 "nbformat_minor": 4
}
