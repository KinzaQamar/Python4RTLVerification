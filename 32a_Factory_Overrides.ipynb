{
 "cells": [
  {
   "cell_type": "markdown",
   "metadata": {},
   "source": [
    "# Factory Overrides"
   ]
  },
  {
   "cell_type": "code",
   "execution_count": 1,
   "metadata": {},
   "outputs": [
    {
     "name": "stdout",
     "output_type": "stream",
     "text": [
      "0 1\n",
      "1 2\n",
      "2 3\n",
      "3 4\n",
      "4 5\n"
     ]
    }
   ],
   "source": [
    "from pyuvm import *\n",
    "\n",
    "class Producer(uvm_component):\n",
    "    def build_phase(self):\n",
    "        self.ap = uvm_analysis_port(\"ap\", self)\n",
    "        \n",
    "    def run_phase(self):\n",
    "        self.raise_objection()\n",
    "        for nn in range(5):\n",
    "            self.ap.write(nn)\n",
    "        self.drop_objection()\n",
    "        \n",
    "class Consumer(uvm_subscriber):\n",
    "    def write(self, datum):\n",
    "        print(datum, end=\" \")\n",
    "\n",
    "class VertConsumer(Consumer):\n",
    "    def write(self, datum):\n",
    "        print(datum)\n",
    "\n",
    "class IncConsumer(VertConsumer):\n",
    "    def write(self, datum):\n",
    "        print(datum+1)\n",
    "        \n",
    "class Env(uvm_env):\n",
    "    def build_phase(self):\n",
    "        self.pro  = Producer.create(\"pro\", self)\n",
    "        self.con   = Consumer.create(\"con\", self)\n",
    "        self.con2  = Consumer.create(\"con2\", self)\n",
    "\n",
    "    def connect_phase(self):\n",
    "        self.pro.ap.connect(self.con)\n",
    "        self.pro.ap.connect(self.con2)\n",
    "\n",
    "class BaseTest(uvm_test):\n",
    "    def build_phase(self):\n",
    "        self.env = Env.create(\"env\", self)\n",
    "\n",
    "class VertTest(BaseTest):\n",
    "    def build_phase(self):\n",
    "        uvm_factory().set_type_override_by_type(Consumer, VertConsumer)\n",
    "        super().build_phase()\n",
    "\n",
    "class IncTest(BaseTest):\n",
    "    def build_phase(self):\n",
    "        uvm_factory().set_inst_override_by_type(Consumer, IncConsumer, self.get_full_name()+\".env.con2\")\n",
    "        super().build_phase()\n",
    "        \n",
    "uvm_root().run_test(\"IncTest\")\n",
    "            "
   ]
  },
  {
   "cell_type": "code",
   "execution_count": null,
   "metadata": {},
   "outputs": [],
   "source": []
  }
 ],
 "metadata": {
  "kernelspec": {
   "display_name": "Python 3",
   "language": "python",
   "name": "python3"
  },
  "language_info": {
   "codemirror_mode": {
    "name": "ipython",
    "version": 3
   },
   "file_extension": ".py",
   "mimetype": "text/x-python",
   "name": "python",
   "nbconvert_exporter": "python",
   "pygments_lexer": "ipython3",
   "version": "3.8.3"
  }
 },
 "nbformat": 4,
 "nbformat_minor": 4
}
