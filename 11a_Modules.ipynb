{
 "cells": [
  {
   "cell_type": "markdown",
   "metadata": {},
   "source": [
    "## Modules"
   ]
  },
  {
   "cell_type": "code",
   "execution_count": 9,
   "metadata": {},
   "outputs": [
    {
     "name": "stdout",
     "output_type": "stream",
     "text": [
      "['In', 'Out', '_', '_4', '__', '___', '__builtin__', '__builtins__', '__doc__', '__loader__', '__name__', '__package__', '__spec__', '_dh', '_i', '_i1', '_i2', '_i3', '_i4', '_i5', '_i6', '_i7', '_i8', '_i9', '_ih', '_ii', '_iii', '_oh', 'aa', 'exit', 'foo', 'get_ipython', 'quit']\n"
     ]
    }
   ],
   "source": [
    "aa = 5\n",
    "class foo:\n",
    "    \"\"\"example class\"\"\"\n",
    "    ...\n",
    "print(dir())\n"
   ]
  },
  {
   "cell_type": "markdown",
   "metadata": {},
   "source": [
    "Importing a module and referencing a class in it"
   ]
  },
  {
   "cell_type": "code",
   "execution_count": 15,
   "metadata": {},
   "outputs": [
    {
     "name": "stdout",
     "output_type": "stream",
     "text": [
      "FIFO_DEBUG: 5\n"
     ]
    }
   ],
   "source": [
    "import pyuvm\n",
    "print(\"FIFO_DEBUG:\", pyuvm.FIFO_DEBUG)"
   ]
  },
  {
   "cell_type": "code",
   "execution_count": 23,
   "metadata": {},
   "outputs": [
    {
     "name": "stdout",
     "output_type": "stream",
     "text": [
      "FIFO_DEBUG: 5\n"
     ]
    }
   ],
   "source": [
    "import pyuvm as p\n",
    "print(\"FIFO_DEBUG:\", p.FIFO_DEBUG)"
   ]
  },
  {
   "cell_type": "code",
   "execution_count": 14,
   "metadata": {},
   "outputs": [
    {
     "name": "stdout",
     "output_type": "stream",
     "text": [
      "FIFO_DEBUG in dir(): False\n"
     ]
    }
   ],
   "source": [
    "print(\"FIFO_DEBUG in dir():\", \"FIFO_DEBUG\" in dir())"
   ]
  },
  {
   "cell_type": "markdown",
   "metadata": {},
   "source": [
    "Importing a specific class from a module. Notice that other classes are not imported."
   ]
  },
  {
   "cell_type": "code",
   "execution_count": 17,
   "metadata": {},
   "outputs": [
    {
     "name": "stdout",
     "output_type": "stream",
     "text": [
      "FIFO_DEBUG in dir() True\n",
      "FIFO_DEBUG: 5\n"
     ]
    }
   ],
   "source": [
    "from pyuvm import FIFO_DEBUG\n",
    "print(\"FIFO_DEBUG in dir()\", \"FIFO_DEBUG\" in dir())\n",
    "print(\"FIFO_DEBUG:\", FIFO_DEBUG)"
   ]
  },
  {
   "cell_type": "code",
   "execution_count": 22,
   "metadata": {},
   "outputs": [
    {
     "name": "stdout",
     "output_type": "stream",
     "text": [
      "FIFO_DEBUG in dir() True\n",
      "FIFO_DEBUG: 5\n"
     ]
    }
   ],
   "source": [
    "from pyuvm import *\n",
    "print(\"FIFO_DEBUG in dir()\", \"FIFO_DEBUG\" in dir())\n",
    "print(\"FIFO_DEBUG:\", FIFO_DEBUG)"
   ]
  },
  {
   "cell_type": "code",
   "execution_count": null,
   "metadata": {},
   "outputs": [],
   "source": []
  }
 ],
 "metadata": {
  "kernelspec": {
   "display_name": "Python 3",
   "language": "python",
   "name": "python3"
  },
  "language_info": {
   "codemirror_mode": {
    "name": "ipython",
    "version": 3
   },
   "file_extension": ".py",
   "mimetype": "text/x-python",
   "name": "python",
   "nbconvert_exporter": "python",
   "pygments_lexer": "ipython3",
   "version": "3.8.3"
  }
 },
 "nbformat": 4,
 "nbformat_minor": 4
}
