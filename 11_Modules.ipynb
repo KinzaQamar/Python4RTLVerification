{
 "cells": [
  {
   "cell_type": "markdown",
   "source": [
    "## Modules"
   ],
   "metadata": {}
  },
  {
   "cell_type": "markdown",
   "source": [
    "Creating a `uvm_component` changes the state of our program. This means that we should restart the Jupyter\n",
    "each time we rerun this program.  The `>>` button above does that."
   ],
   "metadata": {}
  },
  {
   "cell_type": "markdown",
   "source": [
    "Importing all classes and objects from a module."
   ],
   "metadata": {}
  },
  {
   "cell_type": "code",
   "execution_count": 1,
   "source": [
    "from pyuvm import *\n",
    "xx = uvm_object(\"xx\")\n",
    "print(\"object name:\", xx.get_name())\n",
    "yy = uvm_component(\"yy\", None)\n",
    "zz = uvm_component(\"zz\", yy)\n",
    "print(\"component 'zz' full name:\", zz.get_full_name())"
   ],
   "outputs": [
    {
     "output_type": "stream",
     "name": "stdout",
     "text": [
      "object name: xx\n",
      "component 'zz' full name: yy.zz\n"
     ]
    }
   ],
   "metadata": {}
  },
  {
   "cell_type": "code",
   "execution_count": 1,
   "source": [
    "import sys\n",
    "print(sys.path)"
   ],
   "outputs": [
    {
     "output_type": "stream",
     "name": "stdout",
     "text": [
      "['/Users/raysalemi/repos/python4uvm_examples', '/Users/raysalemi/opt/anaconda3/lib/python38.zip', '/Users/raysalemi/opt/anaconda3/lib/python3.8', '/Users/raysalemi/opt/anaconda3/lib/python3.8/lib-dynload', '', '/Users/raysalemi/.local/lib/python3.8/site-packages', '/Users/raysalemi/opt/anaconda3/lib/python3.8/site-packages', '/Users/raysalemi/opt/anaconda3/lib/python3.8/site-packages/aeosa', '/Users/raysalemi/repos/pyuvm', '/Users/raysalemi/opt/anaconda3/lib/python3.8/site-packages/IPython/extensions', '/Users/raysalemi/.ipython']\n"
     ]
    }
   ],
   "metadata": {}
  },
  {
   "cell_type": "code",
   "execution_count": null,
   "source": [],
   "outputs": [],
   "metadata": {}
  }
 ],
 "metadata": {
  "kernelspec": {
   "display_name": "Python 3.8.3 64-bit ('base': conda)",
   "language": "python",
   "name": "python383jvsc74a57bd0d24816daa5bfd7761e7ebb7f877a675ac56b46db76906dba43079628f1df08b6"
  },
  "language_info": {
   "codemirror_mode": {
    "name": "ipython",
    "version": 3
   },
   "file_extension": ".py",
   "mimetype": "text/x-python",
   "name": "python",
   "nbconvert_exporter": "python",
   "pygments_lexer": "ipython3",
   "version": "3.8.3"
  }
 },
 "nbformat": 4,
 "nbformat_minor": 4
}