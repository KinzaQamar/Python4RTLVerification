{
 "cells": [
  {
   "cell_type": "markdown",
   "source": [
    "# Sets\n",
    "Remove duplicates and other tricks"
   ],
   "metadata": {}
  },
  {
   "cell_type": "markdown",
   "source": [
    "## Creating Sets"
   ],
   "metadata": {}
  },
  {
   "cell_type": "markdown",
   "source": [
    "Make a set from a list of digits:"
   ],
   "metadata": {}
  },
  {
   "cell_type": "code",
   "execution_count": null,
   "source": [],
   "outputs": [],
   "metadata": {}
  },
  {
   "cell_type": "code",
   "execution_count": 17,
   "source": [
    "digits = (3,1,4,1,5,9,2,6)\n",
    "digit_set = frozenset(digits)\n",
    "print(f\"digit_set: {digit_set}\")"
   ],
   "outputs": [
    {
     "output_type": "stream",
     "name": "stdout",
     "text": [
      "digit_set: frozenset({1, 2, 3, 4, 5, 6, 9})\n"
     ]
    }
   ],
   "metadata": {}
  },
  {
   "cell_type": "code",
   "execution_count": 3,
   "source": [
    "inner_planets = {\"Mercury\",\"Venus\", \"Earth\", \"Mars\"}\n",
    "print(\"inner_planets:\", inner_planets)"
   ],
   "outputs": [
    {
     "output_type": "stream",
     "name": "stdout",
     "text": [
      "inner_planets: {'Mercury', 'Mars', 'Venus', 'Earth'}\n"
     ]
    }
   ],
   "metadata": {}
  },
  {
   "cell_type": "code",
   "execution_count": 1,
   "source": [
    "first_squares = {nn**2 for nn in range(1,6)}\n",
    "print(f\"First five squares: {first_squares}\")"
   ],
   "outputs": [
    {
     "output_type": "stream",
     "name": "stdout",
     "text": [
      "First five squares: {1, 4, 9, 16, 25}\n"
     ]
    }
   ],
   "metadata": {}
  },
  {
   "cell_type": "markdown",
   "source": [
    "## Set Operations\n",
    "From simple to complex"
   ],
   "metadata": {}
  },
  {
   "cell_type": "markdown",
   "source": [
    "### Checking Set Membership"
   ],
   "metadata": {}
  },
  {
   "cell_type": "code",
   "execution_count": 19,
   "source": [
    "legal_ops = {\"add\", \"and\", \"mul\", \"xor\"}\n",
    "print(\"div is legal:\", \"div\" in legal_ops)\n",
    "print(\"and is legal:\", \"and\" in legal_ops)"
   ],
   "outputs": [
    {
     "output_type": "stream",
     "name": "stdout",
     "text": [
      "div is legal: False\n",
      "and is legal: True\n"
     ]
    }
   ],
   "metadata": {}
  },
  {
   "cell_type": "markdown",
   "source": [
    "Is it not there?"
   ],
   "metadata": {}
  },
  {
   "cell_type": "code",
   "execution_count": 22,
   "source": [
    "legal_ops = {\"add\", \"and\", \"mul\", \"xor\"}\n",
    "print(\"You cannot div:\", \"div\" not in legal_ops)"
   ],
   "outputs": [
    {
     "output_type": "stream",
     "name": "stdout",
     "text": [
      "You cannot div: True\n"
     ]
    }
   ],
   "metadata": {}
  },
  {
   "cell_type": "markdown",
   "source": [
    "`isdisjoint()`"
   ],
   "metadata": {}
  },
  {
   "cell_type": "code",
   "execution_count": 20,
   "source": [
    "boston={\"Red Sox\", \"Bruins\", \"Celtics\", \"Patriots\"}\n",
    "newyork={\"Yankees\", \"Rangers\", \"Knicks\", \"Jets\"}\n",
    "print(\"There are no teams both cities support: \", boston.isdisjoint(newyork))"
   ],
   "outputs": [
    {
     "output_type": "stream",
     "name": "stdout",
     "text": [
      "There are no teams both cities support:  True\n"
     ]
    }
   ],
   "metadata": {
    "scrolled": true
   }
  },
  {
   "cell_type": "markdown",
   "source": [
    "`issubset()`"
   ],
   "metadata": {}
  },
  {
   "cell_type": "code",
   "execution_count": 2,
   "source": [
    "numbers = set(range(7))\n",
    "odd = {xx for xx in range(7) if xx % 2 == 1}\n",
    "print(\"numbers:\", numbers)\n",
    "print(\"odd: \", odd)\n",
    "print(f\"Odd numbers are subset of numbers: {odd.issubset(numbers)}\")"
   ],
   "outputs": [
    {
     "output_type": "stream",
     "name": "stdout",
     "text": [
      "numbers: {0, 1, 2, 3, 4, 5, 6}\n",
      "odd:  {1, 3, 5}\n",
      "Odd numbers are subset of numbers: True\n"
     ]
    }
   ],
   "metadata": {}
  },
  {
   "cell_type": "markdown",
   "source": [
    "Comparison"
   ],
   "metadata": {}
  },
  {
   "cell_type": "code",
   "execution_count": 7,
   "source": [
    "five = set(range(5)) # 0,1,2,3,4\n",
    "ten = set(range(10)) # 0,1,2,3,4,5,6,7,8,9\n",
    "even = set(range(0,10,2)) # 0,2,4,6,8\n",
    "print(\"          even <= ten: \", even <= ten)\n",
    "print(\"          even <=even: \", even <= even)\n",
    "print(\"          even < even: \", even < even)\n",
    "print(\"   even.issubset(ten): \", even.issubset(even))\n",
    "print(\" even.issuperset(ten): \",  even.issuperset(ten))\n",
    "print(\"          five >= ten: \", five >= ten)\n",
    "print(\"          ten  >= ten: \", ten >= ten )\n",
    "print(\"          ten  >  ten: \", ten > ten)\n",
    "print(\"         even == even: \", even == even)"
   ],
   "outputs": [
    {
     "output_type": "stream",
     "name": "stdout",
     "text": [
      "          even <= ten:  True\n",
      "          even <=even:  True\n",
      "          even < even:  False\n",
      "   even.issubset(ten):  True\n",
      " even.issuperset(ten):  False\n",
      "          five >= ten:  False\n",
      "          ten  >= ten:  True\n",
      "          ten  >  ten:  False\n",
      "         even == even:  True\n"
     ]
    }
   ],
   "metadata": {}
  },
  {
   "cell_type": "markdown",
   "source": [
    "Operations"
   ],
   "metadata": {}
  },
  {
   "cell_type": "code",
   "execution_count": 5,
   "source": [
    "toute = set(range(10))\n",
    "four = set(range(4))\n",
    "even = set(range(0,10,2))\n",
    "odd  = set(range(1,10,2))\n",
    "div3 = set(range(0,10,3))\n",
    "print(\"             even | odd: \", even | odd )\n",
    "print(\"             even & odd: \", even & odd )\n",
    "print(\"            even & div3: \", even & div3)\n",
    "print(\"   (toute - even) == odd: \", (toute - even) == odd)\n",
    "print(\"            toute ^ four: \", toute ^ four)"
   ],
   "outputs": [
    {
     "output_type": "stream",
     "name": "stdout",
     "text": [
      "             even | odd:  {0, 1, 2, 3, 4, 5, 6, 7, 8, 9}\n",
      "             even & odd:  set()\n",
      "            even & div3:  {0, 6}\n",
      "   (toute - even) == odd:  True\n",
      "            toute ^ four:  {4, 5, 6, 7, 8, 9}\n"
     ]
    }
   ],
   "metadata": {}
  },
  {
   "cell_type": "markdown",
   "source": [
    "Methods"
   ],
   "metadata": {}
  },
  {
   "cell_type": "code",
   "execution_count": 3,
   "source": [
    "toute = set(range(10))\n",
    "four  = set(range(4))\n",
    "even  = set(range(0,10,2))\n",
    "odd   = set(range(1,10,2))\n",
    "div3  = set(range(0,10,3))\n",
    "print(\"        even.union(odd): \", even.union(odd))\n",
    "print(\" even.intersection(odd): \", even.intersection(odd))\n",
    "print(\"even.intersection(div3): \", even.intersection(div3))\n",
    "print(\"  toute.difference(even): \", toute.difference(even))\n",
    "print(\"toute.symmetric_difference(four):\", toute.symmetric_difference(four))"
   ],
   "outputs": [
    {
     "output_type": "stream",
     "name": "stdout",
     "text": [
      "        even.union(odd):  {0, 1, 2, 3, 4, 5, 6, 7, 8, 9}\n",
      " even.intersection(odd):  set()\n",
      "even.intersection(div3):  {0, 6}\n",
      "  toute.difference(even):  {1, 3, 5, 7, 9}\n",
      "toute.symmetric_difference(four): {4, 5, 6, 7, 8, 9}\n"
     ]
    }
   ],
   "metadata": {
    "scrolled": true
   }
  },
  {
   "cell_type": "markdown",
   "source": [
    "## Removing Duplicates From a List"
   ],
   "metadata": {}
  },
  {
   "cell_type": "code",
   "execution_count": 8,
   "source": [
    "birds_seen_1 = [\"Robin\", \"Eagle\", \"Blue Jay\"]\n",
    "birds_seen_2 = [\"Sparrow\", \"Eagle\", \"Crow\"]\n",
    "all_birds_seen = birds_seen_1 + birds_seen_2\n",
    "print(\"Birds reported   : \", all_birds_seen)\n",
    "\n",
    "# Convert to set and back to remove duplicates\n",
    "all_birds_seen = list(set(all_birds_seen))\n",
    "print(\"Unique birds seen: \", all_birds_seen)"
   ],
   "outputs": [
    {
     "output_type": "stream",
     "name": "stdout",
     "text": [
      "Birds reported   :  ['Robin', 'Eagle', 'Blue Jay', 'Sparrow', 'Eagle', 'Crow']\n",
      "Unique birds seen:  ['Sparrow', 'Robin', 'Eagle', 'Crow', 'Blue Jay']\n"
     ]
    }
   ],
   "metadata": {}
  },
  {
   "cell_type": "code",
   "execution_count": null,
   "source": [],
   "outputs": [],
   "metadata": {}
  }
 ],
 "metadata": {
  "kernelspec": {
   "display_name": "Python 3",
   "language": "python",
   "name": "python3"
  },
  "language_info": {
   "name": "python",
   "version": "3.8.3",
   "mimetype": "text/x-python",
   "codemirror_mode": {
    "name": "ipython",
    "version": 3
   },
   "pygments_lexer": "ipython3",
   "nbconvert_exporter": "python",
   "file_extension": ".py"
  }
 },
 "nbformat": 4,
 "nbformat_minor": 4
}