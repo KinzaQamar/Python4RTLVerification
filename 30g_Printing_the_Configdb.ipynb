{
 "cells": [
  {
   "cell_type": "markdown",
   "metadata": {},
   "source": [
    "# The Configuration Database\n",
    "\n",
    "## Printing the ConfigDB"
   ]
  },
  {
   "cell_type": "code",
   "execution_count": 1,
   "metadata": {
    "scrolled": false
   },
   "outputs": [
    {
     "name": "stderr",
     "output_type": "stream",
     "text": [
      "INFO: <ipython-input-1-efad496943b4>(10)[uvm_test_top.p1]: Hooray for me! Boo them!\n",
      "INFO: <ipython-input-1-efad496943b4>(10)[uvm_test_top.p2]: Hooray for me! Boo them!\n",
      "INFO: <ipython-input-1-efad496943b4>(10)[uvm_test_top.mediator]: Settle down, you two.\n",
      "INFO: <ipython-input-1-efad496943b4>(10)[uvm_test_top.reporters]: What's going on?\n"
     ]
    },
    {
     "name": "stdout",
     "output_type": "stream",
     "text": [
      "\n",
      "PATH                : FIELD     : DATA                          \n",
      "uvm_test_top.*p?    : MSG       : {999: 'Hooray for me! Boo them!'}\n",
      "uvm_test_top.*me*   : MSG       : {999: 'Settle down, you two.'}\n",
      "uvm_test_top.*      : MSG       : {999: \"What's going on?\"}\n"
     ]
    }
   ],
   "source": [
    "from pyuvm import *\n",
    "import time\n",
    "\n",
    "\n",
    "class Printer(uvm_component):\n",
    "    def build_phase(self):\n",
    "        self.msg = self.cdb_get(\"MSG\")\n",
    "    \n",
    "    def report_phase(self):\n",
    "        self.logger.info(self.msg)\n",
    "\n",
    "class PrintTest(uvm_test):\n",
    "    def build_phase(self):\n",
    "        self.cdb_set(\"MSG\", f\"Hooray for me! Boo them!\", inst_path='*p?')\n",
    "        self.cdb_set(\"MSG\", \"Settle down, you two.\", inst_path='*me*')\n",
    "        self.cdb_set(\"MSG\", \"What's going on?\")\n",
    "        self.p1 = Printer(\"p1\", self)\n",
    "        self.p2 = Printer(\"p2\", self)\n",
    "        self.mediator = Printer(\"mediator\", self)\n",
    "        self.reporters = Printer(\"reporters\", self)\n",
    "        \n",
    "    def end_of_elaboration_phase(self):\n",
    "        print(ConfigDB())\n",
    "        \n",
    "    def run_phase(self):\n",
    "        \"\"\"Keeps us from gettng the objection warning (not in the book)\"\"\"\n",
    "        self.raise_objection()\n",
    "        time.sleep(.05)\n",
    "        self.drop_objection()\n",
    "\n",
    "uvm_root().run_test(\"PrintTest\")    "
   ]
  },
  {
   "cell_type": "code",
   "execution_count": null,
   "metadata": {},
   "outputs": [],
   "source": []
  }
 ],
 "metadata": {
  "kernelspec": {
   "display_name": "Python 3",
   "language": "python",
   "name": "python3"
  },
  "language_info": {
   "codemirror_mode": {
    "name": "ipython",
    "version": 3
   },
   "file_extension": ".py",
   "mimetype": "text/x-python",
   "name": "python",
   "nbconvert_exporter": "python",
   "pygments_lexer": "ipython3",
   "version": "3.8.3"
  }
 },
 "nbformat": 4,
 "nbformat_minor": 4
}
