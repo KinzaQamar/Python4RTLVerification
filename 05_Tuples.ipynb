{
 "cells": [
  {
   "cell_type": "markdown",
   "source": [
    "# Tuples\n",
    "\n"
   ],
   "metadata": {}
  },
  {
   "cell_type": "markdown",
   "source": [
    "### Creating tuples"
   ],
   "metadata": {}
  },
  {
   "cell_type": "code",
   "execution_count": 1,
   "source": [
    "dynamic_duo = \"Batman\", \"Robin\"\n",
    "print(\"Nananana! Batman!\", dynamic_duo)"
   ],
   "outputs": [
    {
     "output_type": "stream",
     "name": "stdout",
     "text": [
      "Nananana! Batman! ('Batman', 'Robin')\n"
     ]
    }
   ],
   "metadata": {
    "scrolled": true
   }
  },
  {
   "cell_type": "code",
   "execution_count": 1,
   "source": [
    "dynamic_duo = (\"Batman\", \"Robin\")\n",
    "print(\"Created using parentheses:\", dynamic_duo)"
   ],
   "outputs": [
    {
     "output_type": "stream",
     "name": "stdout",
     "text": [
      "Created using parentheses: ('Batman', 'Robin')\n"
     ]
    }
   ],
   "metadata": {}
  },
  {
   "cell_type": "code",
   "execution_count": 1,
   "source": [
    "villain = tuple(\"Joker\")\n",
    "print(villain)"
   ],
   "outputs": [
    {
     "output_type": "stream",
     "name": "stdout",
     "text": [
      "('J', 'o', 'k', 'e', 'r')\n"
     ]
    }
   ],
   "metadata": {}
  },
  {
   "cell_type": "markdown",
   "source": [
    "### Assiging tuple values"
   ],
   "metadata": {}
  },
  {
   "cell_type": "code",
   "execution_count": 6,
   "source": [
    "dynamic_duo = (\"Batman\", \"Robin\")\n",
    "print(\"Dynamic Duo:\", dynamic_duo)\n",
    "\n",
    "# Assign each to their own variable\n",
    "caped_crusader, boy_wonder = dynamic_duo\n",
    "print(\"Caped Crusader:\", caped_crusader)\n",
    "print(\"Boy Wonder:\", boy_wonder)"
   ],
   "outputs": [
    {
     "output_type": "stream",
     "name": "stdout",
     "text": [
      "Dynamic Duo: ('Batman', 'Robin')\n",
      "Caped Crusader: Batman\n",
      "Boy Wonder: Robin\n"
     ]
    }
   ],
   "metadata": {}
  },
  {
   "cell_type": "markdown",
   "source": [
    "### Accessing individual tuple items"
   ],
   "metadata": {}
  },
  {
   "cell_type": "code",
   "execution_count": 2,
   "source": [
    "dynamic_duo = \"Batman\", \"Robin\"\n",
    "print(\"I'm\",dynamic_duo[0])"
   ],
   "outputs": [
    {
     "output_type": "stream",
     "name": "stdout",
     "text": [
      "I'm Batman\n"
     ]
    }
   ],
   "metadata": {}
  },
  {
   "cell_type": "markdown",
   "source": [
    "Looping through a tuple"
   ],
   "metadata": {}
  },
  {
   "cell_type": "code",
   "execution_count": 3,
   "source": [
    "dynamic_duo = \"Batman\", \"Robin\"\n",
    "for caped_crusader in dynamic_duo:\n",
    "    print(\"It's\",caped_crusader)"
   ],
   "outputs": [
    {
     "output_type": "stream",
     "name": "stdout",
     "text": [
      "It's Batman\n",
      "It's Robin\n"
     ]
    }
   ],
   "metadata": {}
  },
  {
   "cell_type": "markdown",
   "source": [
    "Tuples are immutable"
   ],
   "metadata": {}
  },
  {
   "cell_type": "code",
   "execution_count": 4,
   "source": [
    "dynamic_duo = \"Batman\", \"Robin\"\n",
    "print(\"Sorry, Robin.\")\n",
    "dynamic_duo[1] = 'Catwoman'"
   ],
   "outputs": [
    {
     "output_type": "stream",
     "name": "stdout",
     "text": [
      "Sorry, Robin.\n"
     ]
    },
    {
     "output_type": "error",
     "ename": "TypeError",
     "evalue": "'tuple' object does not support item assignment",
     "traceback": [
      "\u001b[0;31m---------------------------------------------------------------------------\u001b[0m\n",
      "\u001b[0;31mTypeError\u001b[0m                                 Traceback (most recent call last)\n",
      "\u001b[0;32m<ipython-input-4-43ce1cedae34>\u001b[0m in \u001b[0;36m<module>\u001b[0;34m\u001b[0m\n",
      "\u001b[1;32m      1\u001b[0m \u001b[0mdynamic_duo\u001b[0m \u001b[0;34m=\u001b[0m \u001b[0;34m\"Batman\"\u001b[0m\u001b[0;34m,\u001b[0m \u001b[0;34m\"Robin\"\u001b[0m\u001b[0;34m\u001b[0m\u001b[0;34m\u001b[0m\u001b[0m\n",
      "\u001b[1;32m      2\u001b[0m \u001b[0mprint\u001b[0m\u001b[0;34m(\u001b[0m\u001b[0;34m\"Sorry, Robin.\"\u001b[0m\u001b[0;34m)\u001b[0m\u001b[0;34m\u001b[0m\u001b[0;34m\u001b[0m\u001b[0m\n",
      "\u001b[0;32m----> 3\u001b[0;31m \u001b[0mdynamic_duo\u001b[0m\u001b[0;34m[\u001b[0m\u001b[0;36m1\u001b[0m\u001b[0;34m]\u001b[0m \u001b[0;34m=\u001b[0m \u001b[0;34m'Catwoman'\u001b[0m\u001b[0;34m\u001b[0m\u001b[0;34m\u001b[0m\u001b[0m\n",
      "\u001b[0m\n",
      "\u001b[0;31mTypeError\u001b[0m: 'tuple' object does not support item assignment"
     ]
    }
   ],
   "metadata": {}
  },
  {
   "cell_type": "markdown",
   "source": [
    "## Returning multiple values\n"
   ],
   "metadata": {}
  },
  {
   "cell_type": "code",
   "execution_count": 5,
   "source": [
    "def dc_heroes():\n",
    "    return \"Batman\", \"Superman\", \"Wonder Woman\"\n",
    "\n",
    "# Now call the function\n",
    "human, Kryptonian, Amazon = dc_heroes()\n",
    "print(\"Human     \",human)\n",
    "print(\"Kryptonian\",Kryptonian)\n",
    "print(\"Amazon    \",Amazon)"
   ],
   "outputs": [
    {
     "output_type": "stream",
     "name": "stdout",
     "text": [
      "Human      Batman\n",
      "Kryptonian Superman\n",
      "Amazon     Wonder Woman\n"
     ]
    }
   ],
   "metadata": {}
  }
 ],
 "metadata": {
  "kernelspec": {
   "display_name": "Python 3",
   "language": "python",
   "name": "python3"
  },
  "language_info": {
   "name": "python",
   "version": "3.8.3",
   "mimetype": "text/x-python",
   "codemirror_mode": {
    "name": "ipython",
    "version": 3
   },
   "pygments_lexer": "ipython3",
   "nbconvert_exporter": "python",
   "file_extension": ".py"
  }
 },
 "nbformat": 4,
 "nbformat_minor": 4
}