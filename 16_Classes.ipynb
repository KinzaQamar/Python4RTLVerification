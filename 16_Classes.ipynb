{
 "cells": [
  {
   "cell_type": "markdown",
   "metadata": {},
   "source": [
    "# Classes\n",
    "\n",
    "## Defining classes and instantiating objects"
   ]
  },
  {
   "cell_type": "code",
   "execution_count": 1,
   "metadata": {},
   "outputs": [],
   "source": [
    "class EmptyClass:\n",
    "    \"\"\"This class defines nothing\"\"\"\n",
    "    ..."
   ]
  },
  {
   "cell_type": "code",
   "execution_count": 2,
   "metadata": {},
   "outputs": [
    {
     "name": "stdout",
     "output_type": "stream",
     "text": [
      "Walrus mass: 1000\n"
     ]
    }
   ],
   "source": [
    "class Animal:\n",
    "    \"\"\"Holds a generic Animal\"\"\"\n",
    "\n",
    "walrus = Animal()\n",
    "walrus.kg = 1000\n",
    "print(\"Walrus mass:\", walrus.kg)"
   ]
  },
  {
   "cell_type": "markdown",
   "metadata": {},
   "source": [
    "## Defining method functions"
   ]
  },
  {
   "cell_type": "code",
   "execution_count": 3,
   "metadata": {},
   "outputs": [
    {
     "name": "stdout",
     "output_type": "stream",
     "text": [
      "Walrus weight in pounds 454.55\n"
     ]
    }
   ],
   "source": [
    "class Animal:\n",
    "    \"\"\"Holds a generic Animal\"\"\"\n",
    "    def get_pounds(self):\n",
    "        return self.kg/2.2\n",
    "    \n",
    "walrus = Animal()\n",
    "walrus.kg = 1000\n",
    "print(f\"Walrus weight in pounds {walrus.get_pounds():2.2f}\")"
   ]
  },
  {
   "cell_type": "markdown",
   "metadata": {},
   "source": [
    "## The `self` variable"
   ]
  },
  {
   "cell_type": "code",
   "execution_count": 4,
   "metadata": {},
   "outputs": [
    {
     "name": "stdout",
     "output_type": "stream",
     "text": [
      "Walrus weight in pounds 454.55\n"
     ]
    }
   ],
   "source": [
    "class Animal:\n",
    "    \"\"\"Holds a generic Animal\"\"\"\n",
    "    def get_pounds(self):\n",
    "        return self.kg/2.2\n",
    "    \n",
    "walrus = Animal()\n",
    "walrus.kg = 1000\n",
    "\n",
    "pounds = Animal.get_pounds(walrus) # Explicit Call\n",
    "\n",
    "print(f\"Walrus weight in pounds {pounds:2.2f}\")"
   ]
  },
  {
   "cell_type": "markdown",
   "metadata": {},
   "source": [
    "## Initializing an object"
   ]
  },
  {
   "cell_type": "code",
   "execution_count": 5,
   "metadata": {},
   "outputs": [
    {
     "ename": "AttributeError",
     "evalue": "'Animal' object has no attribute 'kg'",
     "output_type": "error",
     "traceback": [
      "\u001b[0;31m---------------------------------------------------------------------------\u001b[0m",
      "\u001b[0;31mAttributeError\u001b[0m                            Traceback (most recent call last)",
      "\u001b[0;32m<ipython-input-5-b6579f99a808>\u001b[0m in \u001b[0;36m<module>\u001b[0;34m\u001b[0m\n\u001b[1;32m      5\u001b[0m \u001b[0;34m\u001b[0m\u001b[0m\n\u001b[1;32m      6\u001b[0m \u001b[0myorkie\u001b[0m \u001b[0;34m=\u001b[0m \u001b[0mAnimal\u001b[0m\u001b[0;34m(\u001b[0m\u001b[0;34m)\u001b[0m\u001b[0;34m\u001b[0m\u001b[0;34m\u001b[0m\u001b[0m\n\u001b[0;32m----> 7\u001b[0;31m \u001b[0mpounds\u001b[0m \u001b[0;34m=\u001b[0m \u001b[0myorkie\u001b[0m\u001b[0;34m.\u001b[0m\u001b[0mget_pounds\u001b[0m\u001b[0;34m(\u001b[0m\u001b[0;34m)\u001b[0m\u001b[0;34m\u001b[0m\u001b[0;34m\u001b[0m\u001b[0m\n\u001b[0m\u001b[1;32m      8\u001b[0m \u001b[0mprint\u001b[0m\u001b[0;34m(\u001b[0m\u001b[0;34mf\"Yorkie weight in pounds {pounds:2.2f}\"\u001b[0m\u001b[0;34m)\u001b[0m\u001b[0;34m\u001b[0m\u001b[0;34m\u001b[0m\u001b[0m\n",
      "\u001b[0;32m<ipython-input-5-b6579f99a808>\u001b[0m in \u001b[0;36mget_pounds\u001b[0;34m(self)\u001b[0m\n\u001b[1;32m      2\u001b[0m     \u001b[0;34m\"\"\"Holds a generic Animal\"\"\"\u001b[0m\u001b[0;34m\u001b[0m\u001b[0;34m\u001b[0m\u001b[0m\n\u001b[1;32m      3\u001b[0m     \u001b[0;32mdef\u001b[0m \u001b[0mget_pounds\u001b[0m\u001b[0;34m(\u001b[0m\u001b[0mself\u001b[0m\u001b[0;34m)\u001b[0m\u001b[0;34m:\u001b[0m\u001b[0;34m\u001b[0m\u001b[0;34m\u001b[0m\u001b[0m\n\u001b[0;32m----> 4\u001b[0;31m         \u001b[0;32mreturn\u001b[0m \u001b[0mself\u001b[0m\u001b[0;34m.\u001b[0m\u001b[0mkg\u001b[0m\u001b[0;34m/\u001b[0m\u001b[0;36m2.2\u001b[0m\u001b[0;34m\u001b[0m\u001b[0;34m\u001b[0m\u001b[0m\n\u001b[0m\u001b[1;32m      5\u001b[0m \u001b[0;34m\u001b[0m\u001b[0m\n\u001b[1;32m      6\u001b[0m \u001b[0myorkie\u001b[0m \u001b[0;34m=\u001b[0m \u001b[0mAnimal\u001b[0m\u001b[0;34m(\u001b[0m\u001b[0;34m)\u001b[0m\u001b[0;34m\u001b[0m\u001b[0;34m\u001b[0m\u001b[0m\n",
      "\u001b[0;31mAttributeError\u001b[0m: 'Animal' object has no attribute 'kg'"
     ]
    }
   ],
   "source": [
    "class Animal:\n",
    "    \"\"\"Holds a generic Animal\"\"\"\n",
    "    def get_pounds(self):\n",
    "        return self.kg/2.2\n",
    "    \n",
    "yorkie = Animal()\n",
    "pounds = yorkie.get_pounds()\n",
    "print(f\"Yorkie weight in pounds {pounds:2.2f}\")"
   ]
  },
  {
   "cell_type": "code",
   "execution_count": 3,
   "metadata": {},
   "outputs": [
    {
     "name": "stdout",
     "output_type": "stream",
     "text": [
      "The Yorkie weighs 9.1 pounds\n"
     ]
    }
   ],
   "source": [
    "class Animal:\n",
    "    \"\"\"Holds a generic Animal\"\"\"\n",
    "    def __init__(self, kg):\n",
    "        self.kg = kg\n",
    "        \n",
    "    def get_pounds(self):\n",
    "        return self.kg/2.2\n",
    "    \n",
    "yorkie = Animal(20)\n",
    "print(f\"The Yorkie weighs {yorkie.get_pounds():2.1f} pounds\")"
   ]
  },
  {
   "cell_type": "code",
   "execution_count": null,
   "metadata": {},
   "outputs": [
    {
     "name": "stdout",
     "output_type": "stream",
     "text": [
      "Unnamed weighs 9.1 pounds\n"
     ]
    }
   ],
   "source": [
    "class Animal:\n",
    "    \"\"\"Holds a generic Animal\"\"\"\n",
    "    def __init__(self, kg, name=\"Unnamed\"):\n",
    "        self.kg = kg\n",
    "        self.name = name\n",
    "        \n",
    "    def get_pounds(self):\n",
    "        return self.kg/2.2\n",
    "    \n",
    "yorkie = Animal(20)\n",
    "print(f\"{yorkie.name} weighs {yorkie.get_pounds():2.1f} pounds\")"
   ]
  },
  {
   "cell_type": "markdown",
   "metadata": {},
   "source": [
    "## Class variables"
   ]
  },
  {
   "cell_type": "code",
   "execution_count": null,
   "metadata": {},
   "outputs": [
    {
     "name": "stdout",
     "output_type": "stream",
     "text": [
      "Number of sides in a triangle: 3\n"
     ]
    }
   ],
   "source": [
    "class Triangle:\n",
    "    side_count = 3\n",
    "    ...\n",
    "\n",
    "print(\"Number of sides in a triangle:\", Triangle.side_count)"
   ]
  },
  {
   "cell_type": "code",
   "execution_count": null,
   "metadata": {},
   "outputs": [
    {
     "name": "stdout",
     "output_type": "stream",
     "text": [
      "I have 3 sides.\n"
     ]
    }
   ],
   "source": [
    "class Triangle:\n",
    "    side_count = 3\n",
    "    def print_side_count(self):\n",
    "        print(f\"I have {self.side_count} sides.\")\n",
    "\n",
    "tri = Triangle()\n",
    "tri.print_side_count()"
   ]
  },
  {
   "cell_type": "markdown",
   "metadata": {},
   "source": [
    "## Class methods"
   ]
  },
  {
   "cell_type": "code",
   "execution_count": null,
   "metadata": {},
   "outputs": [
    {
     "name": "stdout",
     "output_type": "stream",
     "text": [
      "I have 3 sides.\n"
     ]
    }
   ],
   "source": [
    "class Triangle:\n",
    "    side_count = 3\n",
    "    @classmethod\n",
    "    def print_side_count(cls):\n",
    "        print(f\"I have {cls.side_count} sides.\")\n",
    "\n",
    "Triangle.print_side_count()"
   ]
  },
  {
   "cell_type": "code",
   "execution_count": null,
   "metadata": {},
   "outputs": [
    {
     "name": "stdout",
     "output_type": "stream",
     "text": [
      "I have 3 sides.\n"
     ]
    }
   ],
   "source": [
    "class Triangle:\n",
    "    side_count = 3\n",
    "    def print_side_count(self):\n",
    "        print(f\"I have {Triangle.side_count} sides.\")\n",
    "\n",
    "tri = Triangle()\n",
    "tri.print_side_count()"
   ]
  },
  {
   "cell_type": "markdown",
   "metadata": {},
   "source": [
    "## Static methods"
   ]
  },
  {
   "cell_type": "code",
   "execution_count": null,
   "metadata": {},
   "outputs": [
    {
     "name": "stdout",
     "output_type": "stream",
     "text": [
      "I have 3 sides.\n",
      "I have 3 sides.\n"
     ]
    }
   ],
   "source": [
    "class Triangle:\n",
    "    @staticmethod\n",
    "    def print_side_count():\n",
    "        print(f\"I have 3 sides.\")\n",
    "\n",
    "tri = Triangle()\n",
    "Triangle.print_side_count()\n",
    "tri.print_side_count()"
   ]
  },
  {
   "cell_type": "code",
   "execution_count": null,
   "metadata": {},
   "outputs": [],
   "source": []
  }
 ],
 "metadata": {
  "interpreter": {
   "hash": "d73acb3c06fb20381cdd8a59e4cc377e65b172b8dc786a82264d55979b1d4d78"
  },
  "kernelspec": {
   "display_name": "Python 3",
   "language": "python",
   "name": "python3"
  },
  "language_info": {
   "codemirror_mode": {
    "name": "ipython",
    "version": 3
   },
   "file_extension": ".py",
   "mimetype": "text/x-python",
   "name": "python",
   "nbconvert_exporter": "python",
   "pygments_lexer": "ipython3",
   "version": "3.8.3"
  }
 },
 "nbformat": 4,
 "nbformat_minor": 4
}
