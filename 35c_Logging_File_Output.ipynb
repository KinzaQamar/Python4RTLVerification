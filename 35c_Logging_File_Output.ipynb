{
 "cells": [
  {
   "cell_type": "markdown",
   "metadata": {},
   "source": [
    "# The TinyALU TLM Testbench"
   ]
  },
  {
   "cell_type": "code",
   "execution_count": null,
   "metadata": {},
   "outputs": [],
   "source": [
    "from pyuvm import *\n",
    "\n",
    "class Producer(uvm_component):\n",
    "    def build_phase(self):\n",
    "        self.pp = uvm_put_port(\"pp\", self)\n",
    "    \n",
    "    def run_phase(self):\n",
    "        self.raise_objection()\n",
    "        for nn in range(5):\n",
    "            self.pp.put(nn)\n",
    "            print(f\"Put {nn}\", end=\" \")\n",
    "        self.drop_objection()\n",
    "        \n",
    "class Consumer(uvm_component):\n",
    "    def build_phase(self):\n",
    "        self.gp = uvm_get_port(\"gp\", self)\n",
    "    \n",
    "    def run_phase(self):\n",
    "        while True:\n",
    "            nn = self.gp.get()\n",
    "            print(f\"Got {nn}\", end=\" \")\n",
    "\n",
    "class FIFOTest(uvm_test):\n",
    "    def build_phase(self):\n",
    "        self.prod = Producer(\"prod\", self)\n",
    "        self.cons = Consumer(\"cons\", self)\n",
    "        self.fifo = uvm_tlm_fifo(\"fifo\", self)\n",
    "        \n",
    "    def end_of_elaboration_phase(self):\n",
    "        file_handler = logging.FileHandler(\"put.txt\")\n",
    "        put_logger = logging.getLogger(\"uvm_test_top.fifo.put_export\")\n",
    "        put_logger.addHandler(file_handler)\n",
    "        self.set_logging_level_hier(FIFO_DEBUG)\n",
    "    \n",
    "    def connect_phase(self):\n",
    "        self.prod.pp.connect(self.fifo.put_export)\n",
    "        self.cons.gp.connect(self.fifo.get_export)\n",
    "\n",
    "uvm_root().run_test(\"FIFOTest\")"
   ]
  },
  {
   "cell_type": "code",
   "execution_count": null,
   "metadata": {},
   "outputs": [],
   "source": []
  }
 ],
 "metadata": {
  "kernelspec": {
   "display_name": "Python 3",
   "language": "python",
   "name": "python3"
  },
  "language_info": {
   "codemirror_mode": {
    "name": "ipython",
    "version": 3
   },
   "file_extension": ".py",
   "mimetype": "text/x-python",
   "name": "python",
   "nbconvert_exporter": "python",
   "pygments_lexer": "ipython3",
   "version": "3.8.3"
  }
 },
 "nbformat": 4,
 "nbformat_minor": 4
}
