{
 "cells": [
  {
   "cell_type": "markdown",
   "metadata": {},
   "source": [
    "# The TinyALU Model and Initial Testbench"
   ]
  },
  {
   "cell_type": "code",
   "execution_count": 10,
   "metadata": {},
   "outputs": [],
   "source": [
    "import enum\n",
    "\n",
    "@enum.unique\n",
    "class Ops(enum.IntEnum):\n",
    "    \"\"\"Legal ops for the TinyALU\"\"\"\n",
    "    NOP = 0\n",
    "    ADD = 1\n",
    "    AND = 2\n",
    "    XOR = 3\n",
    "    MUL = 4\n",
    "\n",
    "def alu_op(A, B, op):\n",
    "    \"\"\"TLM model of the TinyALU\"\"\"\n",
    "    assert isinstance(op, Ops), \"The tinyalu op must be of type ops\"\n",
    "    if op == ops.NOP:\n",
    "        result =  A\n",
    "    elif op == ops.ADD:\n",
    "        result = A + B\n",
    "    elif op == ops.AND:\n",
    "        result = A & B\n",
    "    elif op == ops.XOR:\n",
    "        result = A ^ B\n",
    "    elif op == ops.MUL:\n",
    "        result = A * B\n",
    "    return result"
   ]
  },
  {
   "cell_type": "code",
   "execution_count": 11,
   "metadata": {},
   "outputs": [
    {
     "name": "stdout",
     "output_type": "stream",
     "text": [
      "True\n"
     ]
    }
   ],
   "source": [
    "print(Ops.AND.value == 2)"
   ]
  },
  {
   "cell_type": "code",
   "execution_count": null,
   "metadata": {},
   "outputs": [],
   "source": []
  }
 ],
 "metadata": {
  "kernelspec": {
   "display_name": "Python 3",
   "language": "python",
   "name": "python3"
  },
  "language_info": {
   "codemirror_mode": {
    "name": "ipython",
    "version": 3
   },
   "file_extension": ".py",
   "mimetype": "text/x-python",
   "name": "python",
   "nbconvert_exporter": "python",
   "pygments_lexer": "ipython3",
   "version": "3.8.3"
  }
 },
 "nbformat": 4,
 "nbformat_minor": 4
}
