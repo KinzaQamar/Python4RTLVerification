{
 "cells": [
  {
   "cell_type": "markdown",
   "metadata": {},
   "source": [
    "# The Configuration Database"
   ]
  },
  {
   "cell_type": "markdown",
   "metadata": {},
   "source": [
    "## Hierarchy Precedence"
   ]
  },
  {
   "cell_type": "code",
   "execution_count": 1,
   "metadata": {},
   "outputs": [
    {
     "name": "stdout",
     "output_type": "stream",
     "text": [
      "\n",
      "PATH                : FIELD     : DATA                          \n",
      "uvm_test_top.mid.*  : CONFIG    : {999: 88, 998: 55}\n"
     ]
    }
   ],
   "source": [
    "from pyuvm import *\n",
    "\n",
    "class Bottom(uvm_component):\n",
    "    def build_phase(self):\n",
    "        self.numb = self.cdb_get(\"CONFIG\")\n",
    "\n",
    "class Middle(uvm_component):\n",
    "    def build_phase(self):\n",
    "        self.cdb_set(\"CONFIG\", 55)\n",
    "        self.bot = Bottom(\"bot\", self)\n",
    "\n",
    "class Test(uvm_test):\n",
    "    def build_phase(self):\n",
    "        self.cdb_set(\"CONFIG\", 88, inst_path=\"mid.*\")\n",
    "        self.mid = Middle(\"mid\", self)\n",
    "\n",
    "    def end_of_elaboration_phase(self):\n",
    "        print(ConfigDB())\n",
    "        \n",
    "    def run_phase(self):\n",
    "        self.raise_objection()\n",
    "        time.sleep(0.1)\n",
    "        self.drop_objection()\n",
    "\n",
    "uvm_root().run_test(\"Test\")"
   ]
  },
  {
   "cell_type": "code",
   "execution_count": null,
   "metadata": {},
   "outputs": [],
   "source": []
  }
 ],
 "metadata": {
  "kernelspec": {
   "display_name": "Python 3",
   "language": "python",
   "name": "python3"
  },
  "language_info": {
   "codemirror_mode": {
    "name": "ipython",
    "version": 3
   },
   "file_extension": ".py",
   "mimetype": "text/x-python",
   "name": "python",
   "nbconvert_exporter": "python",
   "pygments_lexer": "ipython3",
   "version": "3.8.3"
  }
 },
 "nbformat": 4,
 "nbformat_minor": 4
}
