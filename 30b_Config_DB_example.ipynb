{
 "cells": [
  {
   "cell_type": "markdown",
   "metadata": {},
   "source": [
    "# The Configuration Database\n",
    "\n",
    "## The Config Database"
   ]
  },
  {
   "cell_type": "code",
   "execution_count": 1,
   "metadata": {},
   "outputs": [
    {
     "name": "stdout",
     "output_type": "stream",
     "text": [
      "--- ConfigDB()---- \n",
      "PATH                : FIELD     : DATA                          \n",
      "uvm_test_top.aa     : CHILD     : {999: False}\n",
      "uvm_test_top.bb     : CHILD     : {999: True} \n",
      " ------------------\n",
      "My name: uvm_test_top.aa\n",
      "My name: uvm_test_top.bb\n",
      "My name: uvm_test_top.bb.cc\n",
      "Top's name: uvm_test_top\n"
     ]
    }
   ],
   "source": [
    "from pyuvm import *\n",
    "\n",
    "class NameMyself(uvm_component):\n",
    "    def build_phase(self):\n",
    "        try:\n",
    "            build_child = ConfigDB().get(self, \"\", \"CHILD\")\n",
    "        except UVMConfigItemNotFound:\n",
    "            build_child = False\n",
    "        if build_child:\n",
    "            self.cc = NameMyself(\"cc\", self)\n",
    "    \n",
    "    def end_of_elaboration_phase(self):\n",
    "        print(\"My name:\", self.get_full_name())\n",
    "\n",
    "class TopTest(uvm_test):\n",
    "    def build_phase(self):\n",
    "        ConfigDB().set(self, \"aa\", \"CHILD\", False)\n",
    "        ConfigDB().set(self, \"bb\", \"CHILD\", True)\n",
    "        print(\"--- ConfigDB()----\",ConfigDB(),\"\\n\",\"-\"*18)\n",
    "        self.aa = NameMyself(\"aa\", self)\n",
    "        self.bb = NameMyself(\"bb\", self)\n",
    "    \n",
    "    def run_phase(self):\n",
    "        self.raise_objection()\n",
    "        print(\"Top's name:\", self.get_full_name())\n",
    "        self.drop_objection()\n",
    "\n",
    "uvm_root().run_test(\"TopTest\")"
   ]
  },
  {
   "cell_type": "code",
   "execution_count": null,
   "metadata": {},
   "outputs": [],
   "source": []
  }
 ],
 "metadata": {
  "kernelspec": {
   "display_name": "Python 3",
   "language": "python",
   "name": "python3"
  },
  "language_info": {
   "codemirror_mode": {
    "name": "ipython",
    "version": 3
   },
   "file_extension": ".py",
   "mimetype": "text/x-python",
   "name": "python",
   "nbconvert_exporter": "python",
   "pygments_lexer": "ipython3",
   "version": "3.8.3"
  }
 },
 "nbformat": 4,
 "nbformat_minor": 4
}
