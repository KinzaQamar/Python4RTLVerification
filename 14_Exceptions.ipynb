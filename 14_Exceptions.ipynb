{
 "cells": [
  {
   "cell_type": "markdown",
   "metadata": {},
   "source": [
    "# Exceptions"
   ]
  },
  {
   "cell_type": "code",
   "execution_count": 5,
   "metadata": {},
   "outputs": [
    {
     "name": "stdout",
     "output_type": "stream",
     "text": [
      "0\n"
     ]
    }
   ],
   "source": [
    "def nice_div(dividend, divisor):\n",
    "    try:\n",
    "        return dividend/divisor\n",
    "    except ZeroDivisionError:\n",
    "        return 0\n",
    "\n",
    "print(nice_div(3,0))"
   ]
  },
  {
   "cell_type": "code",
   "execution_count": 2,
   "metadata": {},
   "outputs": [
    {
     "ename": "ZeroDivisionError",
     "evalue": "division by zero",
     "output_type": "error",
     "traceback": [
      "\u001b[0;31m---------------------------------------------------------------------------\u001b[0m",
      "\u001b[0;31mZeroDivisionError\u001b[0m                         Traceback (most recent call last)",
      "\u001b[0;32m<ipython-input-2-f6cc6d14333b>\u001b[0m in \u001b[0;36m<module>\u001b[0;34m\u001b[0m\n\u001b[0;32m----> 1\u001b[0;31m \u001b[0;36m3\u001b[0m\u001b[0;34m/\u001b[0m\u001b[0;36m0\u001b[0m\u001b[0;34m\u001b[0m\u001b[0;34m\u001b[0m\u001b[0m\n\u001b[0m",
      "\u001b[0;31mZeroDivisionError\u001b[0m: division by zero"
     ]
    }
   ],
   "source": [
    "3/0"
   ]
  },
  {
   "cell_type": "code",
   "execution_count": 6,
   "metadata": {},
   "outputs": [
    {
     "ename": "TypeError",
     "evalue": "unsupported operand type(s) for /: 'int' and 'str'",
     "output_type": "error",
     "traceback": [
      "\u001b[0;31m---------------------------------------------------------------------------\u001b[0m",
      "\u001b[0;31mTypeError\u001b[0m                                 Traceback (most recent call last)",
      "\u001b[0;32m<ipython-input-6-753ae11165b2>\u001b[0m in \u001b[0;36m<module>\u001b[0;34m\u001b[0m\n\u001b[1;32m      5\u001b[0m         \u001b[0;32mreturn\u001b[0m \u001b[0;36m0\u001b[0m\u001b[0;34m\u001b[0m\u001b[0;34m\u001b[0m\u001b[0m\n\u001b[1;32m      6\u001b[0m \u001b[0;34m\u001b[0m\u001b[0m\n\u001b[0;32m----> 7\u001b[0;31m \u001b[0mprint\u001b[0m\u001b[0;34m(\u001b[0m\u001b[0mnice_div\u001b[0m\u001b[0;34m(\u001b[0m\u001b[0;36m3\u001b[0m\u001b[0;34m,\u001b[0m\u001b[0;34m\"zero\"\u001b[0m\u001b[0;34m)\u001b[0m\u001b[0;34m)\u001b[0m\u001b[0;34m\u001b[0m\u001b[0;34m\u001b[0m\u001b[0m\n\u001b[0m",
      "\u001b[0;32m<ipython-input-6-753ae11165b2>\u001b[0m in \u001b[0;36mnice_div\u001b[0;34m(dividend, divisor)\u001b[0m\n\u001b[1;32m      1\u001b[0m \u001b[0;32mdef\u001b[0m \u001b[0mnice_div\u001b[0m\u001b[0;34m(\u001b[0m\u001b[0mdividend\u001b[0m\u001b[0;34m,\u001b[0m \u001b[0mdivisor\u001b[0m\u001b[0;34m)\u001b[0m\u001b[0;34m:\u001b[0m\u001b[0;34m\u001b[0m\u001b[0;34m\u001b[0m\u001b[0m\n\u001b[1;32m      2\u001b[0m     \u001b[0;32mtry\u001b[0m\u001b[0;34m:\u001b[0m\u001b[0;34m\u001b[0m\u001b[0;34m\u001b[0m\u001b[0m\n\u001b[0;32m----> 3\u001b[0;31m         \u001b[0;32mreturn\u001b[0m \u001b[0mdividend\u001b[0m\u001b[0;34m/\u001b[0m\u001b[0mdivisor\u001b[0m\u001b[0;34m\u001b[0m\u001b[0;34m\u001b[0m\u001b[0m\n\u001b[0m\u001b[1;32m      4\u001b[0m     \u001b[0;32mexcept\u001b[0m \u001b[0mZeroDivisionError\u001b[0m\u001b[0;34m:\u001b[0m\u001b[0;34m\u001b[0m\u001b[0;34m\u001b[0m\u001b[0m\n\u001b[1;32m      5\u001b[0m         \u001b[0;32mreturn\u001b[0m \u001b[0;36m0\u001b[0m\u001b[0;34m\u001b[0m\u001b[0;34m\u001b[0m\u001b[0m\n",
      "\u001b[0;31mTypeError\u001b[0m: unsupported operand type(s) for /: 'int' and 'str'"
     ]
    }
   ],
   "source": [
    "def nice_div(dividend, divisor):\n",
    "    try:\n",
    "        return dividend/divisor\n",
    "    except ZeroDivisionError:\n",
    "        return 0\n",
    "\n",
    "print(nice_div(3,\"zero\"))"
   ]
  },
  {
   "cell_type": "code",
   "execution_count": 9,
   "metadata": {},
   "outputs": [
    {
     "name": "stdout",
     "output_type": "stream",
     "text": [
      "0\n",
      "0\n"
     ]
    }
   ],
   "source": [
    "def nice_div(dividend, divisor):\n",
    "    try:\n",
    "        return dividend/divisor\n",
    "    except Exception:\n",
    "        return 0\n",
    "\n",
    "print(nice_div(3,\"zero\"))\n",
    "print(nice_div(3,0))"
   ]
  },
  {
   "cell_type": "code",
   "execution_count": 11,
   "metadata": {},
   "outputs": [
    {
     "name": "stdout",
     "output_type": "stream",
     "text": [
      "0\n",
      "0\n"
     ]
    }
   ],
   "source": [
    "def nice_div(dividend, divisor):\n",
    "    try:\n",
    "        return dividend/divisor\n",
    "    except (ZeroDivisionError, TypeError):\n",
    "        return 0\n",
    "\n",
    "print(nice_div(3,\"zero\"))\n",
    "print(nice_div(3,0))"
   ]
  },
  {
   "cell_type": "markdown",
   "metadata": {},
   "source": [
    "## Printing and Processing Exceptions"
   ]
  },
  {
   "cell_type": "code",
   "execution_count": 21,
   "metadata": {},
   "outputs": [
    {
     "name": "stdout",
     "output_type": "stream",
     "text": [
      "You screwed up your division, human: unsupported operand type(s) for /: 'int' and 'str'\n",
      "None\n"
     ]
    }
   ],
   "source": [
    "def nice_div(dividend, divisor):\n",
    "    try:\n",
    "        return dividend/divisor\n",
    "    except (ZeroDivisionError, TypeError) as ex:\n",
    "        print(f\"You screwed up your division, human: {ex}\")\n",
    "        \n",
    "print(nice_div(3,\"zero\"))\n"
   ]
  },
  {
   "cell_type": "markdown",
   "metadata": {},
   "source": [
    "## How Exceptions Affect Execution"
   ]
  },
  {
   "cell_type": "code",
   "execution_count": 24,
   "metadata": {},
   "outputs": [
    {
     "name": "stdout",
     "output_type": "stream",
     "text": [
      "The result of 3/10 is: 0.3\n",
      "You screwed up your division, human 45/0 gave: division by zero\n"
     ]
    }
   ],
   "source": [
    "def nice_div(dividend, divisor):\n",
    "    try:\n",
    "        result =  dividend/divisor\n",
    "        print(f\"The result of {dividend}/{divisor} is: {result}\")\n",
    "    except (ZeroDivisionError, TypeError) as ex:\n",
    "        print(f\"You screwed up your division, human {dividend}/{divisor} gave: {ex}\")\n",
    "        \n",
    "nice_div(3,10)\n",
    "nice_div(45,0)\n"
   ]
  },
  {
   "cell_type": "markdown",
   "metadata": {},
   "source": [
    "## Finally! A finally Statement"
   ]
  },
  {
   "cell_type": "code",
   "execution_count": 26,
   "metadata": {},
   "outputs": [
    {
     "name": "stdout",
     "output_type": "stream",
     "text": [
      "The result of 3/10 is: 0.3\n",
      "I'm glad that's over!\n",
      "You screwed up your division, human. 45/0 gave: division by zero\n",
      "I'm glad that's over!\n"
     ]
    }
   ],
   "source": [
    "def nice_div(dividend, divisor):\n",
    "    try:\n",
    "        result =  dividend/divisor\n",
    "        print(f\"The result of {dividend}/{divisor} is: {result}\")\n",
    "    except (ZeroDivisionError, TypeError) as ex:\n",
    "        print(f\"You screwed up your division, human. {dividend}/{divisor} gave: {ex}\")\n",
    "    finally:\n",
    "        print(\"I'm glad that's over!\")\n",
    "        \n",
    "nice_div(3,10)\n",
    "nice_div(45,0)\n"
   ]
  },
  {
   "cell_type": "markdown",
   "metadata": {},
   "source": [
    "## Raising Your Own Exceptions and Sending Them into the World"
   ]
  },
  {
   "cell_type": "code",
   "execution_count": 1,
   "metadata": {},
   "outputs": [
    {
     "ename": "KeyError",
     "evalue": "30",
     "output_type": "error",
     "traceback": [
      "\u001b[0;31m---------------------------------------------------------------------------\u001b[0m",
      "\u001b[0;31mKeyError\u001b[0m                                  Traceback (most recent call last)",
      "\u001b[0;32m<ipython-input-1-43b30e7264f9>\u001b[0m in \u001b[0;36m<module>\u001b[0;34m\u001b[0m\n\u001b[1;32m      1\u001b[0m \u001b[0mstim_txns\u001b[0m \u001b[0;34m=\u001b[0m \u001b[0;34m{\u001b[0m\u001b[0;36m10\u001b[0m\u001b[0;34m:\u001b[0m\u001b[0;34m\"stimA\"\u001b[0m\u001b[0;34m,\u001b[0m \u001b[0;36m20\u001b[0m\u001b[0;34m:\u001b[0m\u001b[0;34m\"stimB\"\u001b[0m\u001b[0;34m}\u001b[0m\u001b[0;34m\u001b[0m\u001b[0;34m\u001b[0m\u001b[0m\n\u001b[1;32m      2\u001b[0m \u001b[0mtxn_id\u001b[0m\u001b[0;34m,\u001b[0m \u001b[0mtxn\u001b[0m \u001b[0;34m=\u001b[0m \u001b[0;34m(\u001b[0m\u001b[0;36m30\u001b[0m\u001b[0;34m,\u001b[0m\u001b[0;34m\"resultC\"\u001b[0m\u001b[0;34m)\u001b[0m\u001b[0;34m\u001b[0m\u001b[0;34m\u001b[0m\u001b[0m\n\u001b[0;32m----> 3\u001b[0;31m \u001b[0mstim\u001b[0m \u001b[0;34m=\u001b[0m \u001b[0mstim_txns\u001b[0m\u001b[0;34m[\u001b[0m\u001b[0mtxn_id\u001b[0m\u001b[0;34m]\u001b[0m\u001b[0;34m\u001b[0m\u001b[0;34m\u001b[0m\u001b[0m\n\u001b[0m",
      "\u001b[0;31mKeyError\u001b[0m: 30"
     ]
    }
   ],
   "source": [
    "# setup example\n",
    "stim_txns = {10:\"stimA\", 20:\"stimB\"}\n",
    "txn_id, txn = (30,\"resultC\")\n",
    "# find stim\n",
    "stim = stim_txns[txn_id]\n"
   ]
  },
  {
   "cell_type": "code",
   "execution_count": 3,
   "metadata": {},
   "outputs": [
    {
     "name": "stderr",
     "output_type": "stream",
     "text": [
      "ERROR:root:No stimulus for transaction 30\n"
     ]
    },
    {
     "ename": "KeyError",
     "evalue": "30",
     "output_type": "error",
     "traceback": [
      "\u001b[0;31m---------------------------------------------------------------------------\u001b[0m",
      "\u001b[0;31mKeyError\u001b[0m                                  Traceback (most recent call last)",
      "\u001b[0;32m<ipython-input-3-9bc92085060f>\u001b[0m in \u001b[0;36m<module>\u001b[0;34m\u001b[0m\n\u001b[1;32m      4\u001b[0m \u001b[0;31m# find stim\u001b[0m\u001b[0;34m\u001b[0m\u001b[0;34m\u001b[0m\u001b[0;34m\u001b[0m\u001b[0m\n\u001b[1;32m      5\u001b[0m \u001b[0;32mtry\u001b[0m\u001b[0;34m:\u001b[0m\u001b[0;34m\u001b[0m\u001b[0;34m\u001b[0m\u001b[0m\n\u001b[0;32m----> 6\u001b[0;31m     \u001b[0mstim\u001b[0m \u001b[0;34m=\u001b[0m \u001b[0mstim_txns\u001b[0m\u001b[0;34m[\u001b[0m\u001b[0mtxn_id\u001b[0m\u001b[0;34m]\u001b[0m\u001b[0;34m\u001b[0m\u001b[0;34m\u001b[0m\u001b[0m\n\u001b[0m\u001b[1;32m      7\u001b[0m \u001b[0;32mexcept\u001b[0m \u001b[0mKeyError\u001b[0m\u001b[0;34m:\u001b[0m\u001b[0;34m\u001b[0m\u001b[0;34m\u001b[0m\u001b[0m\n\u001b[1;32m      8\u001b[0m     \u001b[0mlogging\u001b[0m\u001b[0;34m.\u001b[0m\u001b[0merror\u001b[0m\u001b[0;34m(\u001b[0m\u001b[0;34mf\"No stimulus for transaction {txn_id}\"\u001b[0m\u001b[0;34m)\u001b[0m\u001b[0;34m\u001b[0m\u001b[0;34m\u001b[0m\u001b[0m\n",
      "\u001b[0;31mKeyError\u001b[0m: 30"
     ]
    }
   ],
   "source": [
    "import logging\n",
    "stim_txns = {10:\"stimA\", 20:\"stimB\"}\n",
    "txn_id, txn = (30,\"resultC\")\n",
    "# find stim\n",
    "try:\n",
    "    stim = stim_txns[txn_id]\n",
    "except KeyError:\n",
    "    logging.error(f\"No stimulus for transaction {txn_id}\")\n",
    "    raise"
   ]
  },
  {
   "cell_type": "code",
   "execution_count": 4,
   "metadata": {},
   "outputs": [
    {
     "name": "stderr",
     "output_type": "stream",
     "text": [
      "ERROR:root:No stimulus for transaction 30\n"
     ]
    }
   ],
   "source": [
    "import logging\n",
    "class TBException(RuntimeError):\n",
    "    ...\n",
    "class MissingStimTransaction(TBException):\n",
    "    \"\"\"Exception that shows a stimulus error\"\"\"\n",
    "    ...\n",
    "\n",
    "def example():\n",
    "    stim_txns = {10:\"stimA\", 20:\"stimB\"}\n",
    "    txn_id, txn = (30,\"resultC\")\n",
    "    # find stim\n",
    "    try:\n",
    "        stim = stim_txns[txn_id]\n",
    "    except KeyError:\n",
    "        raise MissingStimTransaction(f\"No stimulus for transaction {txn_id}\")\n",
    "\n",
    "try:\n",
    "    example()\n",
    "except TBException as tbx:\n",
    "    logging.error(tbx)\n",
    "    "
   ]
  },
  {
   "cell_type": "code",
   "execution_count": 8,
   "metadata": {},
   "outputs": [
    {
     "name": "stderr",
     "output_type": "stream",
     "text": [
      "CRITICAL:root:Obscure programmer message to follow:\n",
      "ERROR:root:The transaciton must be str not <class 'complex'>\n",
      "Traceback (most recent call last):\n",
      "  File \"<ipython-input-8-0112789646e1>\", line 21, in <module>\n",
      "    example()\n",
      "  File \"<ipython-input-8-0112789646e1>\", line 12, in example\n",
      "    assert isinstance(txn, str), f\"The transaciton must be str not {type(txn)}\"\n",
      "AssertionError: The transaciton must be str not <class 'complex'>\n"
     ]
    }
   ],
   "source": [
    "import logging\n",
    "class TBException(RuntimeError):\n",
    "    ...\n",
    "class MissingStimTransaction(TBException):\n",
    "    \"\"\"Exception that shows a stimulus error\"\"\"\n",
    "    ...\n",
    "\n",
    "def example():\n",
    "    stim_txns = {10:\"stimA\", 20:\"stimB\"}\n",
    "    txn_id, txn = (30,1j)\n",
    "\n",
    "    assert isinstance(txn, str), f\"The transaciton must be str not {type(txn)}\"\n",
    "\n",
    "    # find stim\n",
    "    try:\n",
    "        stim = stim_txns[txn_id]\n",
    "    except KeyError:\n",
    "        raise MissingStimTransaction(f\"No stimulus for transaction {txn_id}\")\n",
    "\n",
    "try:\n",
    "    example()\n",
    "except TBException as tbx:\n",
    "    logging.error(tbx)\n",
    "except AssertionError as err:\n",
    "    logging.fatal(\"Obscure programmer message to follow:\")\n",
    "    logging.exception(err)\n",
    "    "
   ]
  },
  {
   "cell_type": "code",
   "execution_count": null,
   "metadata": {},
   "outputs": [],
   "source": []
  }
 ],
 "metadata": {
  "kernelspec": {
   "display_name": "Python 3",
   "language": "python",
   "name": "python3"
  },
  "language_info": {
   "codemirror_mode": {
    "name": "ipython",
    "version": 3
   },
   "file_extension": ".py",
   "mimetype": "text/x-python",
   "name": "python",
   "nbconvert_exporter": "python",
   "pygments_lexer": "ipython3",
   "version": "3.8.3"
  }
 },
 "nbformat": 4,
 "nbformat_minor": 4
}
