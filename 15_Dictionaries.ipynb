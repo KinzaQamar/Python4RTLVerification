{
 "cells": [
  {
   "cell_type": "markdown",
   "source": [
    "# Dictionaries"
   ],
   "metadata": {}
  },
  {
   "cell_type": "code",
   "execution_count": 5,
   "source": [
    "players = {}\n",
    "players[\"Messie\"] = 10\n",
    "players[\"Beckham\"] = 7\n",
    "players[\"Salah\"] = 11\n",
    "print(\"Messie's number:\", players[\"Messie\"])\n",
    "\n",
    "    \n",
    "    "
   ],
   "outputs": [
    {
     "output_type": "stream",
     "name": "stdout",
     "text": [
      "Messie's number: 10\n"
     ]
    }
   ],
   "metadata": {}
  },
  {
   "cell_type": "code",
   "execution_count": 6,
   "source": [
    "dd = {}\n",
    "dd[(1,2)] = 3\n",
    "print(dd[(1,2)])"
   ],
   "outputs": [
    {
     "output_type": "stream",
     "name": "stdout",
     "text": [
      "3\n"
     ]
    }
   ],
   "metadata": {}
  },
  {
   "cell_type": "markdown",
   "source": [
    "## Creating Dictionaries\n",
    "\n",
    "Three ways\n",
    "\n",
    "Curly braces"
   ],
   "metadata": {}
  },
  {
   "cell_type": "code",
   "execution_count": 7,
   "source": [
    "example = {}\n",
    "example[1] = \"one\"\n",
    "example[\"two\"] = 2\n",
    "print(\"example: \", example)"
   ],
   "outputs": [
    {
     "output_type": "stream",
     "name": "stdout",
     "text": [
      "example:  {1: 'one', 'two': 2}\n"
     ]
    }
   ],
   "metadata": {}
  },
  {
   "cell_type": "code",
   "execution_count": 8,
   "source": [
    "example = {1:\"one\", \"two\":2}\n",
    "print(\"example: \", example)"
   ],
   "outputs": [
    {
     "output_type": "stream",
     "name": "stdout",
     "text": [
      "example:  {1: 'one', 'two': 2}\n"
     ]
    }
   ],
   "metadata": {}
  },
  {
   "cell_type": "markdown",
   "source": [
    "### Dictionary Comprehensions"
   ],
   "metadata": {}
  },
  {
   "cell_type": "code",
   "execution_count": 9,
   "source": [
    "cubes = {}\n",
    "for ii in range(4):\n",
    "    cubes[ii] = ii**3\n",
    "print (\"cubes:\", cubes)"
   ],
   "outputs": [
    {
     "output_type": "stream",
     "name": "stdout",
     "text": [
      "cubes: {0: 0, 1: 1, 2: 8, 3: 27}\n"
     ]
    }
   ],
   "metadata": {}
  },
  {
   "cell_type": "code",
   "execution_count": 10,
   "source": [
    "cubes = {ii : ii**3 for ii in range(4)}\n",
    "print(\"cubes:\", cubes)"
   ],
   "outputs": [
    {
     "output_type": "stream",
     "name": "stdout",
     "text": [
      "cubes: {0: 0, 1: 1, 2: 8, 3: 27}\n"
     ]
    }
   ],
   "metadata": {}
  },
  {
   "cell_type": "markdown",
   "source": [
    "Accessing data"
   ],
   "metadata": {}
  },
  {
   "cell_type": "code",
   "execution_count": 11,
   "source": [
    "players = {7:\"Beckham\", 10:\"Messie\",11:\"Salah\"}\n",
    "print(\"number 7:\", players[7])"
   ],
   "outputs": [
    {
     "output_type": "stream",
     "name": "stdout",
     "text": [
      "number 7: Beckham\n"
     ]
    }
   ],
   "metadata": {}
  },
  {
   "cell_type": "markdown",
   "source": [
    "KeyError"
   ],
   "metadata": {}
  },
  {
   "cell_type": "code",
   "execution_count": 12,
   "source": [
    "players = {7:\"Beckham\", 10:\"Messie\",11:\"Salah\"}\n",
    "print(\"Number 4?\", players[4])"
   ],
   "outputs": [
    {
     "output_type": "error",
     "ename": "KeyError",
     "evalue": "4",
     "traceback": [
      "\u001b[0;31m---------------------------------------------------------------------------\u001b[0m",
      "\u001b[0;31mKeyError\u001b[0m                                  Traceback (most recent call last)",
      "\u001b[0;32m<ipython-input-12-9ea4d2545dee>\u001b[0m in \u001b[0;36m<module>\u001b[0;34m\u001b[0m\n\u001b[1;32m      1\u001b[0m \u001b[0mplayers\u001b[0m \u001b[0;34m=\u001b[0m \u001b[0;34m{\u001b[0m\u001b[0;36m7\u001b[0m\u001b[0;34m:\u001b[0m\u001b[0;34m\"Beckham\"\u001b[0m\u001b[0;34m,\u001b[0m \u001b[0;36m10\u001b[0m\u001b[0;34m:\u001b[0m\u001b[0;34m\"Messie\"\u001b[0m\u001b[0;34m,\u001b[0m\u001b[0;36m11\u001b[0m\u001b[0;34m:\u001b[0m\u001b[0;34m\"Salah\"\u001b[0m\u001b[0;34m}\u001b[0m\u001b[0;34m\u001b[0m\u001b[0;34m\u001b[0m\u001b[0m\n\u001b[0;32m----> 2\u001b[0;31m \u001b[0mprint\u001b[0m\u001b[0;34m(\u001b[0m\u001b[0;34m\"Number 4?\"\u001b[0m\u001b[0;34m,\u001b[0m \u001b[0mplayers\u001b[0m\u001b[0;34m[\u001b[0m\u001b[0;36m4\u001b[0m\u001b[0;34m]\u001b[0m\u001b[0;34m)\u001b[0m\u001b[0;34m\u001b[0m\u001b[0;34m\u001b[0m\u001b[0m\n\u001b[0m",
      "\u001b[0;31mKeyError\u001b[0m: 4"
     ]
    }
   ],
   "metadata": {}
  },
  {
   "cell_type": "code",
   "execution_count": 14,
   "source": [
    "players = {7:\"Beckham\", 10:\"Messie\",11:\"Salah\"}\n",
    "try:\n",
    "    player = players[4]\n",
    "except KeyError:\n",
    "    player = None\n",
    "\n",
    "print(\"Number 4?\", player)"
   ],
   "outputs": [
    {
     "output_type": "stream",
     "name": "stdout",
     "text": [
      "Number 4? None\n"
     ]
    }
   ],
   "metadata": {}
  },
  {
   "cell_type": "markdown",
   "source": [
    "get() method"
   ],
   "metadata": {}
  },
  {
   "cell_type": "code",
   "execution_count": 15,
   "source": [
    "players = {7:\"Beckham\", 10:\"Messie\",11:\"Salah\"}\n",
    "player = players.get(4)\n",
    "print(\"Number 4?\", player)"
   ],
   "outputs": [
    {
     "output_type": "stream",
     "name": "stdout",
     "text": [
      "Number 4? None\n"
     ]
    }
   ],
   "metadata": {}
  },
  {
   "cell_type": "code",
   "execution_count": 17,
   "source": [
    "players = {7:\"Beckham\", 10:\"Messie\",11:\"Salah\"}\n",
    "player = players.get(4, \"Not in database\")\n",
    "print(\"Number 4?\", player)"
   ],
   "outputs": [
    {
     "output_type": "stream",
     "name": "stdout",
     "text": [
      "Number 4? Not in database\n"
     ]
    }
   ],
   "metadata": {}
  },
  {
   "cell_type": "markdown",
   "source": [
    "setdefault"
   ],
   "metadata": {}
  },
  {
   "cell_type": "code",
   "execution_count": 2,
   "source": [
    "count = {}\n",
    "for cc in \"Mississippi\":\n",
    "    try:\n",
    "        count[cc] += 1\n",
    "    except KeyError:\n",
    "        count[cc] = 1\n",
    "for cc in count:\n",
    "    print(cc, count[cc])"
   ],
   "outputs": [
    {
     "output_type": "stream",
     "name": "stdout",
     "text": [
      "M 1\n",
      "i 4\n",
      "s 4\n",
      "p 2\n"
     ]
    }
   ],
   "metadata": {}
  },
  {
   "cell_type": "code",
   "execution_count": 1,
   "source": [
    "count = {}\n",
    "for cc in \"Mississippi\":\n",
    "    count[cc] = count.setdefault(cc, 0) + 1\n",
    "\n",
    "for cc in count:\n",
    "    print(cc, count[cc])"
   ],
   "outputs": [
    {
     "output_type": "stream",
     "name": "stdout",
     "text": [
      "M 1\n",
      "i 4\n",
      "s 4\n",
      "p 2\n"
     ]
    }
   ],
   "metadata": {}
  },
  {
   "cell_type": "markdown",
   "source": [
    "## Removing Items from a Dictionary\n",
    "\n",
    "`clear()`"
   ],
   "metadata": {}
  },
  {
   "cell_type": "code",
   "execution_count": 4,
   "source": [
    "players = {7:\"Beckham\", 10:\"Messie\",11:\"Salah\"}\n",
    "print(\"players:\", players)\n",
    "players.clear()\n",
    "print(\"players:\", players)"
   ],
   "outputs": [
    {
     "output_type": "stream",
     "name": "stdout",
     "text": [
      "players: {7: 'Beckham', 10: 'Messie', 11: 'Salah'}\n",
      "players: {}\n"
     ]
    }
   ],
   "metadata": {}
  },
  {
   "cell_type": "markdown",
   "source": [
    "`del()`"
   ],
   "metadata": {}
  },
  {
   "cell_type": "code",
   "execution_count": 5,
   "source": [
    "players = {7:\"Beckham\", 10:\"Messie\",11:\"Salah\"}\n",
    "print(\"players:\", players)\n",
    "del(players[7]) #retired\n",
    "print(\"players:\", players)"
   ],
   "outputs": [
    {
     "output_type": "stream",
     "name": "stdout",
     "text": [
      "players: {7: 'Beckham', 10: 'Messie', 11: 'Salah'}\n",
      "players: {10: 'Messie', 11: 'Salah'}\n"
     ]
    }
   ],
   "metadata": {}
  },
  {
   "cell_type": "markdown",
   "source": [
    "`pop()`"
   ],
   "metadata": {}
  },
  {
   "cell_type": "code",
   "execution_count": 8,
   "source": [
    "players = {7:\"Beckham\", 10:\"Messie\",11:\"Salah\"}\n",
    "print(\"players:\", players)\n",
    "print(players.pop(7), \"has retired.\")\n",
    "print(\"players:\", players)"
   ],
   "outputs": [
    {
     "output_type": "stream",
     "name": "stdout",
     "text": [
      "players: {7: 'Beckham', 10: 'Messie', 11: 'Salah'}\n",
      "Beckham has retired.\n",
      "players: {10: 'Messie', 11: 'Salah'}\n"
     ]
    }
   ],
   "metadata": {}
  },
  {
   "cell_type": "markdown",
   "source": [
    "`popitem()`"
   ],
   "metadata": {}
  },
  {
   "cell_type": "code",
   "execution_count": 11,
   "source": [
    "dd = {}\n",
    "ss = frozenset((2,3))\n",
    "dd[ss] = 5\n",
    "print(dd)"
   ],
   "outputs": [
    {
     "output_type": "stream",
     "name": "stdout",
     "text": [
      "{frozenset({2, 3}): 5}\n"
     ]
    }
   ],
   "metadata": {}
  },
  {
   "cell_type": "code",
   "execution_count": 17,
   "source": [
    "ii = 5\n",
    "print('id(ii):',id(ii))\n",
    "ii += 1\n",
    "print('id(ii):', id(ii))\n",
    "ss = \"Hello\"\n",
    "print('id(ss):', id(ss))\n",
    "ss += \", world.\"\n",
    "print('id(ss):', id(ss))"
   ],
   "outputs": [
    {
     "output_type": "stream",
     "name": "stdout",
     "text": [
      "id(ii): 4339030496\n",
      "id(ii): 4339030528\n",
      "id(ss): 140606249658032\n",
      "id(ss): 140606249587184\n"
     ]
    }
   ],
   "metadata": {}
  },
  {
   "cell_type": "code",
   "execution_count": null,
   "source": [],
   "outputs": [],
   "metadata": {}
  }
 ],
 "metadata": {
  "kernelspec": {
   "display_name": "Python 3.8.3 64-bit ('base': conda)",
   "language": "python",
   "name": "python383jvsc74a57bd0d24816daa5bfd7761e7ebb7f877a675ac56b46db76906dba43079628f1df08b6"
  },
  "language_info": {
   "codemirror_mode": {
    "name": "ipython",
    "version": 3
   },
   "file_extension": ".py",
   "mimetype": "text/x-python",
   "name": "python",
   "nbconvert_exporter": "python",
   "pygments_lexer": "ipython3",
   "version": "3.8.3"
  }
 },
 "nbformat": 4,
 "nbformat_minor": 4
}