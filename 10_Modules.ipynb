{
 "cells": [
  {
   "cell_type": "markdown",
   "metadata": {},
   "source": [
    "## Modules"
   ]
  },
  {
   "cell_type": "markdown",
   "metadata": {},
   "source": [
    "Creating a `uvm_component` changes the state of our program. This means that we should restart the Jupyter\n",
    "each time we rerun this program.  The `>>` button above does that."
   ]
  },
  {
   "cell_type": "markdown",
   "metadata": {},
   "source": [
    "Importing all classes and objects from a module."
   ]
  },
  {
   "cell_type": "code",
   "execution_count": 1,
   "metadata": {},
   "outputs": [
    {
     "name": "stdout",
     "output_type": "stream",
     "text": [
      "object name: xx\n",
      "component 'zz' full name: yy.zz\n"
     ]
    }
   ],
   "source": [
    "from pyuvm import *\n",
    "xx = uvm_object(\"xx\")\n",
    "print(\"object name:\", xx.get_name())\n",
    "yy = uvm_component(\"yy\", None)\n",
    "zz = uvm_component(\"zz\", yy)\n",
    "print(\"component 'zz' full name:\", zz.get_full_name())"
   ]
  },
  {
   "cell_type": "code",
   "execution_count": null,
   "metadata": {},
   "outputs": [],
   "source": []
  }
 ],
 "metadata": {
  "kernelspec": {
   "display_name": "Python 3",
   "language": "python",
   "name": "python3"
  },
  "language_info": {
   "codemirror_mode": {
    "name": "ipython",
    "version": 3
   },
   "file_extension": ".py",
   "mimetype": "text/x-python",
   "name": "python",
   "nbconvert_exporter": "python",
   "pygments_lexer": "ipython3",
   "version": "3.8.3"
  }
 },
 "nbformat": 4,
 "nbformat_minor": 4
}
