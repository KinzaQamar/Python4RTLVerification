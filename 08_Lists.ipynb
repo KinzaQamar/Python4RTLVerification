{
 "cells": [
  {
   "cell_type": "markdown",
   "source": [
    "# Lists\n",
    "\n",
    "An ordered list."
   ],
   "metadata": {}
  },
  {
   "cell_type": "markdown",
   "source": [
    "## Three ways to create lists"
   ],
   "metadata": {}
  },
  {
   "cell_type": "markdown",
   "source": [
    "Make a list using square brackets `[ ]`"
   ],
   "metadata": {}
  },
  {
   "cell_type": "code",
   "execution_count": 1,
   "source": [
    "LL = ['x','y'] # create a list\n",
    "mylist = ['a',3,LL] # put it into another list\n",
    "print(\"List within a list:\", mylist)"
   ],
   "outputs": [
    {
     "output_type": "stream",
     "name": "stdout",
     "text": [
      "List within a list: ['a', 3, ['x', 'y']]\n"
     ]
    }
   ],
   "metadata": {
    "scrolled": true
   }
  },
  {
   "cell_type": "markdown",
   "source": [
    "Make a list using the `list()` constructor."
   ],
   "metadata": {}
  },
  {
   "cell_type": "code",
   "execution_count": 4,
   "source": [
    "empty = list()\n",
    "one_to_four = list(range(1,5))\n",
    "print(\"empty:\", empty)\n",
    "print(\"one_to_four:\", one_to_four)      "
   ],
   "outputs": [
    {
     "output_type": "stream",
     "name": "stdout",
     "text": [
      "empty: []\n",
      "one_to_four: [1, 2, 3, 4]\n"
     ]
    }
   ],
   "metadata": {}
  },
  {
   "cell_type": "markdown",
   "source": [
    "### List Comprehensions"
   ],
   "metadata": {}
  },
  {
   "cell_type": "markdown",
   "source": [
    "Creating an even number list with a for loop"
   ],
   "metadata": {}
  },
  {
   "cell_type": "code",
   "execution_count": 1,
   "source": [
    "even_squares =  []\n",
    "for nn in range(11):\n",
    "    if nn % 2 == 0:\n",
    "        even_squares.append(nn**2)\n",
    "print(\"even squares\", even_squares)"
   ],
   "outputs": [
    {
     "output_type": "stream",
     "name": "stdout",
     "text": [
      "even squares [0, 4, 16, 36, 64, 100]\n"
     ]
    }
   ],
   "metadata": {}
  },
  {
   "cell_type": "markdown",
   "source": [
    "Creating an even number list with a list comprension"
   ],
   "metadata": {}
  },
  {
   "cell_type": "code",
   "execution_count": 2,
   "source": [
    "even_squares = [nn**2 for nn in range(11) if nn % 2 == 0]\n",
    "print(\"even squares\", even_squares)"
   ],
   "outputs": [
    {
     "output_type": "stream",
     "name": "stdout",
     "text": [
      "even squares [0, 4, 16, 36, 64, 100]\n"
     ]
    }
   ],
   "metadata": {}
  },
  {
   "cell_type": "markdown",
   "source": [
    "Capital letter list with a for loop"
   ],
   "metadata": {}
  },
  {
   "cell_type": "code",
   "execution_count": 3,
   "source": [
    "even_squares = [nn**2 \n",
    "                for nn \n",
    "                in range(11) \n",
    "                if nn % 2 == 0]\n",
    "print(\"even squares\", even_squares)"
   ],
   "outputs": [
    {
     "output_type": "stream",
     "name": "stdout",
     "text": [
      "even squares [0, 4, 16, 36, 64, 100]\n"
     ]
    }
   ],
   "metadata": {}
  },
  {
   "cell_type": "markdown",
   "source": [
    "## List Functions\n",
    "Methods in the `list` type."
   ],
   "metadata": {}
  },
  {
   "cell_type": "markdown",
   "source": [
    "`sort()` and `sorted()`"
   ],
   "metadata": {}
  },
  {
   "cell_type": "code",
   "execution_count": 2,
   "source": [
    "pi_list = list(\"3.1415926\")\n",
    "print(pi_list)\n",
    "pi_list.sort()\n",
    "print(pi_list)"
   ],
   "outputs": [
    {
     "output_type": "stream",
     "name": "stdout",
     "text": [
      "['3', '.', '1', '4', '1', '5', '9', '2', '6']\n",
      "['.', '1', '1', '2', '3', '4', '5', '6', '9']\n"
     ]
    }
   ],
   "metadata": {}
  },
  {
   "cell_type": "markdown",
   "source": [
    "Sorting with a key"
   ],
   "metadata": {}
  },
  {
   "cell_type": "code",
   "execution_count": 14,
   "source": [
    "avengers = [\"antman\", \"Hulk\", \"Ironman\"]\n",
    "avengers.sort()\n",
    "print(\"Badly sorted    :\", avengers)"
   ],
   "outputs": [
    {
     "output_type": "stream",
     "name": "stdout",
     "text": [
      "Badly sorted    : ['Hulk', 'Ironman', 'antman']\n"
     ]
    }
   ],
   "metadata": {}
  },
  {
   "cell_type": "code",
   "execution_count": 3,
   "source": [
    "avengers = [\"antman\", \"Hulk\", \"Ironman\"]\n",
    "avengers.sort(key=str.casefold)\n",
    "print(\"Correctly sorted:\", avengers)"
   ],
   "outputs": [
    {
     "output_type": "stream",
     "name": "stdout",
     "text": [
      "Correctly sorted: ['antman', 'Hulk', 'Ironman']\n"
     ]
    }
   ],
   "metadata": {}
  },
  {
   "cell_type": "code",
   "execution_count": 4,
   "source": [
    "avengers = [\"antman\", \"Hulk\", \"Black Widow\"]\n",
    "sorted_avengers = sorted(avengers, key=str.casefold)\n",
    "print(\"Correctly sorted:\", sorted_avengers)"
   ],
   "outputs": [
    {
     "output_type": "stream",
     "name": "stdout",
     "text": [
      "Correctly sorted: ['antman', 'Black Widow', 'Hulk']\n"
     ]
    }
   ],
   "metadata": {}
  },
  {
   "cell_type": "code",
   "execution_count": 11,
   "source": [
    "ss = \"Brownfox\"\n",
    "sorted_list = sorted(ss, key=str.casefold)\n",
    "print(sorted_list)"
   ],
   "outputs": [
    {
     "output_type": "stream",
     "name": "stdout",
     "text": [
      "['B', 'f', 'n', 'o', 'o', 'r', 'w', 'x']\n"
     ]
    }
   ],
   "metadata": {}
  }
 ],
 "metadata": {
  "kernelspec": {
   "display_name": "Python 3",
   "language": "python",
   "name": "python3"
  },
  "language_info": {
   "name": "python",
   "version": "3.8.3",
   "mimetype": "text/x-python",
   "codemirror_mode": {
    "name": "ipython",
    "version": 3
   },
   "pygments_lexer": "ipython3",
   "nbconvert_exporter": "python",
   "file_extension": ".py"
  }
 },
 "nbformat": 4,
 "nbformat_minor": 4
}