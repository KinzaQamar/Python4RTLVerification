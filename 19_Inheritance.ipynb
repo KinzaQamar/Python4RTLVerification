{
 "cells": [
  {
   "cell_type": "markdown",
   "source": [
    "# Inheritance"
   ],
   "metadata": {}
  },
  {
   "cell_type": "markdown",
   "source": [
    "Don't do this!"
   ],
   "metadata": {}
  },
  {
   "cell_type": "code",
   "execution_count": 1,
   "source": [
    "class Dog:\n",
    "    def make_sound(self):\n",
    "        print(\"The dog says, 'bow bow'\")\n",
    "\n",
    "class Cat:\n",
    "    def make_sound(self):\n",
    "        print(\"The cat says, 'miāo'\")\n",
    "\n",
    "Dog().make_sound()\n",
    "Cat().make_sound()"
   ],
   "outputs": [
    {
     "output_type": "stream",
     "name": "stdout",
     "text": [
      "The dog says, 'bow bow'\n",
      "The cat says, 'miāo'\n"
     ]
    }
   ],
   "metadata": {
    "scrolled": true
   }
  },
  {
   "cell_type": "markdown",
   "source": [
    "Use inheritance instead"
   ],
   "metadata": {}
  },
  {
   "cell_type": "code",
   "execution_count": 2,
   "source": [
    "class Animal:\n",
    "    def __init__(self):\n",
    "        self.species = None\n",
    "        self.sound = None\n",
    "    def make_sound(self):\n",
    "        print(f\"The {self.species} says '{self.sound}' \")\n",
    "\n",
    "class Dog(Animal):\n",
    "    def __init__(self):\n",
    "        self.species = \"dog\"\n",
    "        self.sound = \"bow bow\"\n",
    "    \n",
    "class Cat(Animal):\n",
    "    def __init__(self):\n",
    "        self.species = \"cat\"\n",
    "        self.sound = \"miāo\"\n",
    "\n",
    "Dog().make_sound()\n",
    "Cat().make_sound()"
   ],
   "outputs": [
    {
     "output_type": "stream",
     "name": "stdout",
     "text": [
      "The dog says 'bow bow' \n",
      "The cat says 'miāo' \n"
     ]
    }
   ],
   "metadata": {}
  },
  {
   "cell_type": "markdown",
   "source": [
    "## Inheritance And Method Resolution Order"
   ],
   "metadata": {}
  },
  {
   "cell_type": "code",
   "execution_count": 3,
   "source": [
    "class Animal:\n",
    "    def __init__(self):\n",
    "        self.species = None\n",
    "        self.sound = None\n",
    "    def make_sound(self):\n",
    "        print(f\"The {self.species} says '{self.sound}' \")\n",
    "\n",
    "class Dog(Animal):\n",
    "    def __init__(self):\n",
    "        self.species = \"dog\"\n",
    "        self.sound = \"bow bow\"\n",
    "    \n",
    "class SmallDog(Dog):\n",
    "    def __init__(self):\n",
    "        self.sound = \"yap yap\"\n",
    "\n",
    "SmallDog().make_sound()"
   ],
   "outputs": [
    {
     "output_type": "error",
     "ename": "AttributeError",
     "evalue": "'SmallDog' object has no attribute 'species'",
     "traceback": [
      "\u001b[0;31m---------------------------------------------------------------------------\u001b[0m",
      "\u001b[0;31mAttributeError\u001b[0m                            Traceback (most recent call last)",
      "\u001b[0;32m<ipython-input-3-f8f46013d80b>\u001b[0m in \u001b[0;36m<module>\u001b[0;34m\u001b[0m\n\u001b[1;32m     15\u001b[0m         \u001b[0mself\u001b[0m\u001b[0;34m.\u001b[0m\u001b[0msound\u001b[0m \u001b[0;34m=\u001b[0m \u001b[0;34m\"yap yap\"\u001b[0m\u001b[0;34m\u001b[0m\u001b[0;34m\u001b[0m\u001b[0m\n\u001b[1;32m     16\u001b[0m \u001b[0;34m\u001b[0m\u001b[0m\n\u001b[0;32m---> 17\u001b[0;31m \u001b[0mSmallDog\u001b[0m\u001b[0;34m(\u001b[0m\u001b[0;34m)\u001b[0m\u001b[0;34m.\u001b[0m\u001b[0mmake_sound\u001b[0m\u001b[0;34m(\u001b[0m\u001b[0;34m)\u001b[0m\u001b[0;34m\u001b[0m\u001b[0;34m\u001b[0m\u001b[0m\n\u001b[0m",
      "\u001b[0;32m<ipython-input-3-f8f46013d80b>\u001b[0m in \u001b[0;36mmake_sound\u001b[0;34m(self)\u001b[0m\n\u001b[1;32m      4\u001b[0m         \u001b[0mself\u001b[0m\u001b[0;34m.\u001b[0m\u001b[0msound\u001b[0m \u001b[0;34m=\u001b[0m \u001b[0;32mNone\u001b[0m\u001b[0;34m\u001b[0m\u001b[0;34m\u001b[0m\u001b[0m\n\u001b[1;32m      5\u001b[0m     \u001b[0;32mdef\u001b[0m \u001b[0mmake_sound\u001b[0m\u001b[0;34m(\u001b[0m\u001b[0mself\u001b[0m\u001b[0;34m)\u001b[0m\u001b[0;34m:\u001b[0m\u001b[0;34m\u001b[0m\u001b[0;34m\u001b[0m\u001b[0m\n\u001b[0;32m----> 6\u001b[0;31m         \u001b[0mprint\u001b[0m\u001b[0;34m(\u001b[0m\u001b[0;34mf\"The {self.species} says '{self.sound}' \"\u001b[0m\u001b[0;34m)\u001b[0m\u001b[0;34m\u001b[0m\u001b[0;34m\u001b[0m\u001b[0m\n\u001b[0m\u001b[1;32m      7\u001b[0m \u001b[0;34m\u001b[0m\u001b[0m\n\u001b[1;32m      8\u001b[0m \u001b[0;32mclass\u001b[0m \u001b[0mDog\u001b[0m\u001b[0;34m(\u001b[0m\u001b[0mAnimal\u001b[0m\u001b[0;34m)\u001b[0m\u001b[0;34m:\u001b[0m\u001b[0;34m\u001b[0m\u001b[0;34m\u001b[0m\u001b[0m\n",
      "\u001b[0;31mAttributeError\u001b[0m: 'SmallDog' object has no attribute 'species'"
     ]
    }
   ],
   "metadata": {
    "scrolled": true
   }
  },
  {
   "cell_type": "code",
   "execution_count": 7,
   "source": [
    "print(SmallDog.mro())"
   ],
   "outputs": [
    {
     "output_type": "stream",
     "name": "stdout",
     "text": [
      "[<class '__main__.SmallDog'>, <class '__main__.Dog'>, <class '__main__.Animal'>, <class 'object'>]\n"
     ]
    }
   ],
   "metadata": {}
  },
  {
   "cell_type": "code",
   "execution_count": 8,
   "source": [
    "class Animal:\n",
    "    def __init__(self):\n",
    "        self.species = None\n",
    "        self.sound = None\n",
    "    def make_sound(self):\n",
    "        print(f\"The {self.species} says '{self.sound}' \")\n",
    "\n",
    "class Dog(Animal):\n",
    "    def __init__(self):\n",
    "        self.species = \"dog\"\n",
    "        self.sound = \"bow bow\"\n",
    "    \n",
    "class SmallDog(Dog):\n",
    "    def __init__(self):\n",
    "        super().__init__()\n",
    "        self.sound = \"yap yap\"\n",
    "\n",
    "SmallDog().make_sound()"
   ],
   "outputs": [
    {
     "output_type": "stream",
     "name": "stdout",
     "text": [
      "The dog says 'yap yap' \n"
     ]
    }
   ],
   "metadata": {
    "scrolled": true
   }
  },
  {
   "cell_type": "markdown",
   "source": [
    "## Method Resolution Order"
   ],
   "metadata": {}
  },
  {
   "cell_type": "code",
   "execution_count": 21,
   "source": [
    "SmallDog.mro()"
   ],
   "outputs": [
    {
     "output_type": "execute_result",
     "data": {
      "text/plain": [
       "[__main__.SmallDog, __main__.Dog, __main__.Animal, object]"
      ]
     },
     "metadata": {},
     "execution_count": 21
    }
   ],
   "metadata": {
    "scrolled": true
   }
  },
  {
   "cell_type": "markdown",
   "source": [
    "### Calling Methods Explicitly"
   ],
   "metadata": {}
  },
  {
   "cell_type": "code",
   "execution_count": 6,
   "source": [
    "class Animal:\n",
    "    def __init__(self):\n",
    "        self.species = None\n",
    "        self.sound = None\n",
    "    def make_sound(self):\n",
    "        print(f\"The {self.species} says '{self.sound}' \")\n",
    "\n",
    "class Dog(Animal):\n",
    "    def __init__(self):\n",
    "        self.species = \"dog\"\n",
    "        self.sound = \"bow bow\"\n",
    "        \n",
    "class SmallDog(Dog):\n",
    "    def __init__(self):\n",
    "        Dog.__init__(self)\n",
    "        self.sound = \"yap yap\"\n",
    "\n",
    "SmallDog().make_sound()"
   ],
   "outputs": [
    {
     "output_type": "stream",
     "name": "stdout",
     "text": [
      "The dog says 'yap yap' \n"
     ]
    }
   ],
   "metadata": {}
  },
  {
   "cell_type": "markdown",
   "source": [
    "## Multiple Inheritance"
   ],
   "metadata": {}
  },
  {
   "cell_type": "code",
   "execution_count": 17,
   "source": [
    "class Human:\n",
    "    def __init__(self, name, age):\n",
    "        self.name = name\n",
    "        self.age = age\n",
    "        \n",
    "    def say_age(self):\n",
    "        print(f\"{self.name} is {self.age} years old.\")\n",
    "\n",
    "human = Human(\"Joe\", 23)\n",
    "human.say_age()"
   ],
   "outputs": [
    {
     "output_type": "stream",
     "name": "stdout",
     "text": [
      "Joe is 23 years old.\n"
     ]
    }
   ],
   "metadata": {}
  },
  {
   "cell_type": "code",
   "execution_count": 28,
   "source": [
    "class Human:\n",
    "    def __init__(self, name, age):\n",
    "        self.name = name\n",
    "        self.age = age\n",
    "        \n",
    "    def say_age(self):\n",
    "        print(f\"{self.name} is {self.age} old.\")\n",
    "\n",
    "class Parent(Human):\n",
    "    def kiss(self):\n",
    "        print(f\"{self.name} gives the baby a kiss.\")\n",
    "\n",
    "class Firefighter(Human):\n",
    "    def hose(self):\n",
    "        print(f\"{self.name} sprays water.\")\n",
    "\n",
    "pp = Parent(\"Pat\", 35)\n",
    "ff = Firefighter(\"Pat\", 35)\n",
    "pp.kiss()\n",
    "pp.say_age()\n",
    "ff.hose()\n",
    "ff.say_age()\n"
   ],
   "outputs": [
    {
     "output_type": "stream",
     "name": "stdout",
     "text": [
      "Pat gives the baby a kiss.\n",
      "Pat is 35 old.\n",
      "Pat sprays water.\n",
      "Pat is 35 old.\n"
     ]
    }
   ],
   "metadata": {}
  },
  {
   "cell_type": "code",
   "execution_count": 47,
   "source": [
    "class Human:\n",
    "    def __init__(self, name, age):\n",
    "        self.name = name\n",
    "        self.age = age\n",
    "        \n",
    "    def say_age(self):\n",
    "        print(f\"{self.name} is {self.age} old.\")\n",
    "\n",
    "class Parent(Human):\n",
    "    def kiss(self):\n",
    "        print(f\"{self.name} gives the baby a kiss.\")\n",
    "\n",
    "class Firefighter(Human):\n",
    "    def hose(self):\n",
    "        print(f\"{self.name} sprays water.\")\n",
    "\n",
    "class FirefighterWithKids(Parent, Firefighter):\n",
    "    ...\n",
    "\n",
    "pat = FirefighterWithKids(\"Pat\", 35)\n",
    "pat.say_age()\n",
    "pat.kiss()\n",
    "pat.hose()"
   ],
   "outputs": [
    {
     "output_type": "stream",
     "name": "stdout",
     "text": [
      "Pat is 35 old.\n",
      "Pat gives the baby a kiss.\n",
      "Pat sprays water.\n"
     ]
    }
   ],
   "metadata": {}
  },
  {
   "cell_type": "code",
   "execution_count": 48,
   "source": [
    "class Human:\n",
    "    def __init__(self, name, age):\n",
    "        self.name = name\n",
    "        self.age = age\n",
    "        \n",
    "    def say_age(self):\n",
    "        print(f\"{self.name} is {self.age} old.\")\n",
    "\n",
    "class Parent(Human):\n",
    "    def kiss(self):\n",
    "        print(f\"{self.name} gives the baby a kiss.\")\n",
    "\n",
    "class Firefighter(Human):\n",
    "    def hose(self):\n",
    "        print(f\"{self.name} sprays water.\")\n",
    "\n",
    "class FirefighterWithKids(Parent, Firefighter):\n",
    "    ...\n",
    "\n",
    "FirefighterWithKids.mro()"
   ],
   "outputs": [
    {
     "output_type": "execute_result",
     "data": {
      "text/plain": [
       "[__main__.FirefighterWithKids,\n",
       " __main__.Parent,\n",
       " __main__.Firefighter,\n",
       " __main__.Human,\n",
       " object]"
      ]
     },
     "metadata": {},
     "execution_count": 48
    }
   ],
   "metadata": {}
  },
  {
   "cell_type": "markdown",
   "source": [
    "### Multiple Inheritance and Initialization\n"
   ],
   "metadata": {}
  },
  {
   "cell_type": "code",
   "execution_count": 18,
   "source": [
    "class Human:\n",
    "    def __init__(self, name, age):\n",
    "        self.name = name\n",
    "        self.age = age\n",
    "        \n",
    "    def say_age(self):\n",
    "        print(f\"{self.name} is {self.age} old.\")\n",
    "\n",
    "class Parent(Human):\n",
    "    def __init__(self, name, age, num_kids):\n",
    "        Human.__init__(self, name, age)  \n",
    "        self.num_kids = num_kids\n",
    "        \n",
    "    def kiss(self):\n",
    "        print(f\"{self.name} kisses {self.num_kids} children\")\n",
    "\n",
    "class Firefighter(Human):\n",
    "    def __init__(self, name, age, truck_no):\n",
    "        Human.__init__(self, name, age) \n",
    "        self.truck_no = truck_no\n",
    "        \n",
    "    def truck(self):\n",
    "        print(f\"{self.name} drives truck {self.truck_no}\")\n",
    "\n",
    "class FirefighterWithKids(Parent, Firefighter):\n",
    "    def __init__(self, name, age, num_kids, truck_no):\n",
    "        Parent.__init__(     self, name, age, num_kids)\n",
    "        Firefighter.__init__(self, name, age, truck_no)\n",
    "\n",
    "pat = FirefighterWithKids(name=\"Pat\", age=35, num_kids=3, truck_no=77)\n",
    "pat.say_age()\n",
    "pat.kiss()\n",
    "pat.truck()"
   ],
   "outputs": [
    {
     "output_type": "stream",
     "name": "stdout",
     "text": [
      "Pat is 35 old.\n",
      "Pat kisses 3 children\n",
      "Pat drives truck 77\n"
     ]
    }
   ],
   "metadata": {}
  },
  {
   "cell_type": "code",
   "execution_count": null,
   "source": [],
   "outputs": [],
   "metadata": {}
  }
 ],
 "metadata": {
  "kernelspec": {
   "display_name": "Python 3.8.3 64-bit ('base': conda)",
   "language": "python",
   "name": "python383jvsc74a57bd0d24816daa5bfd7761e7ebb7f877a675ac56b46db76906dba43079628f1df08b6"
  },
  "language_info": {
   "codemirror_mode": {
    "name": "ipython",
    "version": 3
   },
   "file_extension": ".py",
   "mimetype": "text/x-python",
   "name": "python",
   "nbconvert_exporter": "python",
   "pygments_lexer": "ipython3",
   "version": "3.8.3"
  }
 },
 "nbformat": 4,
 "nbformat_minor": 4
}