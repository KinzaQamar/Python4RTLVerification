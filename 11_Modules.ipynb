{
 "cells": [
  {
   "cell_type": "markdown",
   "metadata": {},
   "source": [
    "## Modules"
   ]
  },
  {
   "cell_type": "markdown",
   "metadata": {},
   "source": [
    "# A quick word about namespaces"
   ]
  },
  {
   "cell_type": "code",
   "execution_count": 2,
   "metadata": {},
   "outputs": [
    {
     "name": "stdout",
     "output_type": "stream",
     "text": [
      "'aa' in dir(): True\n",
      "'bb' in dir(): True\n"
     ]
    }
   ],
   "source": [
    "aa = 5\n",
    "bb = None\n",
    "print(\"'aa' in dir():\", 'aa' in dir())\n",
    "print(\"'bb' in dir():\", 'bb' in dir())\n"
   ]
  },
  {
   "cell_type": "markdown",
   "metadata": {},
   "source": [
    "## Importing a module"
   ]
  },
  {
   "cell_type": "markdown",
   "metadata": {},
   "source": [
    "Importing a module and referencing an object in it"
   ]
  },
  {
   "cell_type": "code",
   "execution_count": 2,
   "metadata": {},
   "outputs": [
    {
     "name": "stdout",
     "output_type": "stream",
     "text": [
      "FIFO_DEBUG: 5\n"
     ]
    }
   ],
   "source": [
    "import pyuvm\n",
    "print(\"FIFO_DEBUG:\", pyuvm.FIFO_DEBUG)"
   ]
  },
  {
   "cell_type": "code",
   "execution_count": 14,
   "metadata": {},
   "outputs": [
    {
     "name": "stdout",
     "output_type": "stream",
     "text": [
      "FIFO_DEBUG in dir(): False\n"
     ]
    }
   ],
   "source": [
    "print(\"FIFO_DEBUG in dir():\", \"FIFO_DEBUG\" in dir())"
   ]
  },
  {
   "cell_type": "markdown",
   "metadata": {},
   "source": [
    "### Aliasing a module"
   ]
  },
  {
   "cell_type": "code",
   "execution_count": null,
   "metadata": {},
   "outputs": [
    {
     "name": "stdout",
     "output_type": "stream",
     "text": [
      "FIFO_DEBUG: 5\n"
     ]
    }
   ],
   "source": [
    "import pyuvm as p\n",
    "print(\"FIFO_DEBUG:\", p.FIFO_DEBUG)"
   ]
  },
  {
   "cell_type": "markdown",
   "metadata": {},
   "source": [
    "## Importing resourcesto our `dir()` list"
   ]
  },
  {
   "cell_type": "code",
   "execution_count": 17,
   "metadata": {},
   "outputs": [
    {
     "name": "stdout",
     "output_type": "stream",
     "text": [
      "FIFO_DEBUG in dir() True\n",
      "FIFO_DEBUG: 5\n"
     ]
    }
   ],
   "source": [
    "from pyuvm import FIFO_DEBUG\n",
    "print(\"FIFO_DEBUG in dir()\", \"FIFO_DEBUG\" in dir())\n",
    "print(\"FIFO_DEBUG:\", FIFO_DEBUG)"
   ]
  },
  {
   "cell_type": "markdown",
   "metadata": {},
   "source": [
    "## Importing all resources in a module"
   ]
  },
  {
   "cell_type": "code",
   "execution_count": 3,
   "metadata": {},
   "outputs": [
    {
     "name": "stdout",
     "output_type": "stream",
     "text": [
      "uvm_object in dir() True\n"
     ]
    }
   ],
   "source": [
    "from pyuvm import *\n",
    "print(\"uvm_object in dir()\", \"uvm_object\" in dir())\n"
   ]
  },
  {
   "cell_type": "markdown",
   "metadata": {},
   "source": [
    "## Finding modules"
   ]
  },
  {
   "cell_type": "code",
   "execution_count": 2,
   "metadata": {},
   "outputs": [
    {
     "name": "stdout",
     "output_type": "stream",
     "text": [
      "['/Users/raysalemi/repos/python4uvm_examples', '/Users/raysalemi/.vscode/extensions/ms-toolsai.jupyter-2021.10.1101450599/pythonFiles', '/Users/raysalemi/.vscode/extensions/ms-toolsai.jupyter-2021.10.1101450599/pythonFiles/lib/python', '/usr/local/Cellar/python@3.9/3.9.1_6/Frameworks/Python.framework/Versions/3.9/lib/python39.zip', '/usr/local/Cellar/python@3.9/3.9.1_6/Frameworks/Python.framework/Versions/3.9/lib/python3.9', '/usr/local/Cellar/python@3.9/3.9.1_6/Frameworks/Python.framework/Versions/3.9/lib/python3.9/lib-dynload', '', '/Users/raysalemi/Library/Python/3.9/lib/python/site-packages', '/usr/local/lib/python3.9/site-packages', '/usr/local/lib/python3.9/site-packages/IPython/extensions', '/Users/raysalemi/.ipython']\n"
     ]
    }
   ],
   "source": [
    "import sys\n",
    "print(sys.path)"
   ]
  },
  {
   "cell_type": "code",
   "execution_count": null,
   "metadata": {},
   "outputs": [],
   "source": []
  }
 ],
 "metadata": {
  "kernelspec": {
   "display_name": "Python 3",
   "language": "python",
   "name": "python3"
  },
  "language_info": {
   "codemirror_mode": {
    "name": "ipython",
    "version": 3
   },
   "file_extension": ".py",
   "mimetype": "text/x-python",
   "name": "python",
   "nbconvert_exporter": "python",
   "pygments_lexer": "ipython3",
   "version": "3.8.3"
  }
 },
 "nbformat": 4,
 "nbformat_minor": 4
}
