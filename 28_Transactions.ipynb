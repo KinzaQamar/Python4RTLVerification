{
 "cells": [
  {
   "cell_type": "markdown",
   "metadata": {},
   "source": [
    "# UVM Transactions\n",
    "# The TinyALU Command"
   ]
  },
  {
   "cell_type": "code",
   "execution_count": 1,
   "metadata": {},
   "outputs": [
    {
     "name": "stdout",
     "output_type": "stream",
     "text": [
      "op1 : A: 25 OP: ADD (1) B: 15\n",
      "op2 : A: 25 OP: ADD (1) B: 15\n",
      "same True\n",
      "random op op1 : A: d1 OP: ADD (1) B: 5d\n"
     ]
    }
   ],
   "source": [
    "from pyuvm import *\n",
    "from tb_pkg import *\n",
    "import copy\n",
    "import random\n",
    "\n",
    "class AluCommand(uvm_transaction):\n",
    "\n",
    "    def __init__(self, name, A=0, B=0, op=Ops.ADD):\n",
    "        super().__init__(name)\n",
    "        self.A = A\n",
    "        self.B = B\n",
    "        self.op = Ops(op)\n",
    "\n",
    "    def __eq__(self, other):\n",
    "        same = self.A == other.A \\\n",
    "               and self.B == other.B \\\n",
    "               and self.op == other.op\n",
    "        return same\n",
    "\n",
    "    def __str__(self):\n",
    "        return f\"{self.get_name()} : A: {self.A:02x} OP: {self.op.name} ({self.op.value}) B: {self.B:02x}\"\n",
    "    \n",
    "    def randomize(self):\n",
    "        self.A = random.randint(0,255)\n",
    "        self.B = random.randint(0,255)\n",
    "        self.op = random.choice(list(Ops))\n",
    "\n",
    "op1 = AluCommand(\"op1\", A=0x25, B=0x15, op=Ops.ADD)\n",
    "print(op1)\n",
    "op2 = copy.deepcopy(op1)\n",
    "op2.set_name(\"op2\")\n",
    "print(op2)\n",
    "print(\"same\", op1 == op2)\n",
    "op1.randomize()\n",
    "print(\"random op\", op1)"
   ]
  },
  {
   "cell_type": "code",
   "execution_count": 2,
   "metadata": {},
   "outputs": [
    {
     "name": "stdout",
     "output_type": "stream",
     "text": [
      "result: 0ffd\n",
      "result2: 0ffd\n",
      "Same? True\n"
     ]
    }
   ],
   "source": [
    "class AluResult(uvm_transaction):\n",
    "    def __init__(self, name, r):\n",
    "        super().__init__(name)\n",
    "        self.result = r\n",
    "\n",
    "    def __str__(self):\n",
    "        return f\"{self.get_name()}: {self.result:04x}\"\n",
    "\n",
    "    def __eq__(self, other):\n",
    "        return self.result == other.result\n",
    "\n",
    "result = AluResult(\"result\", 0x0FFD)\n",
    "print(result)\n",
    "result2 = copy.deepcopy(result)\n",
    "result2.set_name(\"result2\")\n",
    "print(result2)\n",
    "print(\"Same?\", result == result2)"
   ]
  },
  {
   "cell_type": "code",
   "execution_count": null,
   "metadata": {},
   "outputs": [],
   "source": []
  }
 ],
 "metadata": {
  "kernelspec": {
   "display_name": "Python 3",
   "language": "python",
   "name": "python3"
  },
  "language_info": {
   "codemirror_mode": {
    "name": "ipython",
    "version": 3
   },
   "file_extension": ".py",
   "mimetype": "text/x-python",
   "name": "python",
   "nbconvert_exporter": "python",
   "pygments_lexer": "ipython3",
   "version": "3.8.3"
  }
 },
 "nbformat": 4,
 "nbformat_minor": 4
}
