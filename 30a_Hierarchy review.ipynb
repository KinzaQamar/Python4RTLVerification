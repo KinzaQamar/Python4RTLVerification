{
 "cells": [
  {
   "cell_type": "markdown",
   "metadata": {},
   "source": [
    "# The Configuration Database\n",
    "\n",
    "## Global Configuration Data"
   ]
  },
  {
   "cell_type": "code",
   "execution_count": 1,
   "metadata": {},
   "outputs": [
    {
     "name": "stdout",
     "output_type": "stream",
     "text": [
      "My name: uvm_test_top.aa\n",
      "My name: uvm_test_top.aa.cc\n",
      "My name: uvm_test_top.bb\n",
      "Top's name: uvm_test_top\n"
     ]
    }
   ],
   "source": [
    "from pyuvm import *\n",
    "\n",
    "class NameMyself(uvm_component):\n",
    "    def build_phase(self):\n",
    "        if self.get_name() == \"aa\":\n",
    "            self.cc = NameMyself(\"cc\", self)\n",
    "    \n",
    "    def end_of_elaboration_phase(self):\n",
    "        print(\"My name:\", self.get_full_name())\n",
    "\n",
    "class TopTest(uvm_test):\n",
    "    def build_phase(self):\n",
    "        self.aa = NameMyself(\"aa\", self)\n",
    "        self.bb = NameMyself(\"bb\", self)\n",
    "    \n",
    "    def run_phase(self):\n",
    "        self.raise_objection()\n",
    "        print(\"Top's name:\", self.get_full_name())\n",
    "        self.drop_objection()\n",
    "\n",
    "uvm_root().run_test(\"TopTest\")"
   ]
  },
  {
   "cell_type": "code",
   "execution_count": null,
   "metadata": {},
   "outputs": [],
   "source": []
  }
 ],
 "metadata": {
  "kernelspec": {
   "display_name": "Python 3",
   "language": "python",
   "name": "python3"
  },
  "language_info": {
   "codemirror_mode": {
    "name": "ipython",
    "version": 3
   },
   "file_extension": ".py",
   "mimetype": "text/x-python",
   "name": "python",
   "nbconvert_exporter": "python",
   "pygments_lexer": "ipython3",
   "version": "3.8.3"
  }
 },
 "nbformat": 4,
 "nbformat_minor": 4
}
