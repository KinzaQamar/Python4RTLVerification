{
 "cells": [
  {
   "cell_type": "markdown",
   "metadata": {},
   "source": [
    "# The Configuration Database\n",
    "\n",
    "## Global Wildcard"
   ]
  },
  {
   "cell_type": "code",
   "execution_count": 1,
   "metadata": {},
   "outputs": [
    {
     "name": "stdout",
     "output_type": "stream",
     "text": [
      "--- ConfigDB()---- \n",
      "PATH                : FIELD     : DATA                          \n",
      "uvm_test_top.aa     : CHILD     : {999: True}\n",
      "uvm_test_top.aa.cc  : CHILD     : {999: True}\n",
      "uvm_test_top.bb     : CHILD     : {999: True} \n",
      " ------------------\n",
      "[uvm_test_top.aa]: Hello\n",
      "[uvm_test_top.aa.cc]: Hello\n",
      "[uvm_test_top.aa.cc.cc]: Hello\n",
      "[uvm_test_top.bb]: Hello\n",
      "[uvm_test_top.bb.cc]: Hello\n"
     ]
    }
   ],
   "source": [
    "from pyuvm import *\n",
    "\n",
    "class Greeter(uvm_component):\n",
    "    def build_phase(self):\n",
    "        try:\n",
    "            build_child = ConfigDB().get(self, \"\", \"CHILD\")\n",
    "        except UVMConfigItemNotFound:\n",
    "            build_child = False\n",
    "            \n",
    "        if build_child:\n",
    "            self.cc = Greeter(\"cc\", self)\n",
    "    \n",
    "    def end_of_elaboration_phase(self):\n",
    "        try:\n",
    "            greeting = ConfigDB().get(self, \"\", \"GREETING\")\n",
    "        except UVMConfigItemNotFound:\n",
    "            greeting = \"Hello\"\n",
    "        print(f\"[{self.get_full_name()}]: {greeting}\")\n",
    "\n",
    "class TopTest(uvm_test):\n",
    "    def build_phase(self):\n",
    "        ConfigDB().set(self, \"aa\", \"CHILD\", True)\n",
    "        ConfigDB().set(self, \"aa.cc\", \"CHILD\", True)\n",
    "        ConfigDB().set(self, \"bb\", \"CHILD\", True)\n",
    "        self.aa = Greeter(\"aa\", self)\n",
    "        self.bb = Greeter(\"bb\", self)\n",
    "\n",
    "    def end_of_elaboration_phase(self):\n",
    "        print(\"--- ConfigDB()----\",ConfigDB(),\"\\n\",\"-\"*18)\n",
    "\n",
    "    \n",
    "    def run_phase(self):\n",
    "        self.raise_objection()\n",
    "        self.drop_objection()\n",
    "\n",
    "uvm_root().run_test(\"TopTest\")"
   ]
  },
  {
   "cell_type": "code",
   "execution_count": null,
   "metadata": {},
   "outputs": [],
   "source": []
  }
 ],
 "metadata": {
  "kernelspec": {
   "display_name": "Python 3",
   "language": "python",
   "name": "python3"
  },
  "language_info": {
   "codemirror_mode": {
    "name": "ipython",
    "version": 3
   },
   "file_extension": ".py",
   "mimetype": "text/x-python",
   "name": "python",
   "nbconvert_exporter": "python",
   "pygments_lexer": "ipython3",
   "version": "3.8.3"
  }
 },
 "nbformat": 4,
 "nbformat_minor": 4
}
