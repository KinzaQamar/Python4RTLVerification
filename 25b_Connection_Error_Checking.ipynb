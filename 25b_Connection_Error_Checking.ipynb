{
 "cells": [
  {
   "cell_type": "markdown",
   "metadata": {},
   "source": [
    "### Connection Error Checking\n",
    "\n",
    "Use the >> button above to run this example.\n",
    "\n",
    "Here we try to connect a uvm_get_export to a uvm_put_port"
   ]
  },
  {
   "cell_type": "code",
   "execution_count": 1,
   "metadata": {
    "scrolled": true
   },
   "outputs": [
    {
     "name": "stderr",
     "output_type": "stream",
     "text": [
      "ERROR: s13_uvm_component.py(407)[root]: uvm_test_top.e_ex must be an instance of\n",
      "<class 'pyuvm.s12_uvm_tlm_interfaces.uvm_blocking_put_port'> not\n",
      "<class '__main__.my_get_export'>\n"
     ]
    }
   ],
   "source": [
    "from pyuvm import *\n",
    "\n",
    "class my_get_export(uvm_get_export): #oops a get export\n",
    "    def put(self, datum):\n",
    "        print(f\"{self.get_name()} got {datum}!\", end=\" \")\n",
    "\n",
    "class port_test(uvm_test):\n",
    "    def build_phase(self):\n",
    "        self.pp  = uvm_put_port(\"pp\", self)\n",
    "        self.e_ex = my_get_export(\"e_ex\", self)\n",
    "    \n",
    "    def connect_phase(self):\n",
    "        self.pp.connect(self.e_ex)\n",
    "    \n",
    "    def run_phase(self):\n",
    "        self.raise_objection()\n",
    "        for nn in range(3):\n",
    "            self.pp.put(nn)\n",
    "        self.drop_objection()\n",
    "        \n",
    "uvm_root().run_test(\"port_test\")"
   ]
  },
  {
   "cell_type": "code",
   "execution_count": null,
   "metadata": {},
   "outputs": [],
   "source": []
  }
 ],
 "metadata": {
  "kernelspec": {
   "display_name": "Python 3",
   "language": "python",
   "name": "python3"
  },
  "language_info": {
   "codemirror_mode": {
    "name": "ipython",
    "version": 3
   },
   "file_extension": ".py",
   "mimetype": "text/x-python",
   "name": "python",
   "nbconvert_exporter": "python",
   "pygments_lexer": "ipython3",
   "version": "3.8.3"
  }
 },
 "nbformat": 4,
 "nbformat_minor": 4
}
