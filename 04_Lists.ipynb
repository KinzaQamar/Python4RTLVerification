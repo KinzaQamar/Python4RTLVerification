{
 "cells": [
  {
   "cell_type": "markdown",
   "metadata": {},
   "source": [
    "# Lists\n",
    "\n",
    "An ordered list."
   ]
  },
  {
   "cell_type": "markdown",
   "metadata": {},
   "source": [
    "Make a list"
   ]
  },
  {
   "cell_type": "code",
   "execution_count": 1,
   "metadata": {},
   "outputs": [
    {
     "name": "stdout",
     "output_type": "stream",
     "text": [
      "List with a list ['a', 3, ['x', 'y']]\n"
     ]
    }
   ],
   "source": [
    "LL = ['x','y']\n",
    "mylist = ['a',3,LL]\n",
    "print(\"List with a list\", mylist)"
   ]
  },
  {
   "cell_type": "markdown",
   "metadata": {},
   "source": [
    "## Creating Lists"
   ]
  },
  {
   "cell_type": "markdown",
   "metadata": {},
   "source": [
    "Using the `list` constructor"
   ]
  },
  {
   "cell_type": "code",
   "execution_count": 2,
   "metadata": {},
   "outputs": [
    {
     "name": "stdout",
     "output_type": "stream",
     "text": [
      "empty_bracket []\n",
      "empty_constructor []\n",
      "from_range(3)_iterator [0, 1, 2]\n"
     ]
    }
   ],
   "source": [
    "empty_bracket = []\n",
    "empty_constructor  = list()\n",
    "from_range_iterator = list(range(3))\n",
    "print(\"empty_bracket\", empty_bracket)\n",
    "print(\"empty_constructor\", empty_constructor)\n",
    "print(\"from_range(3)_iterator\", from_range_iterator)"
   ]
  },
  {
   "cell_type": "markdown",
   "metadata": {},
   "source": [
    "### List Comprehension"
   ]
  },
  {
   "cell_type": "markdown",
   "metadata": {},
   "source": [
    "Creating an even number list with a for loop"
   ]
  },
  {
   "cell_type": "code",
   "execution_count": 3,
   "metadata": {},
   "outputs": [
    {
     "name": "stdout",
     "output_type": "stream",
     "text": [
      "even numbers [0, 2, 4, 6, 8]\n"
     ]
    }
   ],
   "source": [
    "even =  []\n",
    "for ii in range(5):\n",
    "    even.append(ii*2)\n",
    "print(\"even numbers\", even)"
   ]
  },
  {
   "cell_type": "markdown",
   "metadata": {},
   "source": [
    "Creating an even number list with a list comprension"
   ]
  },
  {
   "cell_type": "code",
   "execution_count": 7,
   "metadata": {},
   "outputs": [
    {
     "name": "stdout",
     "output_type": "stream",
     "text": [
      "even numbers [0, 2, 4, 6, 8, 10]\n"
     ]
    }
   ],
   "source": [
    "even = [ii for ii in range(11) if ii % 2 == 0]\n",
    "print(\"even numbers\", even)"
   ]
  },
  {
   "cell_type": "markdown",
   "metadata": {},
   "source": [
    "Capital letter list with a for loop"
   ]
  },
  {
   "cell_type": "code",
   "execution_count": 9,
   "metadata": {},
   "outputs": [
    {
     "name": "stdout",
     "output_type": "stream",
     "text": [
      "all caps ['C', 'C', 'C']\n"
     ]
    }
   ],
   "source": [
    "CL = [cc\n",
    "      for cc in \"CamelCaseCode\"\n",
    "      if cc.isupper()]\n",
    "print(\"all caps\", CL)"
   ]
  },
  {
   "cell_type": "markdown",
   "metadata": {},
   "source": [
    "## List Functions\n",
    "Methods in the `list` type."
   ]
  },
  {
   "cell_type": "markdown",
   "metadata": {},
   "source": [
    "`append()`"
   ]
  },
  {
   "cell_type": "code",
   "execution_count": 10,
   "metadata": {},
   "outputs": [
    {
     "name": "stdout",
     "output_type": "stream",
     "text": [
      "appended list [1, 2, 3, 'four']\n"
     ]
    }
   ],
   "source": [
    "alist = [1,2,3]\n",
    "alist.append(\"four\")\n",
    "print(\"appended list\", alist)"
   ]
  },
  {
   "cell_type": "markdown",
   "metadata": {},
   "source": [
    "`clear()`"
   ]
  },
  {
   "cell_type": "code",
   "execution_count": 11,
   "metadata": {
    "scrolled": false
   },
   "outputs": [
    {
     "name": "stdout",
     "output_type": "stream",
     "text": [
      "cleared list []\n"
     ]
    }
   ],
   "source": [
    "alist.clear()\n",
    "print(\"cleared list\", alist)"
   ]
  },
  {
   "cell_type": "markdown",
   "metadata": {},
   "source": [
    "`copy()`"
   ]
  },
  {
   "cell_type": "code",
   "execution_count": 18,
   "metadata": {},
   "outputs": [
    {
     "name": "stdout",
     "output_type": "stream",
     "text": [
      "aa list values       [1, 2]  /        aa ID 140715074281664\n",
      "bb same list values  [1, 2]  / different ID 140715074291072\n"
     ]
    }
   ],
   "source": [
    "aa = [1,2]\n",
    "print(\"aa list values      \", aa, \" /        aa ID\", id(aa))\n",
    "bb = aa.copy()\n",
    "print(\"bb same list values \", bb, \" / different ID\", id(bb))"
   ]
  },
  {
   "cell_type": "markdown",
   "metadata": {},
   "source": [
    "`extend()`"
   ]
  },
  {
   "cell_type": "code",
   "execution_count": 21,
   "metadata": {},
   "outputs": [
    {
     "name": "stdout",
     "output_type": "stream",
     "text": [
      "aa_list ['a', 'aa', 'aaa']\n",
      "bb_list ['b', 'bb', 'bbb']\n",
      "id(aa_list) before extend 140716148524992\n",
      "aa_list after extend ['a', 'aa', 'aaa', 'b', 'bb', 'bbb']\n",
      "id_aa_list) after  extend 140716148524992\n"
     ]
    }
   ],
   "source": [
    "aa_list = [\"a\",\"aa\",\"aaa\"]\n",
    "print(\"aa_list\", aa_list)\n",
    "bb_list = [\"b\",\"bb\",\"bbb\"]\n",
    "print(\"bb_list\", bb_list)\n",
    "print(\"id(aa_list) before extend\", id(aa_list))\n",
    "aa_list.extend(bb_list)\n",
    "print(\"aa_list after extend\", aa_list)\n",
    "print(\"id_aa_list) after  extend\", id(aa_list))"
   ]
  },
  {
   "cell_type": "markdown",
   "metadata": {},
   "source": [
    "`insert()`"
   ]
  },
  {
   "cell_type": "code",
   "execution_count": 27,
   "metadata": {},
   "outputs": [
    {
     "name": "stdout",
     "output_type": "stream",
     "text": [
      "ordered_list ['a', 'b', 'c']\n",
      "ordered_list with x inserted at front    ['x', 'a', 'b', 'c']\n",
      "ordered_list with xx inserted in index 3 ['x', 'a', 'b', 'xx', 'c']\n"
     ]
    }
   ],
   "source": [
    "ordered_list = [\"a\",\"b\",\"c\"]\n",
    "print(\"ordered_list\", ordered_list)\n",
    "ordered_list.insert(0, \"x\")\n",
    "print(\"ordered_list with x inserted at front   \", ordered_list)\n",
    "ordered_list.insert(3,\"xx\")\n",
    "print(\"ordered_list with xx inserted in index 3\", ordered_list)"
   ]
  },
  {
   "cell_type": "markdown",
   "metadata": {},
   "source": [
    "`pop()`"
   ]
  },
  {
   "cell_type": "code",
   "execution_count": 30,
   "metadata": {
    "scrolled": true
   },
   "outputs": [
    {
     "name": "stdout",
     "output_type": "stream",
     "text": [
      "pre pop    : ['x', 'a', 'b', 'b', 'c']\n",
      "pop()      : c\n",
      "post pop   : ['x', 'a', 'b', 'b']\n",
      "pop(2)     : b\n",
      "post pop(2): ['x', 'a', 'b']\n"
     ]
    }
   ],
   "source": [
    "ordered_list = [\"x\",\"a\",\"b\",\"b\",\"c\"]\n",
    "print(\"pre pop    :\", ordered_list)\n",
    "print(\"pop()      :\", ordered_list.pop())\n",
    "print(\"post pop   :\", ordered_list)\n",
    "print(\"pop(2)     :\", ordered_list.pop(2))\n",
    "print(\"post pop(2):\", ordered_list)"
   ]
  },
  {
   "cell_type": "markdown",
   "metadata": {},
   "source": [
    "`remove()`"
   ]
  },
  {
   "cell_type": "code",
   "execution_count": 32,
   "metadata": {},
   "outputs": [
    {
     "name": "stdout",
     "output_type": "stream",
     "text": [
      "alist before    : ['Q', 'b', 'a', 'b', 'c']\n",
      "alist.remove(\"b\"): ['Q', 'a', 'b', 'c']\n",
      "alist.remove(\"b\") ['Q', 'a', 'c']\n"
     ]
    },
    {
     "ename": "ValueError",
     "evalue": "list.remove(x): x not in list",
     "output_type": "error",
     "traceback": [
      "\u001b[0;31m---------------------------------------------------------------------------\u001b[0m",
      "\u001b[0;31mValueError\u001b[0m                                Traceback (most recent call last)",
      "\u001b[0;32m<ipython-input-32-802062fd6845>\u001b[0m in \u001b[0;36m<module>\u001b[0;34m\u001b[0m\n\u001b[1;32m      5\u001b[0m \u001b[0malist\u001b[0m\u001b[0;34m.\u001b[0m\u001b[0mremove\u001b[0m\u001b[0;34m(\u001b[0m\u001b[0;34m\"b\"\u001b[0m\u001b[0;34m)\u001b[0m\u001b[0;34m\u001b[0m\u001b[0;34m\u001b[0m\u001b[0m\n\u001b[1;32m      6\u001b[0m \u001b[0mprint\u001b[0m\u001b[0;34m(\u001b[0m\u001b[0;34m'alist.remove(\"b\")'\u001b[0m\u001b[0;34m,\u001b[0m\u001b[0malist\u001b[0m\u001b[0;34m)\u001b[0m\u001b[0;34m\u001b[0m\u001b[0;34m\u001b[0m\u001b[0m\n\u001b[0;32m----> 7\u001b[0;31m \u001b[0malist\u001b[0m\u001b[0;34m.\u001b[0m\u001b[0mremove\u001b[0m\u001b[0;34m(\u001b[0m\u001b[0;34m\"b\"\u001b[0m\u001b[0;34m)\u001b[0m\u001b[0;34m\u001b[0m\u001b[0;34m\u001b[0m\u001b[0m\n\u001b[0m",
      "\u001b[0;31mValueError\u001b[0m: list.remove(x): x not in list"
     ]
    }
   ],
   "source": [
    "alist = [\"Q\",\"b\",\"a\",\"b\",\"c\"]\n",
    "print(\"alist before    :\",alist)\n",
    "alist.remove(\"b\")\n",
    "print('alist.remove(\"b\"):',alist)\n",
    "alist.remove(\"b\")\n",
    "print('alist.remove(\"b\")',alist)\n",
    "alist.remove(\"b\")"
   ]
  },
  {
   "cell_type": "markdown",
   "metadata": {},
   "source": [
    "`reverse()`"
   ]
  },
  {
   "cell_type": "code",
   "execution_count": 33,
   "metadata": {},
   "outputs": [
    {
     "name": "stdout",
     "output_type": "stream",
     "text": [
      "original slist: ['1st', '2nd', '3rd']\n",
      "reversed slist: ['3rd', '2nd', '1st']\n"
     ]
    }
   ],
   "source": [
    "slist=[\"1st\",\"2nd\",\"3rd\"]\n",
    "print(\"original slist:\", slist)\n",
    "slist.reverse()\n",
    "print(\"reversed slist:\", slist)"
   ]
  },
  {
   "cell_type": "markdown",
   "metadata": {},
   "source": [
    "`sort()` and `sorted()`"
   ]
  },
  {
   "cell_type": "code",
   "execution_count": 38,
   "metadata": {},
   "outputs": [
    {
     "name": "stdout",
     "output_type": "stream",
     "text": [
      "ID before xmen.sort(): 140715349988544\n",
      "xmen before xmen.sort(): ['Nightcrawler', 'Cyclops', 'Wolverine', 'Storm']\n",
      "ID after xmen.sort():  140715349988544\n",
      "xmen after xmen.sort() : ['Cyclops', 'Nightcrawler', 'Storm', 'Wolverine']\n",
      "ID before sorted(avengers): 140715887300416\n",
      "avengers before sorted(avengers): ['Ironman', 'Hulk', 'Hawkeye', 'Thor']\n",
      "ID after sorted(avengers) : 140715074260800\n",
      "avengers after sorted(avengers) : ['Hawkeye', 'Hulk', 'Ironman', 'Thor']\n"
     ]
    }
   ],
   "source": [
    "xmen=[\"Nightcrawler\", \"Cyclops\", \"Wolverine\", \"Storm\"]\n",
    "print(\"ID before xmen.sort():\", id(xmen))\n",
    "print(\"xmen before xmen.sort():\", xmen)\n",
    "xmen.sort()\n",
    "print(\"ID after xmen.sort(): \", id(xmen))\n",
    "print(\"xmen after xmen.sort() :\", xmen)\n",
    "\n",
    "avengers = [\"Ironman\", \"Hulk\", \"Hawkeye\", \"Thor\"]\n",
    "print(\"ID before sorted(avengers):\", id(avengers))\n",
    "print(\"avengers before sorted(avengers):\", avengers)\n",
    "avengers = sorted(avengers)\n",
    "print(\"ID after sorted(avengers) :\", id(avengers))\n",
    "print(\"avengers after sorted(avengers) :\", avengers)"
   ]
  },
  {
   "cell_type": "markdown",
   "metadata": {},
   "source": [
    "Sorting with a key"
   ]
  },
  {
   "cell_type": "code",
   "execution_count": 44,
   "metadata": {},
   "outputs": [
    {
     "name": "stdout",
     "output_type": "stream",
     "text": [
      "Badly sorted    : ['Hulk', 'Ironman', 'antman']\n",
      "Correctly sorted: ['antman', 'Hulk', 'Ironman']\n"
     ]
    }
   ],
   "source": [
    "avengers = [\"antman\", \"Hulk\", \"Ironman\"]\n",
    "print(\"Badly sorted    :\", sorted(LL))\n",
    "print(\"Correctly sorted:\", sorted(LL, key=str.lower))"
   ]
  },
  {
   "cell_type": "code",
   "execution_count": null,
   "metadata": {},
   "outputs": [],
   "source": []
  }
 ],
 "metadata": {
  "kernelspec": {
   "display_name": "Python 3",
   "language": "python",
   "name": "python3"
  },
  "language_info": {
   "codemirror_mode": {
    "name": "ipython",
    "version": 3
   },
   "file_extension": ".py",
   "mimetype": "text/x-python",
   "name": "python",
   "nbconvert_exporter": "python",
   "pygments_lexer": "ipython3",
   "version": "3.8.3"
  }
 },
 "nbformat": 4,
 "nbformat_minor": 4
}
