{
 "cells": [
  {
   "cell_type": "markdown",
   "metadata": {},
   "source": [
    "## Non Blocking Exports\n",
    "\n",
    "Note: These examples must be run in a freshly restarted notebook kernal. Use the >> button above to run these examples.\n"
   ]
  },
  {
   "cell_type": "code",
   "execution_count": 1,
   "metadata": {
    "scrolled": true
   },
   "outputs": [
    {
     "name": "stdout",
     "output_type": "stream",
     "text": [
      "Fail Fail Fail Fail \n",
      "Got 15\n",
      "\n",
      "Got 44\n",
      "\n",
      "Got 40\n",
      "\n",
      "Got 23\n",
      "Fail \n",
      "Got 3\n"
     ]
    }
   ],
   "source": [
    "from pyuvm import *\n",
    "import random\n",
    "\n",
    "class example_nb_get_export(uvm_get_export): #oop a get export\n",
    "    def try_get(self):\n",
    "        if random.randint(0,1) == 0:\n",
    "            print(f\"Fail\", end=\" \")\n",
    "            return False, None\n",
    "        else:\n",
    "            return True, random.randint(0,50)\n",
    "        \n",
    "\n",
    "class nb_get_test(uvm_test):\n",
    "    def build_phase(self):\n",
    "        self.nbgp  = uvm_nonblocking_get_port(\"pp\", self)\n",
    "        self.nbex = example_nb_get_export(\"nbex\", self)\n",
    "    \n",
    "    def connect_phase(self):\n",
    "        self.nbgp.connect(self.nbex)\n",
    "    \n",
    "    def run_phase(self):\n",
    "        self.raise_objection()\n",
    "        for nn in range(5):\n",
    "            success = False\n",
    "            while not success:\n",
    "                success, numb = self.nbgp.try_get()\n",
    "            print(f\"\\nGot {numb}\")\n",
    "        self.drop_objection()\n",
    "        \n",
    "uvm_root().run_test(\"nb_get_test\")"
   ]
  },
  {
   "cell_type": "code",
   "execution_count": null,
   "metadata": {},
   "outputs": [],
   "source": []
  }
 ],
 "metadata": {
  "kernelspec": {
   "display_name": "Python 3",
   "language": "python",
   "name": "python3"
  },
  "language_info": {
   "codemirror_mode": {
    "name": "ipython",
    "version": 3
   },
   "file_extension": ".py",
   "mimetype": "text/x-python",
   "name": "python",
   "nbconvert_exporter": "python",
   "pygments_lexer": "ipython3",
   "version": "3.8.3"
  }
 },
 "nbformat": 4,
 "nbformat_minor": 4
}
