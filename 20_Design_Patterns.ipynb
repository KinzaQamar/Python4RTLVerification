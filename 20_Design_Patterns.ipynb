{
 "cells": [
  {
   "cell_type": "markdown",
   "source": [
    "# The UVM Test"
   ],
   "metadata": {}
  },
  {
   "cell_type": "markdown",
   "source": [
    "## The Singleton Design Pattern\n",
    "Getting a single object instead of constructing new ones."
   ],
   "metadata": {}
  },
  {
   "cell_type": "code",
   "execution_count": 2,
   "source": [
    "class MyClass:\n",
    "    ...\n",
    "\n",
    "nc1 = MyClass()\n",
    "nc2 = MyClass()\n",
    "print(\"id(nc1):\", id(nc1))\n",
    "print(\"id(nc2):\", id(nc2))"
   ],
   "outputs": [
    {
     "output_type": "stream",
     "name": "stdout",
     "text": [
      "id(nc1): 140221022182848\n",
      "id(nc2): 140221022380096\n"
     ]
    }
   ],
   "metadata": {}
  },
  {
   "cell_type": "code",
   "execution_count": 4,
   "source": [
    "from pyuvm import Singleton\n",
    "\n",
    "class MySingleton(metaclass=Singleton):\n",
    "    ...\n",
    "\n",
    "ms1 = MySingleton()\n",
    "ms2 = MySingleton()\n",
    "print(\"id(ms1):\", id(ms1))\n",
    "print(\"id(ms2):\", id(ms2))"
   ],
   "outputs": [
    {
     "output_type": "stream",
     "name": "stdout",
     "text": [
      "id(ms1): 140198470115872\n",
      "id(ms2): 140198470115872\n"
     ]
    }
   ],
   "metadata": {}
  },
  {
   "cell_type": "code",
   "execution_count": 5,
   "source": [
    "from pyuvm import Singleton\n",
    "\n",
    "class NoClass:\n",
    "    ...\n",
    "\n",
    "class MySingleton(metaclass=Singleton):\n",
    "    ...\n",
    "\n",
    "print(\"    type(NoClass):\", type(NoClass))\n",
    "print(\"type(MySingleton):\", type(MySingleton))"
   ],
   "outputs": [
    {
     "output_type": "stream",
     "name": "stdout",
     "text": [
      "    type(NoClass): <class 'type'>\n",
      "type(MySingleton): <class 'pyuvm.utility_classes.Singleton'>\n"
     ]
    }
   ],
   "metadata": {}
  },
  {
   "cell_type": "markdown",
   "source": [
    "## The Factory Design Pattern\n",
    "Tiny game design example"
   ],
   "metadata": {}
  },
  {
   "cell_type": "code",
   "execution_count": 7,
   "source": [
    "import random\n",
    "\n",
    "class Weapon:\n",
    "    def sound_effect(self):\n",
    "        print(self.sound)\n",
    "\n",
    "class Phaser(Weapon):\n",
    "    def __init__(self):\n",
    "        self.sound = \"Zzzap!\"\n",
    "\n",
    "class PhotonTorpedo(Weapon):\n",
    "    def __init__(self):\n",
    "        self.sound = \"Pew! Pew!\"\n",
    "\n",
    "class GiantRedBall(Weapon):\n",
    "    def __init__(self):\n",
    "        self.sound = \"WHOOSH BOOM!\"\n",
    "        \n",
    "factory_list=[Phaser, PhotonTorpedo, GiantRedBall]\n",
    "\n",
    "for _ in range(6):\n",
    "    weapon_no = random.randint(0,2)\n",
    "    weapon_cls = factory_list[weapon_no]\n",
    "    weapon = weapon_cls()\n",
    "    weapon.sound_effect()"
   ],
   "outputs": [
    {
     "output_type": "stream",
     "name": "stdout",
     "text": [
      "Pew! Pew!\n",
      "WHOOSH BOOM!\n",
      "WHOOSH BOOM!\n",
      "Zzzap!\n",
      "Pew! Pew!\n",
      "WHOOSH BOOM!\n"
     ]
    }
   ],
   "metadata": {}
  },
  {
   "cell_type": "markdown",
   "source": [
    "### The run\\_phase Method\n",
    "\n",
    "*Note: The code below needs to be run in a freshly started Jupyter notebook kernal. This means after you run it once, you must restart the kernal by pressing the circular arrow restart button above or selecting Kernal -> Restart in the menus to run it again.*"
   ],
   "metadata": {}
  },
  {
   "cell_type": "code",
   "execution_count": 4,
   "source": [
    "from pyuvm import *\n",
    "from proxy_pkg import *\n",
    "import random\n",
    "import time\n",
    "\n",
    "class AluTest(uvm_test):\n",
    "    @staticmethod\n",
    "    def alu_op(A, B, op, is_dut = False):\n",
    "        \"\"\"Python model of the TinyALU\"\"\"\n",
    "        assert isinstance(op, Ops), \"The tinyalu op must be of type ops\"\n",
    "        if op == Ops.ADD:\n",
    "            result = A + B\n",
    "        elif op == Ops.AND:\n",
    "            result = A & B\n",
    "        elif op == Ops.XOR:\n",
    "            result = A ^ B\n",
    "        elif op == Ops.MUL:\n",
    "            result = A * B\n",
    "        if is_dut:\n",
    "            time.sleep(0.1)\n",
    "            if is_dut and (random.randint(0,3) == 0):\n",
    "                result = result + 1\n",
    "        return result\n",
    "\n",
    "    def run_phase(self):\n",
    "        self.raise_objection()  ## You MUST raise an objection\n",
    "        cvg = set() #functional coverage\n",
    "        for _ in range(5):\n",
    "            A = random.randrange(256)\n",
    "            B = random.randrange(256)\n",
    "            op = random.choice(list(Ops))\n",
    "            cvg.add(op)\n",
    "            predicted_result = self.alu_op(A, B, op)\n",
    "            actual_result = self.alu_op(A, B, op, is_dut=True)\n",
    "            if predicted_result == actual_result:\n",
    "                self.logger.info( f\"PASSED: {A:02x} {op.name} {B:02x} = {actual_result:04x}\")\n",
    "            else:\n",
    "                self.logger.error(f\"FAILED: {A:02x} {op.name} {B:02x} = {actual_result:04x} expected {predicted_result:04x}\")\n",
    "        if len(set(Ops) - cvg) > 0:\n",
    "            self.logger.error(f\"Functional coverage error. Missed: {set(Ops)-cvg}\")\n",
    "        self.drop_objection()  ## drop the objection to end\n",
    "uvm_root().run_test(\"AluTest\")"
   ],
   "outputs": [
    {
     "output_type": "stream",
     "name": "stderr",
     "text": [
      "INFO: <ipython-input-4-639ec6314069>(36)[uvm_test_top]: PASSED: ae XOR 5f = 00f1\n",
      "INFO: <ipython-input-4-639ec6314069>(36)[uvm_test_top]: PASSED: 1a MUL 2b = 045e\n",
      "INFO: <ipython-input-4-639ec6314069>(36)[uvm_test_top]: PASSED: c5 ADD 20 = 00e5\n",
      "INFO: <ipython-input-4-639ec6314069>(36)[uvm_test_top]: PASSED: df AND f7 = 00d7\n",
      "ERROR: <ipython-input-4-639ec6314069>(38)[uvm_test_top]: FAILED: 92 ADD 94 = 0127 expected 0126\n"
     ]
    }
   ],
   "metadata": {}
  },
  {
   "cell_type": "code",
   "execution_count": null,
   "source": [],
   "outputs": [],
   "metadata": {}
  }
 ],
 "metadata": {
  "kernelspec": {
   "display_name": "Python 3.8.3 64-bit ('base': conda)",
   "language": "python",
   "name": "python383jvsc74a57bd0d24816daa5bfd7761e7ebb7f877a675ac56b46db76906dba43079628f1df08b6"
  },
  "language_info": {
   "codemirror_mode": {
    "name": "ipython",
    "version": 3
   },
   "file_extension": ".py",
   "mimetype": "text/x-python",
   "name": "python",
   "nbconvert_exporter": "python",
   "pygments_lexer": "ipython3",
   "version": "3.8.3"
  }
 },
 "nbformat": 4,
 "nbformat_minor": 4
}