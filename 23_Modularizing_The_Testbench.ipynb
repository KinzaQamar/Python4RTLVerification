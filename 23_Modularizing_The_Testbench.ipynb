{
 "cells": [
  {
   "cell_type": "markdown",
   "metadata": {},
   "source": [
    "# Modularizing the Testbench"
   ]
  },
  {
   "cell_type": "code",
   "execution_count": 1,
   "metadata": {},
   "outputs": [
    {
     "name": "stderr",
     "output_type": "stream",
     "text": [
      "ERROR: <ipython-input-1-ed280dd272b4>(36)[uvm_test_top.env.cvg]: Functional coverage error. Missed: {<Ops.MUL: 4>}\n",
      "INFO: <ipython-input-1-ed280dd272b4>(51)[uvm_test_top.env.scb]: PASSED: cb AND 6e = 004a\n",
      "INFO: <ipython-input-1-ed280dd272b4>(51)[uvm_test_top.env.scb]: PASSED: cf XOR 8b = 0044\n",
      "INFO: <ipython-input-1-ed280dd272b4>(51)[uvm_test_top.env.scb]: PASSED: 38 ADD 6d = 00a5\n",
      "INFO: <ipython-input-1-ed280dd272b4>(51)[uvm_test_top.env.scb]: PASSED: 26 XOR 0f = 0029\n",
      "ERROR: <ipython-input-1-ed280dd272b4>(53)[uvm_test_top.env.scb]: FAILED: fb XOR 1b = 00e1 expected 00e0\n"
     ]
    }
   ],
   "source": [
    "from pyuvm import *\n",
    "from tb_pkg import *\n",
    "import random\n",
    "\n",
    "class AluDut(uvm_component):\n",
    "    \"\"\"Provides the alu TLM operations\"\"\"\n",
    "    @staticmethod\n",
    "    def alu_op(A, B, op, is_dut = False):\n",
    "        \"\"\"TLM model of the TinyALU\"\"\"\n",
    "        assert isinstance(op, Ops), \"The tinyalu op must be of type ops\"\n",
    "        if op == Ops.ADD:\n",
    "            result = A + B\n",
    "        elif op == Ops.AND:\n",
    "            result = A & B\n",
    "        elif op == Ops.XOR:\n",
    "            result = A ^ B\n",
    "        elif op == Ops.MUL:\n",
    "            result = A * B\n",
    "        if is_dut:\n",
    "            time.sleep(0.1)\n",
    "            if random.randint(0,3) == 0:\n",
    "                result = result + 1\n",
    "        return result\n",
    "\n",
    "class Coverage(uvm_component):\n",
    "    \n",
    "    def end_of_elaboration_phase(self):\n",
    "        self.cvg = set()\n",
    "    \n",
    "    def write(self, op):\n",
    "        assert isinstance(op, Ops), \"Coverage can only receive Ops\"\n",
    "        self.cvg.add(op)\n",
    "\n",
    "    def check_phase(self):\n",
    "        if len(set(Ops) - self.cvg) > 0:\n",
    "            self.logger.error(f\"Functional coverage error. Missed: {set(Ops)-self.cvg}\")\n",
    "\n",
    "class Scoreboard(uvm_component):  \n",
    "\n",
    "    def end_of_elaboration_phase(self):\n",
    "        self.results=[]\n",
    "\n",
    "    def write(self, op_result):\n",
    "        A, B, op, actual_result = op_result\n",
    "        predicted_result = AluDut.alu_op(A, B, op)\n",
    "        self.results.append( (A, B, op, predicted_result, actual_result) )\n",
    "\n",
    "    def check_phase(self):\n",
    "        for A, B, op, predicted_result, actual_result in self.results:\n",
    "            if predicted_result == actual_result:\n",
    "                self.logger.info( f\"PASSED: {A:02x} {op.name} {B:02x} = {actual_result:04x}\")\n",
    "            else:\n",
    "                self.logger.error(f\"FAILED: {A:02x} {op.name} {B:02x} = {actual_result:04x} expected {predicted_result:04x}\")\n",
    "\n",
    "\n",
    "class AluEnv(uvm_env):\n",
    "    def build_phase(self):\n",
    "        self.cvg = Coverage(\"cvg\", self)\n",
    "        self.scb = Scoreboard(\"scb\", self)\n",
    "        self.dut = AluDut(\"dut\", self)\n",
    "    \n",
    "    def run_phase(self):\n",
    "        self.raise_objection()  ## You MUST raise an objection\n",
    "\n",
    "        for _ in range(5):\n",
    "            A = random.randrange(256)\n",
    "            B = random.randrange(256)\n",
    "            op = random.choice(list(Ops))\n",
    "            self.cvg.write(op)\n",
    "            actual_result = self.dut.alu_op(A, B, op, is_dut=True)\n",
    "            result_tuple = ( A, B, op, actual_result)\n",
    "            self.scb.write( result_tuple )\n",
    "        self.drop_objection()  ## drop the objection to end\n",
    "\n",
    "class AluTest(uvm_test):\n",
    "    def build_phase(self):\n",
    "        self.env = AluEnv(\"env\", self)\n",
    "\n",
    "uvm_root().run_test(\"AluTest\")"
   ]
  },
  {
   "cell_type": "code",
   "execution_count": null,
   "metadata": {},
   "outputs": [],
   "source": []
  },
  {
   "cell_type": "code",
   "execution_count": null,
   "metadata": {},
   "outputs": [],
   "source": []
  }
 ],
 "metadata": {
  "kernelspec": {
   "display_name": "Python 3",
   "language": "python",
   "name": "python3"
  },
  "language_info": {
   "codemirror_mode": {
    "name": "ipython",
    "version": 3
   },
   "file_extension": ".py",
   "mimetype": "text/x-python",
   "name": "python",
   "nbconvert_exporter": "python",
   "pygments_lexer": "ipython3",
   "version": "3.8.3"
  }
 },
 "nbformat": 4,
 "nbformat_minor": 4
}
