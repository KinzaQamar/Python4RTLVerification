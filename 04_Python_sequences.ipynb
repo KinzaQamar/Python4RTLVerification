{
 "cells": [
  {
   "cell_type": "markdown",
   "source": [
    "# Python sequences\n",
    "\n",
    "In this chapter we look at Python's three basic sequences."
   ],
   "metadata": {}
  },
  {
   "cell_type": "markdown",
   "source": [
    "## The `for` loop\n",
    "We discuss the `for` loop and how it loops through sequences\n"
   ],
   "metadata": {}
  },
  {
   "cell_type": "code",
   "execution_count": 14,
   "source": [
    "for cc in \"01234\":\n",
    "    print(cc, end=\" \")"
   ],
   "outputs": [
    {
     "output_type": "stream",
     "name": "stdout",
     "text": [
      "0 1 2 3 4 "
     ]
    }
   ],
   "metadata": {
    "scrolled": false
   }
  },
  {
   "cell_type": "code",
   "execution_count": 3,
   "source": [
    "for cc in \"01234\":\n",
    "    if cc == \"1\":\n",
    "        continue\n",
    "    if cc == \"3\":\n",
    "        break\n",
    "    print(cc, end=\" \")"
   ],
   "outputs": [
    {
     "output_type": "stream",
     "name": "stdout",
     "text": [
      "0 2 "
     ]
    }
   ],
   "metadata": {}
  }
 ],
 "metadata": {
  "kernelspec": {
   "display_name": "Python 3",
   "language": "python",
   "name": "python3"
  },
  "language_info": {
   "name": "python",
   "version": "3.8.3",
   "mimetype": "text/x-python",
   "codemirror_mode": {
    "name": "ipython",
    "version": 3
   },
   "pygments_lexer": "ipython3",
   "nbconvert_exporter": "python",
   "file_extension": ".py"
  }
 },
 "nbformat": 4,
 "nbformat_minor": 4
}