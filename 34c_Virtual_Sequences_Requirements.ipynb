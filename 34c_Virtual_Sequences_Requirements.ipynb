{
 "cells": [
  {
   "cell_type": "markdown",
   "metadata": {},
   "source": [
    "## Virtual Sequences, Requirements Example"
   ]
  },
  {
   "cell_type": "code",
   "execution_count": 1,
   "metadata": {},
   "outputs": [
    {
     "name": "stdout",
     "output_type": "stream",
     "text": [
      "Testing 1101\n",
      "Testing 2222\n"
     ]
    }
   ],
   "source": [
    "from pyuvm import *\n",
    "\n",
    "\n",
    "class Req_1101(uvm_sequence):\n",
    "    def body(self):\n",
    "        print(\"Testing 1101\")\n",
    "\n",
    "class Req_2222(uvm_sequence):\n",
    "    def body(self):\n",
    "        print(\"Testing 2222\")\n",
    "\n",
    "class ReqTestSeq(uvm_sequence):\n",
    "    def body(self):\n",
    "      for req in [\"1101\", \"2222\"]:\n",
    "        seq_name = \"Req_\"+req\n",
    "        seq = uvm_factory().create_object_by_name(seq_name)\n",
    "        seq.start()\n",
    "\n",
    "class ReqTest(uvm_test):\n",
    "    def run_phase(self):\n",
    "        self.raise_objection()\n",
    "        self.req_test = ReqTestSeq(\"req_test\")\n",
    "        self.req_test.start()\n",
    "        self.drop_objection()\n",
    "\n",
    "uvm_root().run_test(\"ReqTest\")"
   ]
  },
  {
   "cell_type": "code",
   "execution_count": null,
   "metadata": {},
   "outputs": [],
   "source": []
  }
 ],
 "metadata": {
  "kernelspec": {
   "display_name": "Python 3",
   "language": "python",
   "name": "python3"
  },
  "language_info": {
   "codemirror_mode": {
    "name": "ipython",
    "version": 3
   },
   "file_extension": ".py",
   "mimetype": "text/x-python",
   "name": "python",
   "nbconvert_exporter": "python",
   "pygments_lexer": "ipython3",
   "version": "3.8.3"
  }
 },
 "nbformat": 4,
 "nbformat_minor": 4
}
