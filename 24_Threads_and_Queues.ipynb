{
 "cells": [
  {
   "cell_type": "markdown",
   "metadata": {},
   "source": [
    "# Threads and Queues"
   ]
  },
  {
   "cell_type": "raw",
   "metadata": {},
   "source": [
    "## Creating a Thread"
   ]
  },
  {
   "cell_type": "code",
   "execution_count": null,
   "metadata": {},
   "outputs": [
    {
     "name": "stdout",
     "output_type": "stream",
     "text": [
      "5! sent 1got 1  sent 2 got 2 sent 3got 3  4! 3! "
     ]
    }
   ],
   "source": [
    "import threading\n",
    "import time\n",
    "\n",
    "def countdown():\n",
    "    for second in range (5, 0, -1):\n",
    "        print(f\"{second}!\", end = \" \")\n",
    "        time.sleep(1)\n",
    "    print(\"Happy New Year!\")\n",
    "\n",
    "countdown_thread = threading.Thread(target=countdown)\n",
    "countdown_thread.start()\n",
    "countdown_thread.join()"
   ]
  },
  {
   "cell_type": "markdown",
   "metadata": {},
   "source": [
    "### Passing Arguments to a Thread Target"
   ]
  },
  {
   "cell_type": "code",
   "execution_count": null,
   "metadata": {},
   "outputs": [],
   "source": [
    "import threading\n",
    "import time\n",
    "\n",
    "def countdown(secs):\n",
    "    for second in range(secs, 0, -1):\n",
    "        print(f\"{second}!\", end = \" \")\n",
    "        time.sleep(1)\n",
    "    print(\"Happy New Year!\")\n",
    "\n",
    "countdown_thread = threading.Thread(target=countdown, args=(3,))\n",
    "countdown_thread.start()\n",
    "countdown_thread.join()"
   ]
  },
  {
   "cell_type": "code",
   "execution_count": null,
   "metadata": {},
   "outputs": [],
   "source": [
    "import threading\n",
    "import time\n",
    "\n",
    "def countdown(secs):\n",
    "    for second in range(secs, 0, -1):\n",
    "        print(f\"{second}!\", end = \" \")\n",
    "        time.sleep(1)\n",
    "    print(\"Happy New Year!\")\n",
    "\n",
    "countdown_thread = threading.Thread(target=countdown, kwargs=dict(secs=3))\n",
    "countdown_thread.start()\n",
    "countdown_thread.join()"
   ]
  },
  {
   "cell_type": "markdown",
   "metadata": {},
   "source": [
    "## Multiple Threads"
   ]
  },
  {
   "cell_type": "code",
   "execution_count": null,
   "metadata": {},
   "outputs": [],
   "source": [
    "import threading\n",
    "import time\n",
    "\n",
    "def countdown(secs, punc=\"!\"):\n",
    "    for second in range(secs, 0, -1):\n",
    "        print(f\"{second}{punc}\", end = \" \")\n",
    "        time.sleep(1)\n",
    "    print(f\"Happy New Year{punc}\", end=\" \")\n",
    "\n",
    "t1 = threading.Thread(target=countdown, args=[3], name=\"First\")\n",
    "t2 = threading.Thread(target=countdown, kwargs=({\"secs\":3,\"punc\":\"?\"}), name=\"Second\")\n",
    "t1.start()\n",
    "time.sleep(.5)\n",
    "t2.start()\n",
    "t1.join()\n",
    "t2.join()"
   ]
  },
  {
   "cell_type": "markdown",
   "metadata": {},
   "source": [
    "## Passing Data Between Threads"
   ]
  },
  {
   "cell_type": "code",
   "execution_count": null,
   "metadata": {},
   "outputs": [],
   "source": [
    "from pyuvm import Singleton\n",
    "import threading\n",
    "\n",
    "class Conduit(metaclass=Singleton):\n",
    "    def __init__(self):\n",
    "        self.numb = None\n",
    "        \n",
    "    def put_numb(self,nn):\n",
    "        self.numb = nn\n",
    "        \n",
    "    def get_numb(self):\n",
    "        return self.numb\n",
    "\n",
    "def producer(max_numb):\n",
    "    for nn in range(max_numb, -1, -1):\n",
    "        print(f\"sending {nn}\", end = \" \")\n",
    "        Conduit().put_numb(nn)\n",
    "\n",
    "def consumer():\n",
    "    numb = 10\n",
    "    while numb is None or numb > 0:\n",
    "        numb = Conduit().get_numb()\n",
    "        if numb is not None:\n",
    "            print(f\"got {numb}\", end = \" \")\n",
    "\n",
    "pthread = threading.Thread(target=producer, kwargs=dict(max_numb=3))\n",
    "cthread = threading.Thread(target=consumer)\n",
    "pthread.start()\n",
    "cthread.start()\n",
    "pthread.join()\n",
    "cthread.join()"
   ]
  },
  {
   "cell_type": "code",
   "execution_count": null,
   "metadata": {
    "scrolled": true
   },
   "outputs": [],
   "source": [
    "from pyuvm import Singleton\n",
    "import threading\n",
    "from queue import Queue\n",
    "\n",
    "class Conduit(metaclass=Singleton):\n",
    "    def __init__(self):\n",
    "        self.qq = Queue(maxsize=1)\n",
    "\n",
    "def producer(max_numb):\n",
    "    for nn in range(max_numb, -1, -1):\n",
    "        Conduit().qq.put(nn)\n",
    "        print(f\"sent {nn}\", end = \" \")\n",
    "\n",
    "\n",
    "def consumer():\n",
    "    numb = 10\n",
    "    while numb > 0:\n",
    "        numb = Conduit().qq.get()\n",
    "        print(f\"got {numb}\", end = \" \")\n",
    "\n",
    "pthread = threading.Thread(target=producer,  kwargs=dict(max_numb=3))\n",
    "cthread = threading.Thread(target=consumer)\n",
    "pthread.start()\n",
    "cthread.start()\n",
    "pthread.join()\n",
    "cthread.join()"
   ]
  },
  {
   "cell_type": "markdown",
   "metadata": {},
   "source": [
    "## Using Thread Conditions to Block\n",
    "\n",
    "The race car example"
   ]
  },
  {
   "cell_type": "code",
   "execution_count": null,
   "metadata": {},
   "outputs": [],
   "source": [
    "from pyuvm import Singleton\n",
    "import threading\n",
    "\n",
    "class FlagHolder(metaclass=Singleton):\n",
    "    def __init__(self, cond=None):\n",
    "        self.flag = False\n",
    "        self.cond = cond\n",
    "        self.set_count = 1\n",
    "\n",
    "    def set_flag(self, flag):\n",
    "        print(f\"\\nSetting flag to {flag}\")\n",
    "        self.set_count += 1\n",
    "        self.flag = flag\n",
    "        with self.cond:\n",
    "            self.cond.notify_all()\n",
    "\n",
    "def check_flag():\n",
    "    print(f\"Checking {FlagHolder().set_count}\", end=\" \")\n",
    "    return FlagHolder().flag\n",
    "\n",
    "def racecar(number, flag_cond):\n",
    "    with flag_cond:\n",
    "        flag_cond.wait_for(check_flag)\n",
    "    print(f\"# {number:02d} Go!\", end=\" \")\n",
    "\n",
    "flag_cond = threading.Condition()\n",
    "flag_holder = FlagHolder(flag_cond)\n",
    "thread_list=[]\n",
    "\n",
    "for ii in range(10,13):\n",
    "    thread = threading.Thread(target=racecar, args=[ii, flag_cond])\n",
    "    thread_list.append(thread)\n",
    "for tt in thread_list:\n",
    "    tt.start()\n",
    "\n",
    "\n",
    "flag_holder.set_flag(False)\n",
    "time.sleep(0.1)\n",
    "flag_holder.set_flag(False)\n",
    "time.sleep(0.1)\n",
    "flag_holder.set_flag(True)"
   ]
  },
  {
   "cell_type": "code",
   "execution_count": 14,
   "metadata": {},
   "outputs": [
    {
     "name": "stdout",
     "output_type": "stream",
     "text": [
      "Play\n",
      "Guessing 1\n",
      "Is it 1?\n",
      "Guessing 2\n",
      "Is it 2?\n",
      "Guessing 4\n",
      "Is it 4?\n",
      "Guessing 3\n",
      "Is it 3?\n",
      "Guessing 5\n",
      "Is it 5?\n",
      "Correct: It is 5!\n"
     ]
    }
   ],
   "source": [
    "import threading\n",
    "import random\n",
    "import time\n",
    "\n",
    "class GuessingGame:\n",
    "    def __init__(self, answer):\n",
    "        assert(answer in set(range(1,6))), \"Must pick a number between 1 and 5\"\n",
    "        self.guesses = list(range(1,6))\n",
    "        self.answer = answer\n",
    "        self.guess = None\n",
    "        self.guess_cond = threading.Condition()\n",
    "        self.done = False\n",
    "        \n",
    "    def guesser(self):\n",
    "        while not self.done:\n",
    "            self.guess = random.choice(self.guesses)\n",
    "            self.guesses.remove(self.guess)\n",
    "            print(f\"Guessing {self.guess}\")\n",
    "            with self.guess_cond:\n",
    "                self.guess_cond.notify_all()\n",
    "            time.sleep(0.1)\n",
    "            \n",
    "    def is_it(self):\n",
    "        print(f\"Is it {self.guess}?\")\n",
    "        return self.answer == self.guess\n",
    "    \n",
    "    def checker(self):\n",
    "        with self.guess_cond:\n",
    "            self.guess_cond.wait_for(self.is_it)\n",
    "        print(f\"Correct: It is {self.guess}!\")\n",
    "        self.done = True\n",
    "\n",
    "    def play(self):\n",
    "        print(\"Play\")\n",
    "        guesser_thread = threading.Thread(target=self.guesser)\n",
    "        checker_thread = threading.Thread(target=self.checker)\n",
    "        guesser_thread.start()\n",
    "        checker_thread.start()\n",
    "        guesser_thread.join()\n",
    "        checker_thread.join()\n",
    "\n",
    "game = GuessingGame(5)\n",
    "game.play()"
   ]
  },
  {
   "cell_type": "code",
   "execution_count": null,
   "metadata": {},
   "outputs": [],
   "source": [
    "None != 5"
   ]
  },
  {
   "cell_type": "markdown",
   "metadata": {},
   "source": [
    "## Ending Threads\n",
    "### Terminating Data"
   ]
  },
  {
   "cell_type": "code",
   "execution_count": null,
   "metadata": {},
   "outputs": [],
   "source": [
    "import threading\n",
    "\n",
    "def producer(numb, qq):\n",
    "    for nn in range(numb):\n",
    "        qq.put(nn)\n",
    "        print(f\"sent {nn}\", end=\" \")\n",
    "    qq.put(None)\n",
    "\n",
    "def consumer(qq):\n",
    "    nn = qq.get()\n",
    "    while nn is not None:\n",
    "        print(f\"got {nn}\", end=\" \")\n",
    "        nn = qq.get()\n",
    "\n",
    "queue = Queue(maxsize=1)\n",
    "pthread = threading.Thread(target=producer, args=[4, queue])\n",
    "cthread = threading.Thread(target=consumer, args=[queue])\n",
    "pthread.start()\n",
    "cthread.start()\n"
   ]
  },
  {
   "cell_type": "markdown",
   "metadata": {},
   "source": [
    "### Termination Flag"
   ]
  },
  {
   "cell_type": "code",
   "execution_count": 3,
   "metadata": {},
   "outputs": [
    {
     "name": "stdout",
     "output_type": "stream",
     "text": [
      "sent 0 got 0sent 1  sent 2got 1  got 2 sent 3 got 3 "
     ]
    }
   ],
   "source": [
    "import threading\n",
    "from pyuvm import Singleton\n",
    "import time\n",
    "from queue import Queue, Empty\n",
    "\n",
    "class TerminateExample():\n",
    "    def __init__(self):\n",
    "        self.finished = False\n",
    "        self.qq = Queue(maxsize=1)\n",
    "        \n",
    "    def producer(self,numb):\n",
    "        for nn in range(numb):\n",
    "            print(f\"sent {nn}\", end=\" \")\n",
    "            self.qq.put(nn)\n",
    "            time.sleep(0.2)\n",
    "        self.finished = True\n",
    "\n",
    "    def consumer(self):\n",
    "        while not self.finished:\n",
    "            try:\n",
    "                nn = self.qq.get(timeout=0.1)\n",
    "                time.sleep(0.2)\n",
    "                print(f\"got {nn}\", end=\" \")\n",
    "            except Empty:\n",
    "                pass\n",
    "\n",
    "    def run(self):\n",
    "        pthread = threading.Thread(target=self.producer, args=(4,))\n",
    "        cthread = threading.Thread(target=self.consumer)\n",
    "        pthread.start()\n",
    "        cthread.start()\n",
    "        cthread.join()\n",
    "        pthread.join()\n",
    "\n",
    "TerminateExample().run()"
   ]
  },
  {
   "cell_type": "code",
   "execution_count": null,
   "metadata": {},
   "outputs": [],
   "source": []
  }
 ],
 "metadata": {
  "kernelspec": {
   "display_name": "Python 3",
   "language": "python",
   "name": "python3"
  },
  "language_info": {
   "codemirror_mode": {
    "name": "ipython",
    "version": 3
   },
   "file_extension": ".py",
   "mimetype": "text/x-python",
   "name": "python",
   "nbconvert_exporter": "python",
   "pygments_lexer": "ipython3",
   "version": "3.8.3"
  }
 },
 "nbformat": 4,
 "nbformat_minor": 4
}
