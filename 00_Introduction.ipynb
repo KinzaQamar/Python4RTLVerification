{
 "cells": [
  {
   "cell_type": "code",
   "execution_count": 3,
   "source": [
    "print(\"Hello, world.\")\n"
   ],
   "outputs": [
    {
     "output_type": "stream",
     "name": "stdout",
     "text": [
      "Hello, world.\n"
     ]
    }
   ],
   "metadata": {}
  }
 ],
 "metadata": {
  "kernelspec": {
   "name": "python385jvsc74a57bd0d73acb3c06fb20381cdd8a59e4cc377e65b172b8dc786a82264d55979b1d4d78",
   "display_name": "Python 3.8.5 64-bit ('python4uvm_examples': conda)",
   "language": "python"
  },
  "language_info": {
   "name": "python",
   "version": "3.8.3",
   "mimetype": "text/x-python",
   "codemirror_mode": {
    "name": "ipython",
    "version": 3
   },
   "pygments_lexer": "ipython3",
   "nbconvert_exporter": "python",
   "file_extension": ".py"
  },
  "interpreter": {
   "hash": "d73acb3c06fb20381cdd8a59e4cc377e65b172b8dc786a82264d55979b1d4d78"
  }
 },
 "nbformat": 4,
 "nbformat_minor": 4
}