{
 "cells": [
  {
   "cell_type": "markdown",
   "metadata": {},
   "source": [
    "# Protected Variables and Properties"
   ]
  },
  {
   "cell_type": "code",
   "execution_count": 8,
   "metadata": {},
   "outputs": [
    {
     "ename": "AssertionError",
     "evalue": "Freezing should be 0",
     "output_type": "error",
     "traceback": [
      "\u001b[0;31m---------------------------------------------------------------------------\u001b[0m",
      "\u001b[0;31mAssertionError\u001b[0m                            Traceback (most recent call last)",
      "\u001b[0;32m<ipython-input-8-540c8354753e>\u001b[0m in \u001b[0;36m<module>\u001b[0;34m\u001b[0m\n\u001b[1;32m     11\u001b[0m \u001b[0mwp\u001b[0m \u001b[0;34m=\u001b[0m \u001b[0mWeatherPoint\u001b[0m\u001b[0;34m(\u001b[0m\u001b[0;36m35\u001b[0m\u001b[0;34m)\u001b[0m\u001b[0;34m\u001b[0m\u001b[0;34m\u001b[0m\u001b[0m\n\u001b[1;32m     12\u001b[0m \u001b[0mwp\u001b[0m\u001b[0;34m.\u001b[0m\u001b[0mtemp\u001b[0m \u001b[0;34m=\u001b[0m \u001b[0;36m32\u001b[0m\u001b[0;34m\u001b[0m\u001b[0;34m\u001b[0m\u001b[0m\n\u001b[0;32m---> 13\u001b[0;31m \u001b[0;32massert\u001b[0m \u001b[0mwp\u001b[0m\u001b[0;34m.\u001b[0m\u001b[0mto_c\u001b[0m \u001b[0;34m==\u001b[0m \u001b[0;36m0\u001b[0m\u001b[0;34m,\u001b[0m \u001b[0;34m\"Freezing should be 0\"\u001b[0m\u001b[0;34m\u001b[0m\u001b[0;34m\u001b[0m\u001b[0m\n\u001b[0m",
      "\u001b[0;31mAssertionError\u001b[0m: Freezing should be 0"
     ]
    }
   ],
   "source": [
    "class WeatherPoint:\n",
    "    def __init__(self, temp):\n",
    "        self.temp = temp\n",
    "    \n",
    "    def to_f(self):\n",
    "        ft = self.temp * 9 / 5 + 32\n",
    "    \n",
    "    def to_c(self):\n",
    "        return self.temp\n",
    "\n",
    "wp = WeatherPoint(35)\n",
    "wp.temp = 32\n",
    "assert wp.to_c == 0, \"Freezing should be 0\""
   ]
  },
  {
   "cell_type": "markdown",
   "metadata": {},
   "source": [
    "## Protected Variables"
   ]
  },
  {
   "cell_type": "code",
   "execution_count": 13,
   "metadata": {
    "scrolled": true
   },
   "outputs": [
    {
     "name": "stdout",
     "output_type": "stream",
     "text": [
      "Freezing in C: 0.0\n"
     ]
    }
   ],
   "source": [
    "class WeatherPoint:\n",
    "    def __init__(self, c_temp):\n",
    "        self._c_temp = c_temp\n",
    "    \n",
    "    def set_c_temp(self, c_temp):\n",
    "        self._c_temp = c_temp\n",
    "        \n",
    "    def set_f_temp(self, f_temp):\n",
    "        self._c_temp = (f_temp - 32) * 5 / 9\n",
    "\n",
    "    def get_f_temp(self):\n",
    "        ft = self._c_temp * 9 / 5 + 32\n",
    "    \n",
    "    def get_c_temp(self):\n",
    "        return self._c_temp\n",
    "\n",
    "wp = WeatherPoint(35)\n",
    "wp._c_temp = 32  #No! Bad programmer!\n",
    "wp.set_f_temp(32)\n",
    "print(f\"Freezing in C: {wp.get_c_temp()}\")"
   ]
  },
  {
   "cell_type": "markdown",
   "metadata": {},
   "source": [
    "## Private Variables"
   ]
  },
  {
   "cell_type": "code",
   "execution_count": 17,
   "metadata": {},
   "outputs": [
    {
     "name": "stdout",
     "output_type": "stream",
     "text": [
      "0\n",
      "35\n"
     ]
    }
   ],
   "source": [
    "class WeatherPoint:\n",
    "    def __init__(self, c_temp):\n",
    "        self.__c_temp = c_temp\n",
    "    \n",
    "    def set_c_temp(self, c_temp):\n",
    "        self.__c_temp = c_temp\n",
    "        \n",
    "    def set_f_temp(self, f_temp):\n",
    "        self.__c_temp = (f_temp - 32) * 5 / 9\n",
    "\n",
    "    def get_f_temp(self):\n",
    "        ft = self.__c_temp * 9 / 5 + 32\n",
    "    \n",
    "    def get_c_temp(self):\n",
    "        return self.__c_temp\n",
    "\n",
    "wp = WeatherPoint(35)\n",
    "wp.__c_temp = 0\n",
    "print (wp.__c_temp)\n",
    "print (wp.get_c_temp())"
   ]
  },
  {
   "cell_type": "markdown",
   "metadata": {},
   "source": [
    "## Properties"
   ]
  },
  {
   "cell_type": "code",
   "execution_count": 30,
   "metadata": {},
   "outputs": [
    {
     "name": "stdout",
     "output_type": "stream",
     "text": [
      "set c_temp to 0\n",
      "0.0 C == 32.0 F\n",
      "set f_temp to 100\n",
      "37.8 C == 100.0 F\n"
     ]
    }
   ],
   "source": [
    "class WeatherPoint:\n",
    "    def __init__(self, c_temp):\n",
    "        self.__c_temp = c_temp\n",
    "    \n",
    "    @property   \n",
    "    def c_temp(self):\n",
    "        return self.__c_temp\n",
    "    \n",
    "    @c_temp.setter\n",
    "    def c_temp(self, c_temp):\n",
    "        self.__c_temp = c_temp\n",
    "        \n",
    "    @property\n",
    "    def f_temp(self):\n",
    "        return self.__c_temp * 9 / 5 + 32\n",
    "\n",
    "    @f_temp.setter\n",
    "    def f_temp(self, f_temp):\n",
    "        self.__c_temp = (f_temp - 32) * 5 / 9\n",
    "    \n",
    "    def __str__(self):\n",
    "        return f\"{self.c_temp:.1f} C == {self.f_temp:.1f} F\"\n",
    "wp = WeatherPoint(35)\n",
    "print(\"set c_temp to 0\")\n",
    "wp.c_temp = 0\n",
    "print(wp)\n",
    "print(\"set f_temp to 100\")\n",
    "wp.f_temp = 100\n",
    "print(wp)"
   ]
  },
  {
   "cell_type": "code",
   "execution_count": null,
   "metadata": {},
   "outputs": [],
   "source": []
  }
 ],
 "metadata": {
  "kernelspec": {
   "display_name": "Python 3",
   "language": "python",
   "name": "python3"
  },
  "language_info": {
   "codemirror_mode": {
    "name": "ipython",
    "version": 3
   },
   "file_extension": ".py",
   "mimetype": "text/x-python",
   "name": "python",
   "nbconvert_exporter": "python",
   "pygments_lexer": "ipython3",
   "version": "3.8.3"
  }
 },
 "nbformat": 4,
 "nbformat_minor": 4
}
