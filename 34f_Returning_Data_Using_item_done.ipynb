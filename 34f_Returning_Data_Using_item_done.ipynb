{
 "cells": [
  {
   "cell_type": "markdown",
   "metadata": {},
   "source": [
    "## Returning Data Using item\\_done"
   ]
  },
  {
   "cell_type": "code",
   "execution_count": 1,
   "metadata": {},
   "outputs": [
    {
     "name": "stdout",
     "output_type": "stream",
     "text": [
      "numb: None   result: 1\n",
      "numb: None   result: 2\n",
      "numb: None   result: 3\n",
      "numb: None   result: 4\n",
      "numb: None   result: 5\n"
     ]
    }
   ],
   "source": [
    "from pyuvm import *\n",
    "\n",
    "class SeqItem(uvm_sequence_item):\n",
    "    def __init__(self, name):\n",
    "        super().__init__(name)\n",
    "        self.numb = self.result = None\n",
    "        \n",
    "    def __str__(self):\n",
    "        return f\"numb: {self.numb}   result: {self.result}\"\n",
    "    \n",
    "\n",
    "class SeqDriver(uvm_driver):\n",
    "    def run_phase(self):\n",
    "        while True:\n",
    "            op_item = self.seq_item_port.get_next_item()\n",
    "            return_item = SeqItem(\"return_item\")\n",
    "            return_item.result = op_item.numb + 1\n",
    "            return_item.set_context(op_item)\n",
    "            self.seq_item_port.item_done(return_item)\n",
    "\n",
    "class Seq(uvm_sequence):\n",
    "    def body(self):\n",
    "        for nn in range(5):\n",
    "            op = SeqItem(\"op\")\n",
    "            self.start_item(op)\n",
    "            op.numb = nn\n",
    "            self.finish_item(op)\n",
    "            return_item = self.get_response()\n",
    "            print(return_item)\n",
    "\n",
    "class SeqTest(uvm_test):\n",
    "    def build_phase(self):\n",
    "        self.seqr = uvm_sequencer(\"seqr\", self)\n",
    "        self.drvr = SeqDriver(\"drvr\",self)\n",
    "    \n",
    "    def connect_phase(self):\n",
    "        self.drvr.seq_item_port.connect(self.seqr.seq_item_export)\n",
    "        \n",
    "    def run_phase(self):\n",
    "        self.raise_objection()\n",
    "        self.seq = Seq.create(\"seq\")\n",
    "        self.seq.start(self.seqr)\n",
    "        self.drop_objection()\n",
    "    \n",
    "\n",
    "uvm_root().run_test(\"SeqTest\")\n",
    "            \n",
    "            "
   ]
  },
  {
   "cell_type": "code",
   "execution_count": null,
   "metadata": {},
   "outputs": [],
   "source": []
  }
 ],
 "metadata": {
  "kernelspec": {
   "display_name": "Python 3",
   "language": "python",
   "name": "python3"
  },
  "language_info": {
   "codemirror_mode": {
    "name": "ipython",
    "version": 3
   },
   "file_extension": ".py",
   "mimetype": "text/x-python",
   "name": "python",
   "nbconvert_exporter": "python",
   "pygments_lexer": "ipython3",
   "version": "3.8.3"
  }
 },
 "nbformat": 4,
 "nbformat_minor": 4
}
