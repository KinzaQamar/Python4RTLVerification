{
 "cells": [
  {
   "cell_type": "markdown",
   "metadata": {},
   "source": [
    "# Design patterns"
   ]
  },
  {
   "cell_type": "markdown",
   "metadata": {},
   "source": [
    "## The singleton pattern"
   ]
  },
  {
   "cell_type": "code",
   "execution_count": 2,
   "metadata": {},
   "outputs": [
    {
     "name": "stdout",
     "output_type": "stream",
     "text": [
      "id(nc1): 140221022182848\n",
      "id(nc2): 140221022380096\n"
     ]
    }
   ],
   "source": [
    "class MyClass:\n",
    "    ...\n",
    "\n",
    "nc1 = MyClass()\n",
    "nc2 = MyClass()\n",
    "print(\"id(nc1):\", id(nc1))\n",
    "print(\"id(nc2):\", id(nc2))"
   ]
  },
  {
   "cell_type": "code",
   "execution_count": 4,
   "metadata": {},
   "outputs": [
    {
     "name": "stdout",
     "output_type": "stream",
     "text": [
      "id(ms1): 140198470115872\n",
      "id(ms2): 140198470115872\n"
     ]
    }
   ],
   "source": [
    "from pyuvm import Singleton\n",
    "\n",
    "class MySingleton(metaclass=Singleton):\n",
    "    ...\n",
    "\n",
    "ms1 = MySingleton()\n",
    "ms2 = MySingleton()\n",
    "print(\"id(ms1):\", id(ms1))\n",
    "print(\"id(ms2):\", id(ms2))"
   ]
  },
  {
   "cell_type": "code",
   "execution_count": 5,
   "metadata": {},
   "outputs": [
    {
     "name": "stdout",
     "output_type": "stream",
     "text": [
      "    type(NoClass): <class 'type'>\n",
      "type(MySingleton): <class 'pyuvm.utility_classes.Singleton'>\n"
     ]
    }
   ],
   "source": [
    "from pyuvm import Singleton\n",
    "\n",
    "class NoClass:\n",
    "    ...\n",
    "\n",
    "class MySingleton(metaclass=Singleton):\n",
    "    ...\n",
    "\n",
    "print(\"    type(NoClass):\", type(NoClass))\n",
    "print(\"type(MySingleton):\", type(MySingleton))"
   ]
  },
  {
   "cell_type": "markdown",
   "metadata": {},
   "source": [
    "## The factory pattern"
   ]
  },
  {
   "cell_type": "code",
   "execution_count": 7,
   "metadata": {},
   "outputs": [
    {
     "name": "stdout",
     "output_type": "stream",
     "text": [
      "Pew! Pew!\n",
      "WHOOSH BOOM!\n",
      "WHOOSH BOOM!\n",
      "Zzzap!\n",
      "Pew! Pew!\n",
      "WHOOSH BOOM!\n"
     ]
    }
   ],
   "source": [
    "import random\n",
    "\n",
    "class Weapon:\n",
    "    def sound_effect(self):\n",
    "        print(self.sound)\n",
    "\n",
    "class Phaser(Weapon):\n",
    "    def __init__(self):\n",
    "        self.sound = \"Zzzap!\"\n",
    "\n",
    "class PhotonTorpedo(Weapon):\n",
    "    def __init__(self):\n",
    "        self.sound = \"Pew! Pew!\"\n",
    "\n",
    "class GiantRedBall(Weapon):\n",
    "    def __init__(self):\n",
    "        self.sound = \"WHOOSH BOOM!\"\n",
    "        \n",
    "factory_list=[Phaser, PhotonTorpedo, GiantRedBall]\n",
    "\n",
    "for _ in range(6):\n",
    "    weapon_no = random.randint(0,2)\n",
    "    weapon_cls = factory_list[weapon_no]\n",
    "    weapon = weapon_cls()\n",
    "    weapon.sound_effect()"
   ]
  }
 ],
 "metadata": {
  "kernelspec": {
   "display_name": "Python 3",
   "language": "python",
   "name": "python3"
  },
  "language_info": {
   "codemirror_mode": {
    "name": "ipython",
    "version": 3
   },
   "file_extension": ".py",
   "mimetype": "text/x-python",
   "name": "python",
   "nbconvert_exporter": "python",
   "pygments_lexer": "ipython3",
   "version": "3.8.3"
  }
 },
 "nbformat": 4,
 "nbformat_minor": 4
}
