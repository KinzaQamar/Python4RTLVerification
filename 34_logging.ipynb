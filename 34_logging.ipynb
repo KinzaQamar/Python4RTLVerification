{
 "cells": [
  {
   "cell_type": "code",
   "execution_count": 1,
   "metadata": {},
   "outputs": [
    {
     "name": "stderr",
     "output_type": "stream",
     "text": [
      "INFO: <ipython-input-1-e12db576de73>(7)[uvm_test_top.comp]: This is info\n",
      "WARNING: <ipython-input-1-e12db576de73>(8)[uvm_test_top.comp]: This is warning\n",
      "ERROR: <ipython-input-1-e12db576de73>(9)[uvm_test_top.comp]: This is error\n",
      "CRITICAL: <ipython-input-1-e12db576de73>(10)[uvm_test_top.comp]: This is critical\n"
     ]
    }
   ],
   "source": [
    "from pyuvm import *\n",
    "\n",
    "class LogComp(uvm_component):\n",
    "    def run_phase(self):\n",
    "        self.raise_objection()\n",
    "        self.logger.debug(\"This is debug\")\n",
    "        self.logger.info(\"This is info\")\n",
    "        self.logger.warning(\"This is warning\")\n",
    "        self.logger.error(\"This is error\")\n",
    "        self.logger.critical(\"This is critical\")\n",
    "        self.drop_objection()\n",
    "\n",
    "class LogTest(uvm_test):\n",
    "    def build_phase(self):\n",
    "        self.comp = LogComp(\"comp\", self)\n",
    "        \n",
    "        \n",
    "uvm_root().run_test(\"LogTest\")"
   ]
  }
 ],
 "metadata": {
  "kernelspec": {
   "display_name": "Python 3",
   "language": "python",
   "name": "python3"
  },
  "language_info": {
   "codemirror_mode": {
    "name": "ipython",
    "version": 3
   },
   "file_extension": ".py",
   "mimetype": "text/x-python",
   "name": "python",
   "nbconvert_exporter": "python",
   "pygments_lexer": "ipython3",
   "version": "3.8.3"
  }
 },
 "nbformat": 4,
 "nbformat_minor": 4
}
