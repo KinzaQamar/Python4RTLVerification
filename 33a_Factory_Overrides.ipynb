{
 "cells": [
  {
   "cell_type": "markdown",
   "metadata": {},
   "source": [
    "# Factory Overrides"
   ]
  },
  {
   "cell_type": "markdown",
   "metadata": {},
   "source": [
    "Uncomment the various tests below to try different overrides.  Only one can be uncommented at a time."
   ]
  },
  {
   "cell_type": "code",
   "execution_count": 1,
   "metadata": {},
   "outputs": [
    {
     "name": "stdout",
     "output_type": "stream",
     "text": [
      "con1: 0 con2: 1\n",
      "con1: 1 con2: 2\n",
      "con1: 2 con2: 3\n"
     ]
    }
   ],
   "source": [
    "from pyuvm import *\n",
    "\n",
    "class Producer(uvm_component):\n",
    "    def build_phase(self):\n",
    "        self.ap = uvm_analysis_port(\"ap\", self)\n",
    "        \n",
    "    def run_phase(self):\n",
    "        self.raise_objection()\n",
    "        for nn in range(3):\n",
    "            self.ap.write(nn)\n",
    "        self.drop_objection()\n",
    "        \n",
    "class Consumer(uvm_subscriber):\n",
    "    \n",
    "    def write(self, datum):\n",
    "        print(f\"{self.get_name()}: {datum}\", end=\" \")\n",
    "        \n",
    "class Env(uvm_env):\n",
    "    def build_phase(self):\n",
    "        self.pro   = Producer.create(\"pro\", self)\n",
    "        self.con1  = Consumer.create(\"con1\", self)\n",
    "        self.con2  = Consumer.create(\"con2\", self)\n",
    "\n",
    "    def connect_phase(self):\n",
    "        self.pro.ap.connect(self.con1)\n",
    "        self.pro.ap.connect(self.con2)\n",
    "\n",
    "class VertConsumer(Consumer):\n",
    "    def write(self, datum):\n",
    "        print(f\"{self.get_name()}: {datum}\")\n",
    "\n",
    "class IncConsumer(VertConsumer):\n",
    "    def write(self, datum):\n",
    "        print(f\"{self.get_name()}: {datum+1}\")\n",
    "\n",
    "\n",
    "class BaseTest(uvm_test):\n",
    "    def build_phase(self):\n",
    "        self.env = Env.create(\"env\", self)\n",
    "\n",
    "class VertTest(BaseTest):\n",
    "    def build_phase(self):\n",
    "        uvm_factory().set_type_override_by_type(Consumer, VertConsumer)\n",
    "        super().build_phase()\n",
    "\n",
    "class IncTest(BaseTest):\n",
    "    def build_phase(self):\n",
    "        uvm_factory().set_inst_override_by_type(Consumer, IncConsumer, self.get_full_name()+\".env.con2\")\n",
    "        super().build_phase()\n",
    "        \n",
    "# uvm_root().run_test(\"BaseTest\")\n",
    "# uvm_root().run_test(\"VertTest\")\n",
    "uvm_root().run_test(\"IncTest\")"
   ]
  },
  {
   "cell_type": "code",
   "execution_count": null,
   "metadata": {},
   "outputs": [],
   "source": []
  }
 ],
 "metadata": {
  "kernelspec": {
   "display_name": "Python 3",
   "language": "python",
   "name": "python3"
  },
  "language_info": {
   "codemirror_mode": {
    "name": "ipython",
    "version": 3
   },
   "file_extension": ".py",
   "mimetype": "text/x-python",
   "name": "python",
   "nbconvert_exporter": "python",
   "pygments_lexer": "ipython3",
   "version": "3.8.3"
  }
 },
 "nbformat": 4,
 "nbformat_minor": 4
}
