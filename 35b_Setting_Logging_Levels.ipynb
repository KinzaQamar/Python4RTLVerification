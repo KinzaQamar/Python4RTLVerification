{
 "cells": [
  {
   "cell_type": "markdown",
   "metadata": {},
   "source": [
    "## Setting Logging Levels"
   ]
  },
  {
   "cell_type": "code",
   "execution_count": 1,
   "metadata": {},
   "outputs": [
    {
     "name": "stderr",
     "output_type": "stream",
     "text": [
      "FIFO_DEBUG: s12_uvm_tlm_interfaces.py(564)[uvm_test_top.fifo.put_export]: blocking put: 0\n",
      "FIFO_DEBUG: s12_uvm_tlm_interfaces.py(588)[uvm_test_top.fifo.get_export]: Attempting blocking get\n",
      "FIFO_DEBUG: s12_uvm_tlm_interfaces.py(566)[uvm_test_top.fifo.put_export]: success put 0\n",
      "FIFO_DEBUG: s12_uvm_tlm_interfaces.py(590)[uvm_test_top.fifo.get_export]: got 0\n",
      "FIFO_DEBUG: s12_uvm_tlm_interfaces.py(564)[uvm_test_top.fifo.put_export]: blocking put: 1\n",
      "FIFO_DEBUG: s12_uvm_tlm_interfaces.py(566)[uvm_test_top.fifo.put_export]: success put 1\n",
      "FIFO_DEBUG: s12_uvm_tlm_interfaces.py(588)[uvm_test_top.fifo.get_export]: Attempting blocking get\n",
      "FIFO_DEBUG: s12_uvm_tlm_interfaces.py(590)[uvm_test_top.fifo.get_export]: got 1\n",
      "FIFO_DEBUG: s12_uvm_tlm_interfaces.py(564)[uvm_test_top.fifo.put_export]: blocking put: 2\n",
      "FIFO_DEBUG: s12_uvm_tlm_interfaces.py(588)[uvm_test_top.fifo.get_export]: Attempting blocking get\n",
      "FIFO_DEBUG: s12_uvm_tlm_interfaces.py(566)[uvm_test_top.fifo.put_export]: success put 2\n",
      "FIFO_DEBUG: s12_uvm_tlm_interfaces.py(590)[uvm_test_top.fifo.get_export]: got 2\n",
      "FIFO_DEBUG: s12_uvm_tlm_interfaces.py(564)[uvm_test_top.fifo.put_export]: blocking put: 3\n",
      "FIFO_DEBUG: s12_uvm_tlm_interfaces.py(588)[uvm_test_top.fifo.get_export]: Attempting blocking get\n",
      "FIFO_DEBUG: s12_uvm_tlm_interfaces.py(566)[uvm_test_top.fifo.put_export]: success put 3\n",
      "FIFO_DEBUG: s12_uvm_tlm_interfaces.py(590)[uvm_test_top.fifo.get_export]: got 3\n",
      "FIFO_DEBUG: s12_uvm_tlm_interfaces.py(588)[uvm_test_top.fifo.get_export]: Attempting blocking get\n",
      "FIFO_DEBUG: s12_uvm_tlm_interfaces.py(564)[uvm_test_top.fifo.put_export]: blocking put: 4\n",
      "FIFO_DEBUG: s12_uvm_tlm_interfaces.py(566)[uvm_test_top.fifo.put_export]: success put 4\n",
      "FIFO_DEBUG: s12_uvm_tlm_interfaces.py(590)[uvm_test_top.fifo.get_export]: got 4\n",
      "FIFO_DEBUG: s12_uvm_tlm_interfaces.py(588)[uvm_test_top.fifo.get_export]: Attempting blocking get\n"
     ]
    },
    {
     "name": "stdout",
     "output_type": "stream",
     "text": [
      "Put 0 Got 0 Put 1 Got 1 Put 2 Got 2 Put 3Got 3  Got 4 Put 4 "
     ]
    }
   ],
   "source": [
    "from pyuvm import *\n",
    "\n",
    "class Producer(uvm_component):\n",
    "    def build_phase(self):\n",
    "        self.pp = uvm_put_port(\"pp\", self)\n",
    "    \n",
    "    def run_phase(self):\n",
    "        self.raise_objection()\n",
    "        for nn in range(5):\n",
    "            self.pp.put(nn)\n",
    "            print(f\"Put {nn}\", end=\" \")\n",
    "        self.drop_objection()\n",
    "        \n",
    "class Consumer(uvm_component):\n",
    "    def build_phase(self):\n",
    "        self.gp = uvm_get_port(\"gp\", self)\n",
    "    \n",
    "    def run_phase(self):\n",
    "        while True:\n",
    "            nn = self.gp.get()\n",
    "            print(f\"Got {nn}\", end=\" \")\n",
    "\n",
    "class FIFOTest(uvm_test):\n",
    "    def build_phase(self):\n",
    "        self.prod = Producer(\"prod\", self)\n",
    "        self.cons = Consumer(\"cons\", self)\n",
    "        self.fifo = uvm_tlm_fifo(\"fifo\", self)\n",
    "        \n",
    "    def end_of_elaboration_phase(self):\n",
    "        self.set_logging_level_hier(FIFO_DEBUG)\n",
    "    \n",
    "    def connect_phase(self):\n",
    "        self.prod.pp.connect(self.fifo.put_export)\n",
    "        self.cons.gp.connect(self.fifo.get_export)\n",
    "\n",
    "uvm_root().run_test(\"FIFOTest\")"
   ]
  },
  {
   "cell_type": "code",
   "execution_count": null,
   "metadata": {},
   "outputs": [],
   "source": []
  }
 ],
 "metadata": {
  "kernelspec": {
   "display_name": "Python 3",
   "language": "python",
   "name": "python3"
  },
  "language_info": {
   "codemirror_mode": {
    "name": "ipython",
    "version": 3
   },
   "file_extension": ".py",
   "mimetype": "text/x-python",
   "name": "python",
   "nbconvert_exporter": "python",
   "pygments_lexer": "ipython3",
   "version": "3.8.3"
  }
 },
 "nbformat": 4,
 "nbformat_minor": 4
}
