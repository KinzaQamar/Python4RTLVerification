{
 "cells": [
  {
   "cell_type": "markdown",
   "metadata": {},
   "source": [
    "# Inheritance"
   ]
  },
  {
   "cell_type": "markdown",
   "metadata": {},
   "source": [
    "Don't do this!"
   ]
  },
  {
   "cell_type": "code",
   "execution_count": 6,
   "metadata": {
    "scrolled": true
   },
   "outputs": [
    {
     "name": "stdout",
     "output_type": "stream",
     "text": [
      "The dog says, 'bow bow'\n",
      "The cat says, 'miāo'\n"
     ]
    }
   ],
   "source": [
    "class Dog:\n",
    "    def pull_string(self):\n",
    "        print(\"The dog says, 'bow bow'\")\n",
    "\n",
    "class Cat:\n",
    "    def pull_string(self):\n",
    "        print(\"The cat says, 'miāo'\")\n",
    "\n",
    "Dog().pull_string()\n",
    "Cat().pull_string()"
   ]
  },
  {
   "cell_type": "markdown",
   "metadata": {},
   "source": [
    "Use inheritance instead"
   ]
  },
  {
   "cell_type": "code",
   "execution_count": 12,
   "metadata": {},
   "outputs": [
    {
     "name": "stdout",
     "output_type": "stream",
     "text": [
      "The dog says 'bow bow' \n",
      "The cat says 'miāo' \n"
     ]
    }
   ],
   "source": [
    "class Animal:\n",
    "    def __init__(self):\n",
    "        self.animal = None\n",
    "        self.sound = None\n",
    "    def pull_string(self):\n",
    "        print(f\"The {self.animal} says '{self.sound}' \")\n",
    "\n",
    "class Dog(Animal):\n",
    "    def __init__(self):\n",
    "        self.animal = \"dog\"\n",
    "        self.sound = \"bow bow\"\n",
    "    \n",
    "class Cat(Animal):\n",
    "    def __init__(self):\n",
    "        self.animal = \"cat\"\n",
    "        self.sound = \"miāo\"\n",
    "\n",
    "Dog().pull_string()\n",
    "Cat().pull_string()"
   ]
  },
  {
   "cell_type": "markdown",
   "metadata": {},
   "source": [
    "## Inheritance And Method Resolution Order"
   ]
  },
  {
   "cell_type": "code",
   "execution_count": 15,
   "metadata": {},
   "outputs": [
    {
     "name": "stdout",
     "output_type": "stream",
     "text": [
      "[<class '__main__.Dog'>, <class '__main__.Animal'>, <class 'object'>]\n"
     ]
    }
   ],
   "source": [
    "print(Dog.mro())"
   ]
  },
  {
   "cell_type": "code",
   "execution_count": 17,
   "metadata": {
    "scrolled": true
   },
   "outputs": [
    {
     "ename": "AttributeError",
     "evalue": "'SmallDog' object has no attribute 'animal'",
     "output_type": "error",
     "traceback": [
      "\u001b[0;31m---------------------------------------------------------------------------\u001b[0m",
      "\u001b[0;31mAttributeError\u001b[0m                            Traceback (most recent call last)",
      "\u001b[0;32m<ipython-input-17-6244b88a517f>\u001b[0m in \u001b[0;36m<module>\u001b[0;34m\u001b[0m\n\u001b[1;32m     15\u001b[0m         \u001b[0mself\u001b[0m\u001b[0;34m.\u001b[0m\u001b[0msound\u001b[0m \u001b[0;34m=\u001b[0m \u001b[0;34m\"yap yap\"\u001b[0m\u001b[0;34m\u001b[0m\u001b[0;34m\u001b[0m\u001b[0m\n\u001b[1;32m     16\u001b[0m \u001b[0;34m\u001b[0m\u001b[0m\n\u001b[0;32m---> 17\u001b[0;31m \u001b[0mSmallDog\u001b[0m\u001b[0;34m(\u001b[0m\u001b[0;34m)\u001b[0m\u001b[0;34m.\u001b[0m\u001b[0mpull_string\u001b[0m\u001b[0;34m(\u001b[0m\u001b[0;34m)\u001b[0m\u001b[0;34m\u001b[0m\u001b[0;34m\u001b[0m\u001b[0m\n\u001b[0m",
      "\u001b[0;32m<ipython-input-17-6244b88a517f>\u001b[0m in \u001b[0;36mpull_string\u001b[0;34m(self)\u001b[0m\n\u001b[1;32m      4\u001b[0m         \u001b[0mself\u001b[0m\u001b[0;34m.\u001b[0m\u001b[0msound\u001b[0m \u001b[0;34m=\u001b[0m \u001b[0;32mNone\u001b[0m\u001b[0;34m\u001b[0m\u001b[0;34m\u001b[0m\u001b[0m\n\u001b[1;32m      5\u001b[0m     \u001b[0;32mdef\u001b[0m \u001b[0mpull_string\u001b[0m\u001b[0;34m(\u001b[0m\u001b[0mself\u001b[0m\u001b[0;34m)\u001b[0m\u001b[0;34m:\u001b[0m\u001b[0;34m\u001b[0m\u001b[0;34m\u001b[0m\u001b[0m\n\u001b[0;32m----> 6\u001b[0;31m         \u001b[0mprint\u001b[0m\u001b[0;34m(\u001b[0m\u001b[0;34mf\"The {self.animal} says '{self.sound}' \"\u001b[0m\u001b[0;34m)\u001b[0m\u001b[0;34m\u001b[0m\u001b[0;34m\u001b[0m\u001b[0m\n\u001b[0m\u001b[1;32m      7\u001b[0m \u001b[0;34m\u001b[0m\u001b[0m\n\u001b[1;32m      8\u001b[0m \u001b[0;32mclass\u001b[0m \u001b[0mDog\u001b[0m\u001b[0;34m(\u001b[0m\u001b[0mAnimal\u001b[0m\u001b[0;34m)\u001b[0m\u001b[0;34m:\u001b[0m\u001b[0;34m\u001b[0m\u001b[0;34m\u001b[0m\u001b[0m\n",
      "\u001b[0;31mAttributeError\u001b[0m: 'SmallDog' object has no attribute 'animal'"
     ]
    }
   ],
   "source": [
    "class Animal:\n",
    "    def __init__(self):\n",
    "        self.animal = None\n",
    "        self.sound = None\n",
    "    def pull_string(self):\n",
    "        print(f\"The {self.animal} says '{self.sound}' \")\n",
    "\n",
    "class Dog(Animal):\n",
    "    def __init__(self):\n",
    "        self.animal = \"dog\"\n",
    "        self.sound = \"bow bow\"\n",
    "    \n",
    "class SmallDog(Dog):\n",
    "    def __init__(self):\n",
    "        self.sound = \"yap yap\"\n",
    "\n",
    "SmallDog().pull_string()"
   ]
  },
  {
   "cell_type": "markdown",
   "metadata": {},
   "source": [
    "## Method Resolution Order"
   ]
  },
  {
   "cell_type": "code",
   "execution_count": 21,
   "metadata": {
    "scrolled": true
   },
   "outputs": [
    {
     "data": {
      "text/plain": [
       "[__main__.SmallDog, __main__.Dog, __main__.Animal, object]"
      ]
     },
     "execution_count": 21,
     "metadata": {},
     "output_type": "execute_result"
    }
   ],
   "source": [
    "SmallDog.mro()"
   ]
  },
  {
   "cell_type": "markdown",
   "metadata": {},
   "source": [
    "`super(SmallDog, self)` skips over `SmallDog` in the MRO."
   ]
  },
  {
   "cell_type": "code",
   "execution_count": 36,
   "metadata": {},
   "outputs": [
    {
     "name": "stdout",
     "output_type": "stream",
     "text": [
      "The dog says 'yap yap' \n"
     ]
    }
   ],
   "source": [
    "class Animal:\n",
    "    def __init__(self):\n",
    "        self.animal = None\n",
    "        self.sound = None\n",
    "    def pull_string(self):\n",
    "        print(f\"The {self.animal} says '{self.sound}' \")\n",
    "\n",
    "class Dog(Animal):\n",
    "    def __init__(self):\n",
    "        self.animal = \"dog\"\n",
    "        self.sound = \"bow bow\"\n",
    "        \n",
    "class SmallDog(Dog):\n",
    "    def __init__(self):\n",
    "        super(SmallDog,self).__init__()\n",
    "        self.sound = \"yap yap\"\n",
    "SmallDog().pull_string()\n"
   ]
  },
  {
   "cell_type": "markdown",
   "metadata": {},
   "source": [
    "`super(Dog,self)` skips over `Dog`"
   ]
  },
  {
   "cell_type": "code",
   "execution_count": 37,
   "metadata": {},
   "outputs": [
    {
     "name": "stdout",
     "output_type": "stream",
     "text": [
      "The None says 'yap yap' \n"
     ]
    }
   ],
   "source": [
    "class Animal:\n",
    "    def __init__(self):\n",
    "        self.animal = None\n",
    "        self.sound = None\n",
    "    def pull_string(self):\n",
    "        print(f\"The {self.animal} says '{self.sound}' \")\n",
    "\n",
    "class Dog(Animal):\n",
    "    def __init__(self):\n",
    "        self.animal = \"dog\"\n",
    "        self.sound = \"bow bow\"\n",
    "        \n",
    "class SmallDog(Dog):\n",
    "    def __init__(self):\n",
    "        super(Dog,self).__init__()\n",
    "        self.sound = \"yap yap\"\n",
    "\n",
    "SmallDog().pull_string()"
   ]
  },
  {
   "cell_type": "markdown",
   "metadata": {},
   "source": [
    "### Super Shortcut"
   ]
  },
  {
   "cell_type": "code",
   "execution_count": 38,
   "metadata": {},
   "outputs": [
    {
     "name": "stdout",
     "output_type": "stream",
     "text": [
      "The dog says 'yap yap' \n"
     ]
    }
   ],
   "source": [
    "class Animal:\n",
    "    def __init__(self):\n",
    "        self.animal = None\n",
    "        self.sound = None\n",
    "    def pull_string(self):\n",
    "        print(f\"The {self.animal} says '{self.sound}' \")\n",
    "\n",
    "class Dog(Animal):\n",
    "    def __init__(self):\n",
    "        self.animal = \"dog\"\n",
    "        self.sound = \"bow bow\"\n",
    "        \n",
    "class SmallDog(Dog):\n",
    "    def __init__(self):\n",
    "        super().__init__()\n",
    "        self.sound = \"yap yap\"\n",
    "\n",
    "SmallDog().pull_string()"
   ]
  },
  {
   "cell_type": "markdown",
   "metadata": {},
   "source": [
    "## Multiple Inheritance"
   ]
  },
  {
   "cell_type": "code",
   "execution_count": 39,
   "metadata": {},
   "outputs": [
    {
     "ename": "AssertionError",
     "evalue": "Ages must be integers",
     "output_type": "error",
     "traceback": [
      "\u001b[0;31m---------------------------------------------------------------------------\u001b[0m",
      "\u001b[0;31mAssertionError\u001b[0m                            Traceback (most recent call last)",
      "\u001b[0;32m<ipython-input-39-0e6384e19768>\u001b[0m in \u001b[0;36m<module>\u001b[0;34m\u001b[0m\n\u001b[1;32m      5\u001b[0m         \u001b[0mself\u001b[0m\u001b[0;34m.\u001b[0m\u001b[0mname\u001b[0m \u001b[0;34m=\u001b[0m \u001b[0mname\u001b[0m\u001b[0;34m\u001b[0m\u001b[0;34m\u001b[0m\u001b[0m\n\u001b[1;32m      6\u001b[0m         \u001b[0mself\u001b[0m\u001b[0;34m.\u001b[0m\u001b[0mage\u001b[0m \u001b[0;34m=\u001b[0m \u001b[0mage\u001b[0m\u001b[0;34m\u001b[0m\u001b[0;34m\u001b[0m\u001b[0m\n\u001b[0;32m----> 7\u001b[0;31m \u001b[0mhh\u001b[0m \u001b[0;34m=\u001b[0m \u001b[0mHuman\u001b[0m\u001b[0;34m(\u001b[0m\u001b[0;34m\"Tony\"\u001b[0m\u001b[0;34m,\u001b[0m \u001b[0;36m2.5\u001b[0m\u001b[0;34m)\u001b[0m\u001b[0;34m\u001b[0m\u001b[0;34m\u001b[0m\u001b[0m\n\u001b[0m",
      "\u001b[0;32m<ipython-input-39-0e6384e19768>\u001b[0m in \u001b[0;36m__init__\u001b[0;34m(self, name, age)\u001b[0m\n\u001b[1;32m      2\u001b[0m     \u001b[0;32mdef\u001b[0m \u001b[0m__init__\u001b[0m\u001b[0;34m(\u001b[0m\u001b[0mself\u001b[0m\u001b[0;34m,\u001b[0m \u001b[0mname\u001b[0m\u001b[0;34m,\u001b[0m \u001b[0mage\u001b[0m\u001b[0;34m)\u001b[0m\u001b[0;34m:\u001b[0m\u001b[0;34m\u001b[0m\u001b[0;34m\u001b[0m\u001b[0m\n\u001b[1;32m      3\u001b[0m         \u001b[0;32massert\u001b[0m \u001b[0misinstance\u001b[0m\u001b[0;34m(\u001b[0m\u001b[0mname\u001b[0m\u001b[0;34m,\u001b[0m\u001b[0mstr\u001b[0m\u001b[0;34m)\u001b[0m\u001b[0;34m,\u001b[0m \u001b[0;34m\"Names must be strings\"\u001b[0m\u001b[0;34m\u001b[0m\u001b[0;34m\u001b[0m\u001b[0m\n\u001b[0;32m----> 4\u001b[0;31m         \u001b[0;32massert\u001b[0m \u001b[0misinstance\u001b[0m\u001b[0;34m(\u001b[0m\u001b[0mage\u001b[0m\u001b[0;34m,\u001b[0m \u001b[0mint\u001b[0m\u001b[0;34m)\u001b[0m\u001b[0;34m,\u001b[0m \u001b[0;34m\"Ages must be integers\"\u001b[0m\u001b[0;34m\u001b[0m\u001b[0;34m\u001b[0m\u001b[0m\n\u001b[0m\u001b[1;32m      5\u001b[0m         \u001b[0mself\u001b[0m\u001b[0;34m.\u001b[0m\u001b[0mname\u001b[0m \u001b[0;34m=\u001b[0m \u001b[0mname\u001b[0m\u001b[0;34m\u001b[0m\u001b[0;34m\u001b[0m\u001b[0m\n\u001b[1;32m      6\u001b[0m         \u001b[0mself\u001b[0m\u001b[0;34m.\u001b[0m\u001b[0mage\u001b[0m \u001b[0;34m=\u001b[0m \u001b[0mage\u001b[0m\u001b[0;34m\u001b[0m\u001b[0;34m\u001b[0m\u001b[0m\n",
      "\u001b[0;31mAssertionError\u001b[0m: Ages must be integers"
     ]
    }
   ],
   "source": [
    "class Human:\n",
    "    def __init__(self, name, age):\n",
    "        assert isinstance(name,str), \"Names must be strings\"\n",
    "        assert isinstance(age, int), \"Ages must be integers\"\n",
    "        self.name = name\n",
    "        self.age = age\n",
    "hh = Human(\"Tony\", 2.5)"
   ]
  },
  {
   "cell_type": "code",
   "execution_count": 45,
   "metadata": {},
   "outputs": [
    {
     "name": "stdout",
     "output_type": "stream",
     "text": [
      "Pat gives the baby a kiss.\n",
      "Pat is 35 old.\n",
      "Pat sprays water.\n",
      "Pat is 35 old.\n"
     ]
    }
   ],
   "source": [
    "class Human:\n",
    "    def __init__(self, name, age):\n",
    "        assert isinstance(name,str), \"Names must be strings\"\n",
    "        assert isinstance(age, int), \"Ages must be integers\"\n",
    "        self.name = name\n",
    "        self.age = age\n",
    "        \n",
    "    def say_age(self):\n",
    "        print(f\"{self.name} is {self.age} old.\")\n",
    "\n",
    "class Parent(Human):\n",
    "    def kiss(self):\n",
    "        print(f\"{self.name} gives the baby a kiss.\")\n",
    "\n",
    "class Firefighter(Human):\n",
    "    def hose(self):\n",
    "        print(f\"{self.name} sprays water.\")\n",
    "\n",
    "pp = Parent(\"Pat\", 35)\n",
    "ff = Firefighter(\"Pat\", 35)\n",
    "pp.kiss()\n",
    "pp.say_age()\n",
    "ff.hose()\n",
    "ff.say_age()\n"
   ]
  },
  {
   "cell_type": "code",
   "execution_count": 47,
   "metadata": {},
   "outputs": [
    {
     "name": "stdout",
     "output_type": "stream",
     "text": [
      "Pat is 35 old.\n",
      "Pat gives the baby a kiss.\n",
      "Pat sprays water.\n"
     ]
    }
   ],
   "source": [
    "class Human:\n",
    "    def __init__(self, name, age):\n",
    "        assert isinstance(name,str), \"Names must be strings\"\n",
    "        assert isinstance(age, int), \"Ages must be integers\"\n",
    "        self.name = name\n",
    "        self.age = age\n",
    "        \n",
    "    def say_age(self):\n",
    "        print(f\"{self.name} is {self.age} old.\")\n",
    "\n",
    "class Parent(Human):\n",
    "    def kiss(self):\n",
    "        print(f\"{self.name} gives the baby a kiss.\")\n",
    "\n",
    "class Firefighter(Human):\n",
    "    def hose(self):\n",
    "        print(f\"{self.name} sprays water.\")\n",
    "\n",
    "class FirefighterWithKids(Parent, Firefighter):\n",
    "    ...\n",
    "\n",
    "pat = FirefighterWithKids(\"Pat\", 35)\n",
    "pat.say_age()\n",
    "pat.kiss()\n",
    "pat.hose()"
   ]
  },
  {
   "cell_type": "code",
   "execution_count": 48,
   "metadata": {},
   "outputs": [
    {
     "data": {
      "text/plain": [
       "[__main__.FirefighterWithKids,\n",
       " __main__.Parent,\n",
       " __main__.Firefighter,\n",
       " __main__.Human,\n",
       " object]"
      ]
     },
     "execution_count": 48,
     "metadata": {},
     "output_type": "execute_result"
    }
   ],
   "source": [
    "class Human:\n",
    "    def __init__(self, name, age):\n",
    "        assert isinstance(name,str), \"Names must be strings\"\n",
    "        assert isinstance(age, int), \"Ages must be integers\"\n",
    "        self.name = name\n",
    "        self.age = age\n",
    "        \n",
    "    def say_age(self):\n",
    "        print(f\"{self.name} is {self.age} old.\")\n",
    "\n",
    "class Parent(Human):\n",
    "    def kiss(self):\n",
    "        print(f\"{self.name} gives the baby a kiss.\")\n",
    "\n",
    "class Firefighter(Human):\n",
    "    def hose(self):\n",
    "        print(f\"{self.name} sprays water.\")\n",
    "\n",
    "class FirefighterWithKids(Parent, Firefighter):\n",
    "    ...\n",
    "\n",
    "FirefighterWithKids.mro()"
   ]
  },
  {
   "cell_type": "code",
   "execution_count": 64,
   "metadata": {},
   "outputs": [
    {
     "data": {
      "text/plain": [
       "[__main__.CF,\n",
       " __main__.C,\n",
       " __main__.B,\n",
       " __main__.F,\n",
       " __main__.E,\n",
       " __main__.A,\n",
       " object]"
      ]
     },
     "execution_count": 64,
     "metadata": {},
     "output_type": "execute_result"
    }
   ],
   "source": [
    "class A:\n",
    "    ...\n",
    "class B(A):\n",
    "    ...\n",
    "class C(B):\n",
    "    ...\n",
    "class E(A):\n",
    "    ...\n",
    "class F(E):\n",
    "    ...\n",
    "class CF(C, F):\n",
    "    ...\n",
    "\n",
    "CF.mro()"
   ]
  },
  {
   "cell_type": "markdown",
   "metadata": {},
   "source": [
    "### Multiple Inheritance and Initialization\n"
   ]
  },
  {
   "cell_type": "code",
   "execution_count": 85,
   "metadata": {},
   "outputs": [
    {
     "name": "stdout",
     "output_type": "stream",
     "text": [
      "Pat is 35 old.\n",
      "Pat says kiss kiss kiss \n",
      "Pat drives truck 77\n"
     ]
    }
   ],
   "source": [
    "class Human:\n",
    "    def __init__(self, name, age):\n",
    "        assert isinstance(name,str), \"Names must be strings\"\n",
    "        assert isinstance(age, int), \"Ages must be integers\"\n",
    "        self.name = name\n",
    "        self.age = age\n",
    "        \n",
    "    def say_age(self):\n",
    "        print(f\"{self.name} is {self.age} old.\")\n",
    "\n",
    "class Parent(Human):\n",
    "    def __init__(self, name, age, num_kids):\n",
    "        Human.__init__(self, name, age)  ## Call Human __init__\n",
    "        self.num_kids = num_kids\n",
    "        \n",
    "    def kiss(self):\n",
    "        kisses = \"\"\n",
    "        for ii in range(self.num_kids):\n",
    "            kisses+=\"kiss \"\n",
    "        print(f\"{self.name} says {kisses}\")\n",
    "\n",
    "class Firefighter(Human):\n",
    "    def __init__(self, name, age, truck_no):\n",
    "        Human.__init__(self, name, age) ## Call Human __init__\n",
    "        self.truck_no = truck_no\n",
    "    def hose(self):\n",
    "        print(f\"{self.name} drives truck {self.truck_no}\")\n",
    "\n",
    "class FirefighterWithKids(Parent, Firefighter):\n",
    "    def __init__(self, name, age, num_kids, truck_no):\n",
    "        Parent.__init__(self,name, age, num_kids)\n",
    "        Firefighter.__init__(self,name, age, truck_no)\n",
    "\n",
    "pat = FirefighterWithKids(\"Pat\", 35, 3, 77)\n",
    "pat.say_age()\n",
    "pat.kiss()\n",
    "pat.hose()"
   ]
  },
  {
   "cell_type": "code",
   "execution_count": null,
   "metadata": {},
   "outputs": [],
   "source": []
  }
 ],
 "metadata": {
  "kernelspec": {
   "display_name": "Python 3",
   "language": "python",
   "name": "python3"
  },
  "language_info": {
   "codemirror_mode": {
    "name": "ipython",
    "version": 3
   },
   "file_extension": ".py",
   "mimetype": "text/x-python",
   "name": "python",
   "nbconvert_exporter": "python",
   "pygments_lexer": "ipython3",
   "version": "3.8.3"
  }
 },
 "nbformat": 4,
 "nbformat_minor": 4
}
