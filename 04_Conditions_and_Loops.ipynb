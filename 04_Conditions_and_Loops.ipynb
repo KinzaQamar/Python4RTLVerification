{
 "cells": [
  {
   "cell_type": "markdown",
   "source": [
    "# Conditions and loops\n",
    "## `if` statements"
   ],
   "metadata": {}
  },
  {
   "cell_type": "code",
   "execution_count": 5,
   "source": [
    "name=\"Roy\"\n",
    "if name != \"Danny\":\n",
    "    print(\"Hey, you're not Danny.\")"
   ],
   "outputs": [
    {
     "output_type": "stream",
     "name": "stdout",
     "text": [
      "Hey, you're not Danny.\n"
     ]
    }
   ],
   "metadata": {}
  },
  {
   "cell_type": "code",
   "execution_count": 6,
   "source": [
    "name=\"Danny\"\n",
    "if name != \"Danny\":\n",
    "    print(\"Hey, you're not Danny.\")\n",
    "else:\n",
    "    print(\"Hello, Danny!\")"
   ],
   "outputs": [
    {
     "output_type": "stream",
     "name": "stdout",
     "text": [
      "Hello, Danny!\n"
     ]
    }
   ],
   "metadata": {}
  },
  {
   "cell_type": "code",
   "execution_count": null,
   "source": [
    "name = \"Danny\"\n",
    "if name != \"Danny\":\n",
    "    \"\"\"\n",
    "    This is the code\n",
    "    we run if this isn't Danny\n",
    "    \"\"\"\n",
    "    print(\"Hey, you're not Danny.\")\n",
    "else:\n",
    "    print(\"Hello, Danny!\")    \n"
   ],
   "outputs": [],
   "metadata": {}
  },
  {
   "cell_type": "markdown",
   "source": [
    "### `elif` replaces case and switch"
   ],
   "metadata": {}
  },
  {
   "cell_type": "code",
   "execution_count": 7,
   "source": [
    "dinner = \"calamari\"\n",
    "if dinner == \"steak\":\n",
    "    print(\"Malbec\")\n",
    "elif dinner == \"chicken\":\n",
    "    print(\"Pinot Noir\")\n",
    "elif dinner == \"fish\":\n",
    "    print(\"White wine\")\n",
    "else:\n",
    "    print(\"Water for you.\")"
   ],
   "outputs": [
    {
     "output_type": "stream",
     "name": "stdout",
     "text": [
      "Water for you.\n"
     ]
    }
   ],
   "metadata": {}
  },
  {
   "cell_type": "markdown",
   "source": [
    "## Conditional assignment"
   ],
   "metadata": {}
  },
  {
   "cell_type": "code",
   "execution_count": 1,
   "source": [
    "aa = 5\n",
    "message = \"five_val\" if aa == 5 else \"other_val\"\n",
    "print(message)"
   ],
   "outputs": [
    {
     "output_type": "stream",
     "name": "stdout",
     "text": [
      "five_val\n"
     ]
    }
   ],
   "metadata": {}
  },
  {
   "cell_type": "markdown",
   "source": [
    "## `while` loops"
   ],
   "metadata": {}
  },
  {
   "cell_type": "code",
   "execution_count": 13,
   "source": [
    "nn = 1\n",
    "while nn <= 13:\n",
    "    print(nn, end=\" \")\n",
    "    nn += 1"
   ],
   "outputs": [
    {
     "output_type": "stream",
     "name": "stdout",
     "text": [
      "1 2 3 4 5 6 7 8 9 10 11 12 13 "
     ]
    }
   ],
   "metadata": {}
  },
  {
   "cell_type": "markdown",
   "source": [
    "### The `continue` statement"
   ],
   "metadata": {}
  },
  {
   "cell_type": "code",
   "execution_count": 14,
   "source": [
    "nn = 0\n",
    "while nn <= 7:\n",
    "    nn += 1\n",
    "    if (nn % 2) == 0:\n",
    "        continue\n",
    "    print(nn, end=\" \")"
   ],
   "outputs": [
    {
     "output_type": "stream",
     "name": "stdout",
     "text": [
      "1 3 5 7 "
     ]
    }
   ],
   "metadata": {}
  },
  {
   "cell_type": "markdown",
   "source": [
    "### Do-while loops"
   ],
   "metadata": {}
  },
  {
   "cell_type": "code",
   "execution_count": 16,
   "source": [
    "nn = 0\n",
    "while True:\n",
    "    print(nn, end = ' ')\n",
    "    nn += 1\n",
    "    if nn == 5:\n",
    "        break"
   ],
   "outputs": [
    {
     "output_type": "stream",
     "name": "stdout",
     "text": [
      "0 1 2 3 4 "
     ]
    }
   ],
   "metadata": {}
  }
 ],
 "metadata": {
  "kernelspec": {
   "display_name": "Python 3",
   "language": "python",
   "name": "python3"
  },
  "language_info": {
   "codemirror_mode": {
    "name": "ipython",
    "version": 3
   },
   "file_extension": ".py",
   "mimetype": "text/x-python",
   "name": "python",
   "nbconvert_exporter": "python",
   "pygments_lexer": "ipython3",
   "version": "3.8.3"
  }
 },
 "nbformat": 4,
 "nbformat_minor": 4
}