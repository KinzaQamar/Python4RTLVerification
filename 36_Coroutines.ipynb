{
 "cells": [
  {
   "cell_type": "code",
   "execution_count": 1,
   "metadata": {},
   "outputs": [
    {
     "name": "stdout",
     "output_type": "stream",
     "text": [
      "I am DONE waiting!\n",
      "I am DONE waiting!\n"
     ]
    }
   ],
   "source": [
    "import time\n",
    "\n",
    "async def clk():\n",
    "    time.sleep(0.1)\n",
    "\n",
    "async def process():\n",
    "    for _ in range(2):\n",
    "        await clk();\n",
    "        time.sleep(0.2)\n",
    "        print(\"I am DONE waiting!\")\n",
    "\n",
    "await process()\n"
   ]
  },
  {
   "cell_type": "code",
   "execution_count": null,
   "metadata": {},
   "outputs": [],
   "source": []
  }
 ],
 "metadata": {
  "kernelspec": {
   "display_name": "Python 3",
   "language": "python",
   "name": "python3"
  },
  "language_info": {
   "codemirror_mode": {
    "name": "ipython",
    "version": 3
   },
   "file_extension": ".py",
   "mimetype": "text/x-python",
   "name": "python",
   "nbconvert_exporter": "python",
   "pygments_lexer": "ipython3",
   "version": "3.8.3"
  }
 },
 "nbformat": 4,
 "nbformat_minor": 4
}
