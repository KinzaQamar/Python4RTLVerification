{
 "cells": [
  {
   "cell_type": "markdown",
   "metadata": {},
   "source": [
    "# Lists\n",
    "\n",
    "An ordered list."
   ]
  },
  {
   "cell_type": "markdown",
   "metadata": {},
   "source": [
    "Make a list"
   ]
  },
  {
   "cell_type": "code",
   "execution_count": 21,
   "metadata": {},
   "outputs": [
    {
     "name": "stdout",
     "output_type": "stream",
     "text": [
      "['a', 3, ['x', 'y']]\n"
     ]
    }
   ],
   "source": [
    "ll = ['x','y']\n",
    "mylist = ['a',3,ll]\n",
    "print(mylist)"
   ]
  },
  {
   "cell_type": "markdown",
   "metadata": {},
   "source": [
    "`append()`"
   ]
  },
  {
   "cell_type": "code",
   "execution_count": 24,
   "metadata": {},
   "outputs": [
    {
     "name": "stdout",
     "output_type": "stream",
     "text": [
      "[1, 2, 3, 'four']\n"
     ]
    }
   ],
   "source": [
    "alist = [1,2,3]\n",
    "alist.append(\"four\")\n",
    "print(alist)"
   ]
  },
  {
   "cell_type": "markdown",
   "metadata": {},
   "source": [
    "`clear()`"
   ]
  },
  {
   "cell_type": "code",
   "execution_count": 25,
   "metadata": {
    "scrolled": false
   },
   "outputs": [
    {
     "name": "stdout",
     "output_type": "stream",
     "text": [
      "[]\n"
     ]
    }
   ],
   "source": [
    "alist.clear()\n",
    "print(alist)"
   ]
  },
  {
   "cell_type": "markdown",
   "metadata": {},
   "source": [
    "`copy()`"
   ]
  },
  {
   "cell_type": "code",
   "execution_count": 1,
   "metadata": {
    "scrolled": true
   },
   "outputs": [
    {
     "name": "stdout",
     "output_type": "stream",
     "text": [
      "ff id:  140292710536320\n",
      "  id(A) = 140292676488560\n",
      "  id(B) = 140292676202032\n",
      "  id(C) = 140292676201904\n"
     ]
    },
    {
     "ename": "NameError",
     "evalue": "name 'copy_list' is not defined",
     "output_type": "error",
     "traceback": [
      "\u001b[0;31m---------------------------------------------------------------------------\u001b[0m",
      "\u001b[0;31mNameError\u001b[0m                                 Traceback (most recent call last)",
      "\u001b[0;32m<ipython-input-1-bc102e2168cd>\u001b[0m in \u001b[0;36m<module>\u001b[0;34m\u001b[0m\n\u001b[1;32m      6\u001b[0m \u001b[0mcc_list\u001b[0m \u001b[0;34m=\u001b[0m \u001b[0mff_list\u001b[0m\u001b[0;34m.\u001b[0m\u001b[0mcopy\u001b[0m\u001b[0;34m(\u001b[0m\u001b[0;34m)\u001b[0m\u001b[0;34m\u001b[0m\u001b[0;34m\u001b[0m\u001b[0m\n\u001b[1;32m      7\u001b[0m \u001b[0;34m\u001b[0m\u001b[0m\n\u001b[0;32m----> 8\u001b[0;31m \u001b[0mprint\u001b[0m\u001b[0;34m(\u001b[0m\u001b[0;34m\"cc id: \"\u001b[0m\u001b[0;34m,\u001b[0m \u001b[0mid\u001b[0m\u001b[0;34m(\u001b[0m\u001b[0mcopy_list\u001b[0m\u001b[0;34m)\u001b[0m\u001b[0;34m)\u001b[0m\u001b[0;34m\u001b[0m\u001b[0;34m\u001b[0m\u001b[0m\n\u001b[0m\u001b[1;32m      9\u001b[0m \u001b[0;32mfor\u001b[0m \u001b[0mcc\u001b[0m \u001b[0;32min\u001b[0m \u001b[0mcc_list\u001b[0m\u001b[0;34m:\u001b[0m\u001b[0;34m\u001b[0m\u001b[0;34m\u001b[0m\u001b[0m\n\u001b[1;32m     10\u001b[0m     \u001b[0mprint\u001b[0m\u001b[0;34m(\u001b[0m\u001b[0;34mf\"  id({cc}) = {id(cc)}\"\u001b[0m\u001b[0;34m)\u001b[0m\u001b[0;34m\u001b[0m\u001b[0;34m\u001b[0m\u001b[0m\n",
      "\u001b[0;31mNameError\u001b[0m: name 'copy_list' is not defined"
     ]
    }
   ],
   "source": [
    "ff_list = [\"A\", \"B\", \"C\"]\n",
    "print(\"ff id: \", id(ff_list))\n",
    "for ff in ff_list:\n",
    "    print(f\"  id({ff}) = {id(ff)}\")\n",
    "\n",
    "cc_list = ff_list.copy()\n",
    "\n",
    "print(\"cc id: \", id(copy_list))\n",
    "for cc in cc_list:\n",
    "    print(f\"  id({cc}) = {id(cc)}\")"
   ]
  },
  {
   "cell_type": "markdown",
   "metadata": {},
   "source": [
    "Adding"
   ]
  },
  {
   "cell_type": "code",
   "execution_count": 50,
   "metadata": {
    "scrolled": true
   },
   "outputs": [
    {
     "name": "stdout",
     "output_type": "stream",
     "text": [
      "['a', 'aa', 'aaa']\n",
      " pre add id(aa_list): 140271488988224\n",
      "['a', 'aa', 'aaa', 'b', 'bb', 'bbb']\n",
      "post add id(aa_list): 140271489016576\n"
     ]
    }
   ],
   "source": [
    "aa_list = [\"a\",\"aa\",\"aaa\"]\n",
    "print(aa_list)\n",
    "bb_list = [\"b\",\"bb\",\"bbb\"]\n",
    "print(\" pre add id(aa_list):\", id(aa_list))\n",
    "\n",
    "aa_list = aa_list + bb_list\n",
    "\n",
    "print(aa_list)\n",
    "print(\"post add id(aa_list):\", id(aa_list))"
   ]
  },
  {
   "cell_type": "markdown",
   "metadata": {},
   "source": [
    "`extend()`"
   ]
  },
  {
   "cell_type": "code",
   "execution_count": 51,
   "metadata": {},
   "outputs": [
    {
     "name": "stdout",
     "output_type": "stream",
     "text": [
      "['a', 'aa', 'aaa']\n",
      " pre add id(aa_list): 140271489729600\n",
      "['a', 'aa', 'aaa', 'b', 'bb', 'bbb']\n",
      "post add id(aa_list): 140271489729600\n"
     ]
    }
   ],
   "source": [
    "aa_list = [\"a\",\"aa\",\"aaa\"]\n",
    "print(aa_list)\n",
    "bb_list = [\"b\",\"bb\",\"bbb\"]\n",
    "print(\" pre add id(aa_list):\", id(aa_list))\n",
    "\n",
    "aa_list.extend(bb_list)\n",
    "\n",
    "print(aa_list)\n",
    "print(\"post add id(aa_list):\", id(aa_list))"
   ]
  },
  {
   "cell_type": "markdown",
   "metadata": {},
   "source": [
    "`insert()`"
   ]
  },
  {
   "cell_type": "code",
   "execution_count": 52,
   "metadata": {},
   "outputs": [
    {
     "name": "stdout",
     "output_type": "stream",
     "text": [
      "['a', 'b', 'c']\n",
      "['x', 'a', 'b', 'c']\n",
      "['x', 'a', 'b', 'xx', 'c']\n"
     ]
    }
   ],
   "source": [
    "ordered_list = [\"a\",\"b\",\"c\"]\n",
    "print(ordered_list)\n",
    "ordered_list.insert(0, \"x\")\n",
    "print(ordered_list)\n",
    "ordered_list.insert(3,\"xx\")\n",
    "print(ordered_list)"
   ]
  },
  {
   "cell_type": "markdown",
   "metadata": {},
   "source": [
    "`pop()`"
   ]
  },
  {
   "cell_type": "code",
   "execution_count": 56,
   "metadata": {
    "scrolled": true
   },
   "outputs": [
    {
     "name": "stdout",
     "output_type": "stream",
     "text": [
      "pre pop:  ['x', 'a', 'b', 'xx', 'c']\n",
      "POP! c\n",
      "post pop: ['x', 'a', 'b', 'xx']\n",
      "pop(2) b\n",
      "post pop(2): ['x', 'a', 'xx']\n"
     ]
    }
   ],
   "source": [
    "ordered_list = [\"x\",\"a\",\"b\",\"b\",\"c\"]\n",
    "print(\"pre pop: \",ordered_list)\n",
    "print(\"POP!\", ordered_list.pop())\n",
    "print(\"post pop:\",ordered_list)\n",
    "print(\"pop(2)\", ordered_list.pop(2))\n",
    "print(\"post pop(2):\", ordered_list)"
   ]
  },
  {
   "cell_type": "markdown",
   "metadata": {},
   "source": [
    "`remove()`"
   ]
  },
  {
   "cell_type": "code",
   "execution_count": 61,
   "metadata": {},
   "outputs": [
    {
     "name": "stdout",
     "output_type": "stream",
     "text": [
      "['Q', 'b', 'a', 'b', 'c']\n",
      "['Q', 'a', 'b', 'c']\n",
      "['Q', 'a', 'c']\n"
     ]
    },
    {
     "ename": "ValueError",
     "evalue": "list.remove(x): x not in list",
     "output_type": "error",
     "traceback": [
      "\u001b[0;31m---------------------------------------------------------------------------\u001b[0m",
      "\u001b[0;31mValueError\u001b[0m                                Traceback (most recent call last)",
      "\u001b[0;32m<ipython-input-61-6a9aba67fb08>\u001b[0m in \u001b[0;36m<module>\u001b[0;34m\u001b[0m\n\u001b[1;32m      5\u001b[0m \u001b[0malist\u001b[0m\u001b[0;34m.\u001b[0m\u001b[0mremove\u001b[0m\u001b[0;34m(\u001b[0m\u001b[0;34m\"b\"\u001b[0m\u001b[0;34m)\u001b[0m\u001b[0;34m\u001b[0m\u001b[0;34m\u001b[0m\u001b[0m\n\u001b[1;32m      6\u001b[0m \u001b[0mprint\u001b[0m\u001b[0;34m(\u001b[0m\u001b[0malist\u001b[0m\u001b[0;34m)\u001b[0m\u001b[0;34m\u001b[0m\u001b[0;34m\u001b[0m\u001b[0m\n\u001b[0;32m----> 7\u001b[0;31m \u001b[0malist\u001b[0m\u001b[0;34m.\u001b[0m\u001b[0mremove\u001b[0m\u001b[0;34m(\u001b[0m\u001b[0;34m\"b\"\u001b[0m\u001b[0;34m)\u001b[0m\u001b[0;34m\u001b[0m\u001b[0;34m\u001b[0m\u001b[0m\n\u001b[0m",
      "\u001b[0;31mValueError\u001b[0m: list.remove(x): x not in list"
     ]
    }
   ],
   "source": [
    "alist = [\"Q\",\"b\",\"a\",\"b\",\"c\"]\n",
    "print(alist)\n",
    "alist.remove(\"b\")\n",
    "print(alist)\n",
    "alist.remove(\"b\")\n",
    "print(alist)\n",
    "alist.remove(\"b\")"
   ]
  },
  {
   "cell_type": "markdown",
   "metadata": {},
   "source": [
    "`reverse()`"
   ]
  },
  {
   "cell_type": "code",
   "execution_count": 63,
   "metadata": {},
   "outputs": [
    {
     "name": "stdout",
     "output_type": "stream",
     "text": [
      "original slist:  ['1st', '2nd', '3rd']\n",
      "reversed slist: ['3rd', '2nd', '1st']\n"
     ]
    }
   ],
   "source": [
    "slist=[\"1st\",\"2nd\",\"3rd\"]\n",
    "print(\"original slist: \", slist)\n",
    "slist.reverse()\n",
    "print(\"reversed slist:\", slist)"
   ]
  },
  {
   "cell_type": "markdown",
   "metadata": {},
   "source": [
    "`sort()` and `sorted()`"
   ]
  },
  {
   "cell_type": "code",
   "execution_count": 70,
   "metadata": {},
   "outputs": [
    {
     "name": "stdout",
     "output_type": "stream",
     "text": [
      "orig id:   140271489883456\n",
      "amazing xmen: ['Nightcrawler', 'Cyclops', 'Wolverine', 'Storm']\n",
      "sorted id: 140271489883456\n",
      "sorted  xmen: ['Cyclops', 'Nightcrawler', 'Storm', 'Wolverine']\n",
      "orig id:  140271489881024\n",
      "Avengers: ['Ironman', 'Hulk', 'Hawkeye', 'Thor']\n",
      "sorted id: 140271489861504\n",
      "Avengers: ['Hawkeye', 'Hulk', 'Ironman', 'Thor']\n"
     ]
    }
   ],
   "source": [
    "xmen=[\"Nightcrawler\", \"Cyclops\", \"Wolverine\", \"Storm\"]\n",
    "print(\"orig id:  \", id(xmen))\n",
    "print(\"amazing xmen:\", xmen)\n",
    "xmen.sort()\n",
    "print(\"sorted id:\", id(xmen))\n",
    "print(\"sorted  xmen:\", xmen)\n",
    "\n",
    "avengers = [\"Ironman\", \"Hulk\", \"Hawkeye\", \"Thor\"]\n",
    "print(\"orig id: \", id(avengers))\n",
    "print(\"Avengers:\", avengers)\n",
    "avengers = sorted(avengers)\n",
    "print(\"sorted id:\",id(avengers))\n",
    "print(\"Avengers:\", avengers)"
   ]
  },
  {
   "cell_type": "code",
   "execution_count": null,
   "metadata": {},
   "outputs": [],
   "source": []
  }
 ],
 "metadata": {
  "kernelspec": {
   "display_name": "Python 3",
   "language": "python",
   "name": "python3"
  },
  "language_info": {
   "codemirror_mode": {
    "name": "ipython",
    "version": 3
   },
   "file_extension": ".py",
   "mimetype": "text/x-python",
   "name": "python",
   "nbconvert_exporter": "python",
   "pygments_lexer": "ipython3",
   "version": "3.8.3"
  }
 },
 "nbformat": 4,
 "nbformat_minor": 4
}
