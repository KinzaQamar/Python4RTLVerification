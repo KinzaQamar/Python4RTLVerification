{
 "cells": [
  {
   "cell_type": "code",
   "execution_count": 1,
   "metadata": {},
   "outputs": [
    {
     "name": "stderr",
     "output_type": "stream",
     "text": [
      "ERROR: <ipython-input-1-e087adc2ab9d>(41)[uvm_test_top]: FAILED: b9 MUL 27 = 1c30 expected 1c2f\n",
      "INFO: <ipython-input-1-e087adc2ab9d>(39)[uvm_test_top]: PASSED: b1 MUL 64 = 4524\n",
      "INFO: <ipython-input-1-e087adc2ab9d>(39)[uvm_test_top]: PASSED: cb ADD 9b = 0166\n",
      "ERROR: <ipython-input-1-e087adc2ab9d>(41)[uvm_test_top]: FAILED: 54 NOP 4b = 0055 expected 0054\n",
      "ERROR: <ipython-input-1-e087adc2ab9d>(41)[uvm_test_top]: FAILED: 44 MUL dd = 3ab5 expected 3ab4\n",
      "ERROR: <ipython-input-1-e087adc2ab9d>(43)[uvm_test_top]: Functional coverage error. Missed: {<Ops.AND: 2>, <Ops.XOR: 3>}\n"
     ]
    }
   ],
   "source": [
    "from pyuvm import *\n",
    "from tb_pkg import *\n",
    "import random\n",
    "import time\n",
    "\n",
    "class alu_test(uvm_test):\n",
    "    @staticmethod\n",
    "    def alu_op(A, B, op, is_dut = False):\n",
    "        \"\"\"TLM model of the TinyALU\"\"\"\n",
    "        assert isinstance(op, Ops), \"The tinyalu op must be of type ops\"\n",
    "        if op == Ops.NOP:\n",
    "            result =  A\n",
    "        elif op == Ops.ADD:\n",
    "            result = A + B\n",
    "        elif op == Ops.AND:\n",
    "            result = A & B\n",
    "        elif op == Ops.XOR:\n",
    "            result = A ^ B\n",
    "        elif op == Ops.MUL:\n",
    "            result = A * B\n",
    "        if is_dut:\n",
    "            time.sleep(0.1)\n",
    "            if is_dut and (random.randint(0,3) == 0):\n",
    "                result = result + 1\n",
    "        return result\n",
    "\n",
    "    def run_phase(self):\n",
    "        self.raise_objection()\n",
    "        logging.basicConfig(level=logging.INFO)\n",
    "        cvg = set() #functional coverage\n",
    "        for _ in range(5):\n",
    "            A = random.randrange(256)\n",
    "            B = random.randrange(256)\n",
    "            op = random.choice(list(Ops))\n",
    "            cvg.add(op)\n",
    "            predicted_result = self.alu_op(A, B, op)\n",
    "            actual_result = self.alu_op(A, B, op, is_dut=True)\n",
    "            if predicted_result == actual_result:\n",
    "                self.logger.info( f\"PASSED: {A:02x} {op.name} {B:02x} = {actual_result:04x}\")\n",
    "            else:\n",
    "                self.logger.error(f\"FAILED: {A:02x} {op.name} {B:02x} = {actual_result:04x} expected {predicted_result:04x}\")\n",
    "        if len(set(Ops) - cvg) > 0:\n",
    "            self.logger.error(f\"Functional coverage error. Missed: {set(Ops)-cvg}\")\n",
    "        self.drop_objection()\n",
    "uvm_root().run_test(\"alu_test\")"
   ]
  },
  {
   "cell_type": "code",
   "execution_count": null,
   "metadata": {},
   "outputs": [],
   "source": []
  },
  {
   "cell_type": "code",
   "execution_count": null,
   "metadata": {},
   "outputs": [],
   "source": []
  }
 ],
 "metadata": {
  "kernelspec": {
   "display_name": "Python 3",
   "language": "python",
   "name": "python3"
  },
  "language_info": {
   "codemirror_mode": {
    "name": "ipython",
    "version": 3
   },
   "file_extension": ".py",
   "mimetype": "text/x-python",
   "name": "python",
   "nbconvert_exporter": "python",
   "pygments_lexer": "ipython3",
   "version": "3.8.3"
  }
 },
 "nbformat": 4,
 "nbformat_minor": 4
}
