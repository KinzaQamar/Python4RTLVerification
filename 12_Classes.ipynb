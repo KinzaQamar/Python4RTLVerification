{
 "cells": [
  {
   "cell_type": "markdown",
   "metadata": {},
   "source": [
    "# Classes\n",
    "\n",
    "## Defining a Classes in Python"
   ]
  },
  {
   "cell_type": "code",
   "execution_count": 11,
   "metadata": {},
   "outputs": [],
   "source": [
    "class EmptyClass:\n",
    "    \"\"\"This class defines nothing\"\"\"\n",
    "    ..."
   ]
  },
  {
   "cell_type": "code",
   "execution_count": 14,
   "metadata": {},
   "outputs": [
    {
     "name": "stdout",
     "output_type": "stream",
     "text": [
      "1000\n"
     ]
    }
   ],
   "source": [
    "class Animal:\n",
    "    \"\"\"Holds a generic Animal\"\"\"\n",
    "    def __init__(self, kg):\n",
    "        \"\"\"Initializes the animal object\"\"\"\n",
    "        self.kg = kg\n",
    "\n",
    "walrus = Animal(1000)\n",
    "print(walrus.kg)"
   ]
  },
  {
   "cell_type": "markdown",
   "metadata": {},
   "source": [
    "## The self Variable"
   ]
  },
  {
   "cell_type": "code",
   "execution_count": 16,
   "metadata": {},
   "outputs": [
    {
     "name": "stdout",
     "output_type": "stream",
     "text": [
      "id of self   140344109208480\n",
      "id of coyote 140344109208480\n"
     ]
    }
   ],
   "source": [
    "class Animal:\n",
    "    \"\"\"Holds a generic Animal\"\"\"\n",
    "    def __init__(self, kg):\n",
    "        \"\"\"Initializes the animal object\"\"\"\n",
    "        self.kg = kg\n",
    "        print(\"id of self  \", id(self))\n",
    "\n",
    "coyote = Animal(15)\n",
    "print(\"id of coyote\",id(coyote))"
   ]
  },
  {
   "cell_type": "markdown",
   "metadata": {},
   "source": [
    "## Common Methods"
   ]
  },
  {
   "cell_type": "code",
   "execution_count": 23,
   "metadata": {
    "scrolled": true
   },
   "outputs": [
    {
     "data": {
      "text/plain": [
       "['__abstractmethods__',\n",
       " '__base__',\n",
       " '__bases__',\n",
       " '__basicsize__',\n",
       " '__call__',\n",
       " '__class__',\n",
       " '__delattr__',\n",
       " '__dict__',\n",
       " '__dictoffset__',\n",
       " '__dir__',\n",
       " '__doc__',\n",
       " '__eq__',\n",
       " '__flags__',\n",
       " '__format__',\n",
       " '__ge__',\n",
       " '__getattribute__',\n",
       " '__gt__',\n",
       " '__hash__',\n",
       " '__init__',\n",
       " '__init_subclass__',\n",
       " '__instancecheck__',\n",
       " '__itemsize__',\n",
       " '__le__',\n",
       " '__lt__',\n",
       " '__module__',\n",
       " '__mro__',\n",
       " '__name__',\n",
       " '__ne__',\n",
       " '__new__',\n",
       " '__prepare__',\n",
       " '__qualname__',\n",
       " '__reduce__',\n",
       " '__reduce_ex__',\n",
       " '__repr__',\n",
       " '__setattr__',\n",
       " '__sizeof__',\n",
       " '__str__',\n",
       " '__subclasscheck__',\n",
       " '__subclasses__',\n",
       " '__subclasshook__',\n",
       " '__text_signature__',\n",
       " '__weakrefoffset__',\n",
       " 'mro']"
      ]
     },
     "execution_count": 23,
     "metadata": {},
     "output_type": "execute_result"
    }
   ],
   "source": [
    "dir(type)"
   ]
  },
  {
   "cell_type": "code",
   "execution_count": 24,
   "metadata": {},
   "outputs": [
    {
     "data": {
      "text/plain": [
       "43"
      ]
     },
     "execution_count": 24,
     "metadata": {},
     "output_type": "execute_result"
    }
   ],
   "source": [
    "len(dir(type))"
   ]
  },
  {
   "cell_type": "markdown",
   "metadata": {},
   "source": [
    "## Initializing an Object"
   ]
  },
  {
   "cell_type": "code",
   "execution_count": 29,
   "metadata": {},
   "outputs": [
    {
     "data": {
      "text/plain": [
       "{'kg'}"
      ]
     },
     "execution_count": 29,
     "metadata": {},
     "output_type": "execute_result"
    }
   ],
   "source": [
    "class Animal:\n",
    "    \"\"\"Holds a generic Animal\"\"\"\n",
    "    def __init__(self, kg):\n",
    "        \"\"\"Initializes the animal object\"\"\"\n",
    "        self.kg = kg\n",
    "\n",
    "cat = Animal(3)\n",
    "set(dir(cat)) - set(dir(Animal))"
   ]
  },
  {
   "cell_type": "code",
   "execution_count": 32,
   "metadata": {},
   "outputs": [
    {
     "data": {
      "text/plain": [
       "{'kg'}"
      ]
     },
     "execution_count": 32,
     "metadata": {},
     "output_type": "execute_result"
    }
   ],
   "source": [
    "class Animal:\n",
    "    \"\"\"Empty animal\"\"\"\n",
    "    ...\n",
    "\n",
    "cat = Animal()\n",
    "cat.kg = 3\n",
    "set(dir(cat)) - set(dir(Animal))"
   ]
  },
  {
   "cell_type": "markdown",
   "metadata": {},
   "source": [
    "## Class Variables"
   ]
  },
  {
   "cell_type": "code",
   "execution_count": 36,
   "metadata": {},
   "outputs": [
    {
     "name": "stdout",
     "output_type": "stream",
     "text": [
      "0\n",
      "3\n"
     ]
    }
   ],
   "source": [
    "class ALUTransaction:\n",
    "    NOP = 0\n",
    "    ADD = 1\n",
    "    AND = 2\n",
    "    XOR = 3\n",
    "    MUL = 4\n",
    "    def __init__(self):\n",
    "        self.op = self.NOP\n",
    "\n",
    "txn = ALUTransaction()\n",
    "print(txn.op)\n",
    "print(ALUTransaction.XOR)"
   ]
  },
  {
   "cell_type": "markdown",
   "metadata": {},
   "source": [
    "## Defining Methods"
   ]
  },
  {
   "cell_type": "code",
   "execution_count": 44,
   "metadata": {},
   "outputs": [
    {
     "name": "stdout",
     "output_type": "stream",
     "text": [
      "cc's area: 10.00\n"
     ]
    }
   ],
   "source": [
    "class Circle:\n",
    "    \"\"\"Holds a circle and calculates its area\"\"\"\n",
    "    PI = 3.14159 # Who doesn't like pi?\n",
    "    def __init__(self, x, y, radius):\n",
    "        self.x = x\n",
    "        self.y = y\n",
    "        self.radius = radius\n",
    "    \n",
    "    def area(self):\n",
    "        \"\"\"Calculate a circles's area\"\"\"\n",
    "        return self.PI * (self.radius ** 2)\n",
    "\n",
    "cc = Circle(0,0,1.78412)\n",
    "print(f\"cc's area: {cc.area():.2f}\")"
   ]
  },
  {
   "cell_type": "markdown",
   "metadata": {},
   "source": [
    "## Class Methods"
   ]
  },
  {
   "cell_type": "code",
   "execution_count": 52,
   "metadata": {},
   "outputs": [
    {
     "name": "stdout",
     "output_type": "stream",
     "text": [
      "t1 average: 10.00\n",
      "t2 average: 30.00\n",
      "overall avg:20.00\n"
     ]
    }
   ],
   "source": [
    "def avg(temps):\n",
    "    temp = 0\n",
    "    for tt in temps:\n",
    "        temp += tt\n",
    "    return temp/len(temps)\n",
    "\n",
    "class Thermometer:\n",
    "    all_temps = []  # List of all temperatures\n",
    "    \n",
    "    def __init__(self):\n",
    "        self.my_temps = [] # List of this object's temperatures\n",
    "        \n",
    "    def add_temp(self, temp):\n",
    "        self.my_temps.append(temp)\n",
    "        self.all_temps.append(temp)\n",
    "    \n",
    "    def my_avg(self):\n",
    "        return avg(self.my_temps)\n",
    "    \n",
    "    @classmethod\n",
    "    def all_avg(cls):\n",
    "        return avg(cls.all_temps)\n",
    "\n",
    "t1 = Thermometer()\n",
    "t2 = Thermometer()\n",
    "\n",
    "# Loop through tuples of temp1 and temp2\n",
    "for temp1, temp2 in [(0, 20), (10, 30), (20, 40)]:\n",
    "    t1.add_temp(temp1)\n",
    "    t2.add_temp(temp2)\n",
    "\n",
    "print(f\"t1 average: {t1.my_avg():.2f}\")\n",
    "print(f\"t2 average: {t2.my_avg():.2f}\")\n",
    "print(f\"overall avg:{Thermometer.all_avg():.2f}\")\n",
    "            "
   ]
  },
  {
   "cell_type": "markdown",
   "metadata": {},
   "source": [
    "## Static Methods"
   ]
  },
  {
   "cell_type": "code",
   "execution_count": 53,
   "metadata": {},
   "outputs": [
    {
     "name": "stdout",
     "output_type": "stream",
     "text": [
      "t1 average: 10.00\n",
      "t2 average: 30.00\n",
      "overall avg:20.00\n"
     ]
    }
   ],
   "source": [
    "\n",
    "class Thermometer:\n",
    "    all_temps = []  # List of all temperatures\n",
    "    \n",
    "    def __init__(self):\n",
    "        self.my_temps = [] # List of this object's temperatures\n",
    "        \n",
    "    @staticmethod\n",
    "    def avg(temps):\n",
    "        temp = 0\n",
    "        for tt in temps:\n",
    "            temp += tt\n",
    "        return temp/len(temps)\n",
    "\n",
    "\n",
    "    def add_temp(self, temp):\n",
    "        self.my_temps.append(temp)\n",
    "        self.all_temps.append(temp)\n",
    "    \n",
    "    def my_avg(self):\n",
    "        return self.avg(self.my_temps)\n",
    "    \n",
    "    @classmethod\n",
    "    def all_avg(cls):\n",
    "        return cls.avg(cls.all_temps)\n",
    "\n",
    "t1 = Thermometer()\n",
    "t2 = Thermometer()\n",
    "\n",
    "# Loop through tuples of temp1 and temp2\n",
    "for temp1, temp2 in [(0, 20), (10, 30), (20, 40)]:\n",
    "    t1.add_temp(temp1)\n",
    "    t2.add_temp(temp2)\n",
    "\n",
    "print(f\"t1 average: {t1.my_avg():.2f}\")\n",
    "print(f\"t2 average: {t2.my_avg():.2f}\")\n",
    "print(f\"overall avg:{Thermometer.all_avg():.2f}\")\n",
    "            "
   ]
  },
  {
   "cell_type": "code",
   "execution_count": null,
   "metadata": {},
   "outputs": [],
   "source": []
  }
 ],
 "metadata": {
  "kernelspec": {
   "display_name": "Python 3",
   "language": "python",
   "name": "python3"
  },
  "language_info": {
   "codemirror_mode": {
    "name": "ipython",
    "version": 3
   },
   "file_extension": ".py",
   "mimetype": "text/x-python",
   "name": "python",
   "nbconvert_exporter": "python",
   "pygments_lexer": "ipython3",
   "version": "3.8.3"
  }
 },
 "nbformat": 4,
 "nbformat_minor": 4
}
