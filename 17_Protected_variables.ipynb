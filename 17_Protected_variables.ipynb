{
 "cells": [
  {
   "cell_type": "markdown",
   "source": [
    "# Protected variables and properties"
   ],
   "metadata": {}
  },
  {
   "cell_type": "code",
   "execution_count": 1,
   "source": [
    "class Temperature:\n",
    "    def __init__(self, temp):\n",
    "        self.temp = temp\n",
    "    \n",
    "    def to_f(self):\n",
    "        ft = self.temp * 9 / 5 + 32\n",
    "    \n",
    "    def to_c(self):\n",
    "        return self.temp\n",
    "\n",
    "tt = Temperature(0)\n",
    "# Later in the code\n",
    "tt.temp = 32 \n",
    "print(f\"Freezing is {tt.to_c()}℃\")"
   ],
   "outputs": [
    {
     "output_type": "stream",
     "name": "stdout",
     "text": [
      "Freezing is 32℃\n"
     ]
    }
   ],
   "metadata": {}
  },
  {
   "cell_type": "markdown",
   "source": [
    "## Protected Variables"
   ],
   "metadata": {}
  },
  {
   "cell_type": "code",
   "execution_count": 2,
   "source": [
    "class Temperature:\n",
    "    def __init__(self, temp):\n",
    "        self._temp = temp\n",
    "    \n",
    "    def set_c_temp(self, c_temp):\n",
    "        self._temp = c_temp\n",
    "        \n",
    "    def set_f_temp(self, f_temp):\n",
    "        self._temp = (f_temp - 32) * 5 / 9\n",
    "\n",
    "    def get_f_temp(self):\n",
    "        ft = self._temp * 9 / 5 + 32\n",
    "    \n",
    "    def get_c_temp(self):\n",
    "        return self._temp\n",
    "\n",
    "tt = Temperature(0)\n",
    "tt._temp = 32  #No! Bad programmer!\n",
    "print(f\"Freezing is {tt.get_c_temp()}℃\")"
   ],
   "outputs": [
    {
     "output_type": "stream",
     "name": "stdout",
     "text": [
      "Freezing is 32℃\n"
     ]
    }
   ],
   "metadata": {
    "scrolled": true
   }
  },
  {
   "cell_type": "markdown",
   "source": [
    "## Private Variables"
   ],
   "metadata": {}
  },
  {
   "cell_type": "code",
   "execution_count": 5,
   "source": [
    "class Temperature:\n",
    "    def __init__(self, temp):\n",
    "        self.__temp = temp\n",
    "    \n",
    "    def set_c_temp(self, c_temp):\n",
    "        self.__temp = c_temp\n",
    "        \n",
    "    def set_f_temp(self, f_temp):\n",
    "        self.__temp = (f_temp - 32) * 5 / 9\n",
    "\n",
    "    def get_f_temp(self):\n",
    "        ft = self.__temp * 9 / 5 + 32\n",
    "    \n",
    "    def get_c_temp(self):\n",
    "        return self.__temp\n",
    "\n",
    "tt = Temperature(0)\n",
    "tt.__temp = 32 # Bad programmer!\n",
    "print (\"Temp in Celsius:\", tt.get_c_temp()) \n",
    "dir(tt)"
   ],
   "outputs": [
    {
     "output_type": "stream",
     "name": "stdout",
     "text": [
      "Temp in Celsius: 0\n"
     ]
    },
    {
     "output_type": "execute_result",
     "data": {
      "text/plain": [
       "['_Temperature__temp',\n",
       " '__class__',\n",
       " '__delattr__',\n",
       " '__dict__',\n",
       " '__dir__',\n",
       " '__doc__',\n",
       " '__eq__',\n",
       " '__format__',\n",
       " '__ge__',\n",
       " '__getattribute__',\n",
       " '__gt__',\n",
       " '__hash__',\n",
       " '__init__',\n",
       " '__init_subclass__',\n",
       " '__le__',\n",
       " '__lt__',\n",
       " '__module__',\n",
       " '__ne__',\n",
       " '__new__',\n",
       " '__reduce__',\n",
       " '__reduce_ex__',\n",
       " '__repr__',\n",
       " '__setattr__',\n",
       " '__sizeof__',\n",
       " '__str__',\n",
       " '__subclasshook__',\n",
       " '__temp',\n",
       " '__weakref__',\n",
       " 'get_c_temp',\n",
       " 'get_f_temp',\n",
       " 'set_c_temp',\n",
       " 'set_f_temp']"
      ]
     },
     "metadata": {},
     "execution_count": 5
    }
   ],
   "metadata": {}
  },
  {
   "cell_type": "markdown",
   "source": [
    "## Properties"
   ],
   "metadata": {}
  },
  {
   "cell_type": "code",
   "execution_count": 16,
   "source": [
    "class Temperature:\n",
    "    def __init__(self, c_temp=None):\n",
    "        self.__temp = c_temp\n",
    "    \n",
    "    @property   \n",
    "    def c_temp(self):\n",
    "        if self.__temp is None:\n",
    "            print(\"No temperature set\")\n",
    "        return self.__temp\n",
    "\n",
    "    \n",
    "    @c_temp.setter\n",
    "    def c_temp(self, c_temp):\n",
    "        self.__temp = c_temp\n",
    "        \n",
    "    @property\n",
    "    def f_temp(self):\n",
    "        if self.__temp is None:\n",
    "            print(\"No temperature set\")\n",
    "            return None\n",
    "        return self.__temp * 9 / 5 + 32\n",
    "\n",
    "    @f_temp.setter\n",
    "    def f_temp(self, f_temp):\n",
    "        self.__temp = (f_temp - 32) * 5 / 9\n",
    "    \n",
    "tt = Temperature()\n",
    "print(\"Try to access without a temperature\")\n",
    "print(\"Temperature in C:\", tt.c_temp)\n",
    "print(\"set c_temp to 0\")\n",
    "tt.c_temp = 0\n",
    "print(\"Freezing point in F:\", tt.f_temp)\n",
    "print(\"Set F_temp To 212\")\n",
    "tt.F_temp = 212\n",
    "print(\"Boiling Point In C:\", tt.c_temp)"
   ],
   "outputs": [
    {
     "output_type": "stream",
     "name": "stdout",
     "text": [
      "Try to access without a temperature\n",
      "No temperature set\n",
      "Temperature in C: None\n",
      "set c_temp to 0\n",
      "Freezing point in F: 32.0\n",
      "set c_temp to 100\n",
      "Boiling point in C: 100.0\n"
     ]
    }
   ],
   "metadata": {}
  },
  {
   "cell_type": "code",
   "execution_count": null,
   "source": [],
   "outputs": [],
   "metadata": {}
  }
 ],
 "metadata": {
  "kernelspec": {
   "display_name": "Python 3.8.3 64-bit ('base': conda)",
   "language": "python",
   "name": "python383jvsc74a57bd0d24816daa5bfd7761e7ebb7f877a675ac56b46db76906dba43079628f1df08b6"
  },
  "language_info": {
   "codemirror_mode": {
    "name": "ipython",
    "version": 3
   },
   "file_extension": ".py",
   "mimetype": "text/x-python",
   "name": "python",
   "nbconvert_exporter": "python",
   "pygments_lexer": "ipython3",
   "version": "3.8.3"
  }
 },
 "nbformat": 4,
 "nbformat_minor": 4
}